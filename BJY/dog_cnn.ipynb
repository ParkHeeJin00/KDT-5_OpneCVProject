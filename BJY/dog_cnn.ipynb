{
 "cells": [
  {
   "cell_type": "markdown",
   "source": [
    "### 개 품종 분류\n",
    "- 딥러닝 팀 프로젝트 코드 수정본\n",
    "- 데이터 출처 : https://www.kaggle.com/datasets/amandam1/120-dog-breeds-breed-classification\n",
    "\n",
    "개발 포인트\n",
    "- ImageFolder\n",
    "- Transforms\n",
    "- DataLoader\n",
    "- WeightedRandomSampler\n",
    "- CNN"
   ],
   "metadata": {
    "collapsed": false
   },
   "id": "90d4baaead58005d"
  },
  {
   "cell_type": "markdown",
   "source": [
    "(1) 데이터 준비 (Dataset / ImageFolder, DataLoader)"
   ],
   "metadata": {
    "collapsed": false
   },
   "id": "f06b025723835c7a"
  },
  {
   "cell_type": "code",
   "outputs": [
    {
     "name": "stderr",
     "output_type": "stream",
     "text": [
      "C:\\Users\\kdp\\.conda\\envs\\Torch_38\\lib\\site-packages\\torchvision\\io\\image.py:13: UserWarning: Failed to load image Python extension: '[WinError 127] 지정된 프로시저를 찾을 수 없습니다'If you don't plan on using image functionality from `torchvision.io`, you can ignore this warning. Otherwise, there might be something wrong with your environment. Did you have `libjpeg` or `libpng` installed before building `torchvision` from source?\n",
      "  warn(\n"
     ]
    }
   ],
   "source": [
    "from PIL import Image\n",
    "import torchvision.transforms as transforms"
   ],
   "metadata": {
    "collapsed": false,
    "ExecuteTime": {
     "end_time": "2024-03-27T05:50:36.150107400Z",
     "start_time": "2024-03-27T05:50:33.892447500Z"
    }
   },
   "id": "21ffe79c5394bde4",
   "execution_count": 2
  },
  {
   "cell_type": "code",
   "outputs": [],
   "source": [
    "### 데이터셋에 적용할 변환(전처리) 설정\n",
    "preprocessing = transforms.Compose([\n",
    "    transforms.Resize((30, 30)),    # 30x30 크기\n",
    "    transforms.ToTensor()\n",
    "])"
   ],
   "metadata": {
    "collapsed": false,
    "ExecuteTime": {
     "end_time": "2024-03-27T05:50:37.785657500Z",
     "start_time": "2024-03-27T05:50:37.753473500Z"
    }
   },
   "id": "4a46b582bc8433b9",
   "execution_count": 3
  },
  {
   "cell_type": "code",
   "outputs": [],
   "source": [
    "from torchvision.datasets import ImageFolder"
   ],
   "metadata": {
    "collapsed": false,
    "ExecuteTime": {
     "end_time": "2024-03-27T05:50:38.465139800Z",
     "start_time": "2024-03-27T05:50:38.406870300Z"
    }
   },
   "id": "e11c3aaa0724fcc3",
   "execution_count": 4
  },
  {
   "cell_type": "code",
   "outputs": [],
   "source": [
    "### 데이터셋 생성\n",
    "# img_root = './Images-resized'\n",
    "img_root = './modified/BIG'\n",
    "\n",
    "imgDS = ImageFolder(root=img_root, transform=preprocessing)"
   ],
   "metadata": {
    "collapsed": false,
    "ExecuteTime": {
     "end_time": "2024-03-27T05:50:38.972541700Z",
     "start_time": "2024-03-27T05:50:38.820962400Z"
    }
   },
   "id": "6f5fd5efc76203b3",
   "execution_count": 5
  },
  {
   "cell_type": "code",
   "outputs": [
    {
     "data": {
      "text/plain": "2030"
     },
     "execution_count": 6,
     "metadata": {},
     "output_type": "execute_result"
    }
   ],
   "source": [
    "len(imgDS)"
   ],
   "metadata": {
    "collapsed": false,
    "ExecuteTime": {
     "end_time": "2024-03-27T05:50:39.370978400Z",
     "start_time": "2024-03-27T05:50:39.301860500Z"
    }
   },
   "id": "f06c0d121d2bfe4c",
   "execution_count": 6
  },
  {
   "cell_type": "code",
   "outputs": [
    {
     "data": {
      "text/plain": "torchvision.datasets.folder.ImageFolder"
     },
     "execution_count": 7,
     "metadata": {},
     "output_type": "execute_result"
    }
   ],
   "source": [
    "type(imgDS)"
   ],
   "metadata": {
    "collapsed": false,
    "ExecuteTime": {
     "end_time": "2024-03-27T05:50:39.727059700Z",
     "start_time": "2024-03-27T05:50:39.668766800Z"
    }
   },
   "id": "bff6e61a657a059b",
   "execution_count": 7
  },
  {
   "cell_type": "code",
   "outputs": [
    {
     "data": {
      "text/plain": "['AfricanHuntingDog_big',\n 'Airedale_big',\n 'Appenzeller_big',\n 'Basset_big',\n 'BerneseMountainDog_big',\n 'BlackAndTanCoonhound_big',\n 'BlenheimSpaniel_big',\n 'Bloodhound_big',\n 'Bluetick_big',\n 'Borzoi_big',\n 'BouvierDesFlandres_big',\n 'Boxer_big']"
     },
     "execution_count": 8,
     "metadata": {},
     "output_type": "execute_result"
    }
   ],
   "source": [
    "imgDS.classes"
   ],
   "metadata": {
    "collapsed": false,
    "ExecuteTime": {
     "end_time": "2024-03-27T05:50:40.169501400Z",
     "start_time": "2024-03-27T05:50:40.111866700Z"
    }
   },
   "id": "21d226564fec88b",
   "execution_count": 8
  },
  {
   "cell_type": "code",
   "outputs": [
    {
     "data": {
      "text/plain": "{'AfricanHuntingDog_big': 0,\n 'Airedale_big': 1,\n 'Appenzeller_big': 2,\n 'Basset_big': 3,\n 'BerneseMountainDog_big': 4,\n 'BlackAndTanCoonhound_big': 5,\n 'BlenheimSpaniel_big': 6,\n 'Bloodhound_big': 7,\n 'Bluetick_big': 8,\n 'Borzoi_big': 9,\n 'BouvierDesFlandres_big': 10,\n 'Boxer_big': 11}"
     },
     "execution_count": 9,
     "metadata": {},
     "output_type": "execute_result"
    }
   ],
   "source": [
    "imgDS.class_to_idx  # 클래스 이름 : 해당 인덱스"
   ],
   "metadata": {
    "collapsed": false,
    "ExecuteTime": {
     "end_time": "2024-03-27T05:50:40.639213400Z",
     "start_time": "2024-03-27T05:50:40.580046500Z"
    }
   },
   "id": "d334f35f6e4fcf25",
   "execution_count": 9
  },
  {
   "cell_type": "code",
   "outputs": [
    {
     "data": {
      "text/plain": "dict"
     },
     "execution_count": 10,
     "metadata": {},
     "output_type": "execute_result"
    }
   ],
   "source": [
    "type(imgDS.class_to_idx)"
   ],
   "metadata": {
    "collapsed": false,
    "ExecuteTime": {
     "end_time": "2024-03-27T05:50:41.380419400Z",
     "start_time": "2024-03-27T05:50:41.320608300Z"
    }
   },
   "id": "64f5037ae6bf7812",
   "execution_count": 10
  },
  {
   "cell_type": "code",
   "outputs": [
    {
     "data": {
      "text/plain": "[('./modified/BIG\\\\AfricanHuntingDog_big\\\\n02116738_10024.png', 0),\n ('./modified/BIG\\\\AfricanHuntingDog_big\\\\n02116738_10038.png', 0),\n ('./modified/BIG\\\\AfricanHuntingDog_big\\\\n02116738_10081.png', 0),\n ('./modified/BIG\\\\AfricanHuntingDog_big\\\\n02116738_10169.png', 0),\n ('./modified/BIG\\\\AfricanHuntingDog_big\\\\n02116738_10215.png', 0),\n ('./modified/BIG\\\\AfricanHuntingDog_big\\\\n02116738_10469.png', 0),\n ('./modified/BIG\\\\AfricanHuntingDog_big\\\\n02116738_10476.png', 0),\n ('./modified/BIG\\\\AfricanHuntingDog_big\\\\n02116738_10493.png', 0),\n ('./modified/BIG\\\\AfricanHuntingDog_big\\\\n02116738_10575.png', 0),\n ('./modified/BIG\\\\AfricanHuntingDog_big\\\\n02116738_10614.png', 0),\n ('./modified/BIG\\\\AfricanHuntingDog_big\\\\n02116738_10640.png', 0),\n ('./modified/BIG\\\\AfricanHuntingDog_big\\\\n02116738_10872.png', 0),\n ('./modified/BIG\\\\AfricanHuntingDog_big\\\\n02116738_10895.png', 0),\n ('./modified/BIG\\\\AfricanHuntingDog_big\\\\n02116738_1097.png', 0),\n ('./modified/BIG\\\\AfricanHuntingDog_big\\\\n02116738_1105.png', 0),\n ('./modified/BIG\\\\AfricanHuntingDog_big\\\\n02116738_1180.png', 0),\n ('./modified/BIG\\\\AfricanHuntingDog_big\\\\n02116738_124.png', 0),\n ('./modified/BIG\\\\AfricanHuntingDog_big\\\\n02116738_1398.png', 0),\n ('./modified/BIG\\\\AfricanHuntingDog_big\\\\n02116738_1591.png', 0),\n ('./modified/BIG\\\\AfricanHuntingDog_big\\\\n02116738_1627.png', 0),\n ('./modified/BIG\\\\AfricanHuntingDog_big\\\\n02116738_1739.png', 0),\n ('./modified/BIG\\\\AfricanHuntingDog_big\\\\n02116738_1815.png', 0),\n ('./modified/BIG\\\\AfricanHuntingDog_big\\\\n02116738_1849.png', 0),\n ('./modified/BIG\\\\AfricanHuntingDog_big\\\\n02116738_1927.png', 0),\n ('./modified/BIG\\\\AfricanHuntingDog_big\\\\n02116738_1948.png', 0),\n ('./modified/BIG\\\\AfricanHuntingDog_big\\\\n02116738_2005.png', 0),\n ('./modified/BIG\\\\AfricanHuntingDog_big\\\\n02116738_2020.png', 0),\n ('./modified/BIG\\\\AfricanHuntingDog_big\\\\n02116738_204.png', 0),\n ('./modified/BIG\\\\AfricanHuntingDog_big\\\\n02116738_2083.png', 0),\n ('./modified/BIG\\\\AfricanHuntingDog_big\\\\n02116738_2139.png', 0),\n ('./modified/BIG\\\\AfricanHuntingDog_big\\\\n02116738_219.png', 0),\n ('./modified/BIG\\\\AfricanHuntingDog_big\\\\n02116738_2192.png', 0),\n ('./modified/BIG\\\\AfricanHuntingDog_big\\\\n02116738_2327.png', 0),\n ('./modified/BIG\\\\AfricanHuntingDog_big\\\\n02116738_2329.png', 0),\n ('./modified/BIG\\\\AfricanHuntingDog_big\\\\n02116738_233.png', 0),\n ('./modified/BIG\\\\AfricanHuntingDog_big\\\\n02116738_2344.png', 0),\n ('./modified/BIG\\\\AfricanHuntingDog_big\\\\n02116738_2435.png', 0),\n ('./modified/BIG\\\\AfricanHuntingDog_big\\\\n02116738_246.png', 0),\n ('./modified/BIG\\\\AfricanHuntingDog_big\\\\n02116738_2482.png', 0),\n ('./modified/BIG\\\\AfricanHuntingDog_big\\\\n02116738_2503.png', 0),\n ('./modified/BIG\\\\AfricanHuntingDog_big\\\\n02116738_2514.png', 0),\n ('./modified/BIG\\\\AfricanHuntingDog_big\\\\n02116738_2515.png', 0),\n ('./modified/BIG\\\\AfricanHuntingDog_big\\\\n02116738_2557.png', 0),\n ('./modified/BIG\\\\AfricanHuntingDog_big\\\\n02116738_2599.png', 0),\n ('./modified/BIG\\\\AfricanHuntingDog_big\\\\n02116738_2600.png', 0),\n ('./modified/BIG\\\\AfricanHuntingDog_big\\\\n02116738_2675.png', 0),\n ('./modified/BIG\\\\AfricanHuntingDog_big\\\\n02116738_2757.png', 0),\n ('./modified/BIG\\\\AfricanHuntingDog_big\\\\n02116738_2770.png', 0),\n ('./modified/BIG\\\\AfricanHuntingDog_big\\\\n02116738_2802.png', 0),\n ('./modified/BIG\\\\AfricanHuntingDog_big\\\\n02116738_288.png', 0),\n ('./modified/BIG\\\\AfricanHuntingDog_big\\\\n02116738_291.png', 0),\n ('./modified/BIG\\\\AfricanHuntingDog_big\\\\n02116738_2942.png', 0),\n ('./modified/BIG\\\\AfricanHuntingDog_big\\\\n02116738_2988.png', 0),\n ('./modified/BIG\\\\AfricanHuntingDog_big\\\\n02116738_3024.png', 0),\n ('./modified/BIG\\\\AfricanHuntingDog_big\\\\n02116738_308.png', 0),\n ('./modified/BIG\\\\AfricanHuntingDog_big\\\\n02116738_3160.png', 0),\n ('./modified/BIG\\\\AfricanHuntingDog_big\\\\n02116738_328.png', 0),\n ('./modified/BIG\\\\AfricanHuntingDog_big\\\\n02116738_3365.png', 0),\n ('./modified/BIG\\\\AfricanHuntingDog_big\\\\n02116738_3422.png', 0),\n ('./modified/BIG\\\\AfricanHuntingDog_big\\\\n02116738_3589.png', 0),\n ('./modified/BIG\\\\AfricanHuntingDog_big\\\\n02116738_3635.png', 0),\n ('./modified/BIG\\\\AfricanHuntingDog_big\\\\n02116738_3692.png', 0),\n ('./modified/BIG\\\\AfricanHuntingDog_big\\\\n02116738_3720.png', 0),\n ('./modified/BIG\\\\AfricanHuntingDog_big\\\\n02116738_3819.png', 0),\n ('./modified/BIG\\\\AfricanHuntingDog_big\\\\n02116738_385.png', 0),\n ('./modified/BIG\\\\AfricanHuntingDog_big\\\\n02116738_4019.png', 0),\n ('./modified/BIG\\\\AfricanHuntingDog_big\\\\n02116738_4098.png', 0),\n ('./modified/BIG\\\\AfricanHuntingDog_big\\\\n02116738_4102.png', 0),\n ('./modified/BIG\\\\AfricanHuntingDog_big\\\\n02116738_4115.png', 0),\n ('./modified/BIG\\\\AfricanHuntingDog_big\\\\n02116738_4138.png', 0),\n ('./modified/BIG\\\\AfricanHuntingDog_big\\\\n02116738_431.png', 0),\n ('./modified/BIG\\\\AfricanHuntingDog_big\\\\n02116738_4323.png', 0),\n ('./modified/BIG\\\\AfricanHuntingDog_big\\\\n02116738_4335.png', 0),\n ('./modified/BIG\\\\AfricanHuntingDog_big\\\\n02116738_4367.png', 0),\n ('./modified/BIG\\\\AfricanHuntingDog_big\\\\n02116738_4382.png', 0),\n ('./modified/BIG\\\\AfricanHuntingDog_big\\\\n02116738_4461.png', 0),\n ('./modified/BIG\\\\AfricanHuntingDog_big\\\\n02116738_4508.png', 0),\n ('./modified/BIG\\\\AfricanHuntingDog_big\\\\n02116738_4641.png', 0),\n ('./modified/BIG\\\\AfricanHuntingDog_big\\\\n02116738_4720.png', 0),\n ('./modified/BIG\\\\AfricanHuntingDog_big\\\\n02116738_4732.png', 0),\n ('./modified/BIG\\\\AfricanHuntingDog_big\\\\n02116738_4734.png', 0),\n ('./modified/BIG\\\\AfricanHuntingDog_big\\\\n02116738_4742.png', 0),\n ('./modified/BIG\\\\AfricanHuntingDog_big\\\\n02116738_4758.png', 0),\n ('./modified/BIG\\\\AfricanHuntingDog_big\\\\n02116738_4796.png', 0),\n ('./modified/BIG\\\\AfricanHuntingDog_big\\\\n02116738_4834.png', 0),\n ('./modified/BIG\\\\AfricanHuntingDog_big\\\\n02116738_4991.png', 0),\n ('./modified/BIG\\\\AfricanHuntingDog_big\\\\n02116738_500.png', 0),\n ('./modified/BIG\\\\AfricanHuntingDog_big\\\\n02116738_5068.png', 0),\n ('./modified/BIG\\\\AfricanHuntingDog_big\\\\n02116738_5241.png', 0),\n ('./modified/BIG\\\\AfricanHuntingDog_big\\\\n02116738_5312.png', 0),\n ('./modified/BIG\\\\AfricanHuntingDog_big\\\\n02116738_5338.png', 0),\n ('./modified/BIG\\\\AfricanHuntingDog_big\\\\n02116738_5519.png', 0),\n ('./modified/BIG\\\\AfricanHuntingDog_big\\\\n02116738_5635.png', 0),\n ('./modified/BIG\\\\AfricanHuntingDog_big\\\\n02116738_5661.png', 0),\n ('./modified/BIG\\\\AfricanHuntingDog_big\\\\n02116738_5683.png', 0),\n ('./modified/BIG\\\\AfricanHuntingDog_big\\\\n02116738_5697.png', 0),\n ('./modified/BIG\\\\AfricanHuntingDog_big\\\\n02116738_5932.png', 0),\n ('./modified/BIG\\\\AfricanHuntingDog_big\\\\n02116738_5936.png', 0),\n ('./modified/BIG\\\\AfricanHuntingDog_big\\\\n02116738_5953.png', 0),\n ('./modified/BIG\\\\AfricanHuntingDog_big\\\\n02116738_5956.png', 0),\n ('./modified/BIG\\\\AfricanHuntingDog_big\\\\n02116738_5993.png', 0),\n ('./modified/BIG\\\\AfricanHuntingDog_big\\\\n02116738_6038.png', 0),\n ('./modified/BIG\\\\AfricanHuntingDog_big\\\\n02116738_6044.png', 0),\n ('./modified/BIG\\\\AfricanHuntingDog_big\\\\n02116738_607.png', 0),\n ('./modified/BIG\\\\AfricanHuntingDog_big\\\\n02116738_6076.png', 0),\n ('./modified/BIG\\\\AfricanHuntingDog_big\\\\n02116738_6092.png', 0),\n ('./modified/BIG\\\\AfricanHuntingDog_big\\\\n02116738_6117.png', 0),\n ('./modified/BIG\\\\AfricanHuntingDog_big\\\\n02116738_6283.png', 0),\n ('./modified/BIG\\\\AfricanHuntingDog_big\\\\n02116738_6297.png', 0),\n ('./modified/BIG\\\\AfricanHuntingDog_big\\\\n02116738_6330.png', 0),\n ('./modified/BIG\\\\AfricanHuntingDog_big\\\\n02116738_634.png', 0),\n ('./modified/BIG\\\\AfricanHuntingDog_big\\\\n02116738_6563.png', 0),\n ('./modified/BIG\\\\AfricanHuntingDog_big\\\\n02116738_662.png', 0),\n ('./modified/BIG\\\\AfricanHuntingDog_big\\\\n02116738_6746.png', 0),\n ('./modified/BIG\\\\AfricanHuntingDog_big\\\\n02116738_6748.png', 0),\n ('./modified/BIG\\\\AfricanHuntingDog_big\\\\n02116738_6754.png', 0),\n ('./modified/BIG\\\\AfricanHuntingDog_big\\\\n02116738_678.png', 0),\n ('./modified/BIG\\\\AfricanHuntingDog_big\\\\n02116738_6790.png', 0),\n ('./modified/BIG\\\\AfricanHuntingDog_big\\\\n02116738_6813.png', 0),\n ('./modified/BIG\\\\AfricanHuntingDog_big\\\\n02116738_684.png', 0),\n ('./modified/BIG\\\\AfricanHuntingDog_big\\\\n02116738_7008.png', 0),\n ('./modified/BIG\\\\AfricanHuntingDog_big\\\\n02116738_7026.png', 0),\n ('./modified/BIG\\\\AfricanHuntingDog_big\\\\n02116738_7060.png', 0),\n ('./modified/BIG\\\\AfricanHuntingDog_big\\\\n02116738_7105.png', 0),\n ('./modified/BIG\\\\AfricanHuntingDog_big\\\\n02116738_7122.png', 0),\n ('./modified/BIG\\\\AfricanHuntingDog_big\\\\n02116738_7170.png', 0),\n ('./modified/BIG\\\\AfricanHuntingDog_big\\\\n02116738_7340.png', 0),\n ('./modified/BIG\\\\AfricanHuntingDog_big\\\\n02116738_7506.png', 0),\n ('./modified/BIG\\\\AfricanHuntingDog_big\\\\n02116738_7537.png', 0),\n ('./modified/BIG\\\\AfricanHuntingDog_big\\\\n02116738_7578.png', 0),\n ('./modified/BIG\\\\AfricanHuntingDog_big\\\\n02116738_7580.png', 0),\n ('./modified/BIG\\\\AfricanHuntingDog_big\\\\n02116738_7590.png', 0),\n ('./modified/BIG\\\\AfricanHuntingDog_big\\\\n02116738_7601.png', 0),\n ('./modified/BIG\\\\AfricanHuntingDog_big\\\\n02116738_7657.png', 0),\n ('./modified/BIG\\\\AfricanHuntingDog_big\\\\n02116738_7753.png', 0),\n ('./modified/BIG\\\\AfricanHuntingDog_big\\\\n02116738_7988.png', 0),\n ('./modified/BIG\\\\AfricanHuntingDog_big\\\\n02116738_8037.png', 0),\n ('./modified/BIG\\\\AfricanHuntingDog_big\\\\n02116738_806.png', 0),\n ('./modified/BIG\\\\AfricanHuntingDog_big\\\\n02116738_8095.png', 0),\n ('./modified/BIG\\\\AfricanHuntingDog_big\\\\n02116738_8226.png', 0),\n ('./modified/BIG\\\\AfricanHuntingDog_big\\\\n02116738_8341.png', 0),\n ('./modified/BIG\\\\AfricanHuntingDog_big\\\\n02116738_8403.png', 0),\n ('./modified/BIG\\\\AfricanHuntingDog_big\\\\n02116738_8489.png', 0),\n ('./modified/BIG\\\\AfricanHuntingDog_big\\\\n02116738_849.png', 0),\n ('./modified/BIG\\\\AfricanHuntingDog_big\\\\n02116738_8512.png', 0),\n ('./modified/BIG\\\\AfricanHuntingDog_big\\\\n02116738_8579.png', 0),\n ('./modified/BIG\\\\AfricanHuntingDog_big\\\\n02116738_8653.png', 0),\n ('./modified/BIG\\\\AfricanHuntingDog_big\\\\n02116738_8662.png', 0),\n ('./modified/BIG\\\\AfricanHuntingDog_big\\\\n02116738_8669.png', 0),\n ('./modified/BIG\\\\AfricanHuntingDog_big\\\\n02116738_8696.png', 0),\n ('./modified/BIG\\\\AfricanHuntingDog_big\\\\n02116738_8719.png', 0),\n ('./modified/BIG\\\\AfricanHuntingDog_big\\\\n02116738_8734.png', 0),\n ('./modified/BIG\\\\AfricanHuntingDog_big\\\\n02116738_8738.png', 0),\n ('./modified/BIG\\\\AfricanHuntingDog_big\\\\n02116738_8749.png', 0),\n ('./modified/BIG\\\\AfricanHuntingDog_big\\\\n02116738_8945.png', 0),\n ('./modified/BIG\\\\AfricanHuntingDog_big\\\\n02116738_9164.png', 0),\n ('./modified/BIG\\\\AfricanHuntingDog_big\\\\n02116738_9232.png', 0),\n ('./modified/BIG\\\\AfricanHuntingDog_big\\\\n02116738_9282.png', 0),\n ('./modified/BIG\\\\AfricanHuntingDog_big\\\\n02116738_9603.png', 0),\n ('./modified/BIG\\\\AfricanHuntingDog_big\\\\n02116738_9748.png', 0),\n ('./modified/BIG\\\\AfricanHuntingDog_big\\\\n02116738_9762.png', 0),\n ('./modified/BIG\\\\AfricanHuntingDog_big\\\\n02116738_9769.png', 0),\n ('./modified/BIG\\\\AfricanHuntingDog_big\\\\n02116738_9798.png', 0),\n ('./modified/BIG\\\\AfricanHuntingDog_big\\\\n02116738_9818.png', 0),\n ('./modified/BIG\\\\AfricanHuntingDog_big\\\\n02116738_9829.png', 0),\n ('./modified/BIG\\\\AfricanHuntingDog_big\\\\n02116738_9844.png', 0),\n ('./modified/BIG\\\\AfricanHuntingDog_big\\\\n02116738_9924.png', 0),\n ('./modified/BIG\\\\Airedale_big\\\\n02096051_1017.png', 1),\n ('./modified/BIG\\\\Airedale_big\\\\n02096051_1110.png', 1),\n ('./modified/BIG\\\\Airedale_big\\\\n02096051_1111.png', 1),\n ('./modified/BIG\\\\Airedale_big\\\\n02096051_1121.png', 1),\n ('./modified/BIG\\\\Airedale_big\\\\n02096051_1134.png', 1),\n ('./modified/BIG\\\\Airedale_big\\\\n02096051_119.png', 1),\n ('./modified/BIG\\\\Airedale_big\\\\n02096051_1206.png', 1),\n ('./modified/BIG\\\\Airedale_big\\\\n02096051_1235.png', 1),\n ('./modified/BIG\\\\Airedale_big\\\\n02096051_1244.png', 1),\n ('./modified/BIG\\\\Airedale_big\\\\n02096051_1277.png', 1),\n ('./modified/BIG\\\\Airedale_big\\\\n02096051_129.png', 1),\n ('./modified/BIG\\\\Airedale_big\\\\n02096051_138.png', 1),\n ('./modified/BIG\\\\Airedale_big\\\\n02096051_1430.png', 1),\n ('./modified/BIG\\\\Airedale_big\\\\n02096051_1469.png', 1),\n ('./modified/BIG\\\\Airedale_big\\\\n02096051_1483.png', 1),\n ('./modified/BIG\\\\Airedale_big\\\\n02096051_1558.png', 1),\n ('./modified/BIG\\\\Airedale_big\\\\n02096051_161.png', 1),\n ('./modified/BIG\\\\Airedale_big\\\\n02096051_1625.png', 1),\n ('./modified/BIG\\\\Airedale_big\\\\n02096051_1669.png', 1),\n ('./modified/BIG\\\\Airedale_big\\\\n02096051_171.png', 1),\n ('./modified/BIG\\\\Airedale_big\\\\n02096051_1723.png', 1),\n ('./modified/BIG\\\\Airedale_big\\\\n02096051_1736.png', 1),\n ('./modified/BIG\\\\Airedale_big\\\\n02096051_1740.png', 1),\n ('./modified/BIG\\\\Airedale_big\\\\n02096051_1761.png', 1),\n ('./modified/BIG\\\\Airedale_big\\\\n02096051_1799.png', 1),\n ('./modified/BIG\\\\Airedale_big\\\\n02096051_183.png', 1),\n ('./modified/BIG\\\\Airedale_big\\\\n02096051_1854.png', 1),\n ('./modified/BIG\\\\Airedale_big\\\\n02096051_1861.png', 1),\n ('./modified/BIG\\\\Airedale_big\\\\n02096051_1912.png', 1),\n ('./modified/BIG\\\\Airedale_big\\\\n02096051_1941.png', 1),\n ('./modified/BIG\\\\Airedale_big\\\\n02096051_2002.png', 1),\n ('./modified/BIG\\\\Airedale_big\\\\n02096051_2045.png', 1),\n ('./modified/BIG\\\\Airedale_big\\\\n02096051_2170.png', 1),\n ('./modified/BIG\\\\Airedale_big\\\\n02096051_2204.png', 1),\n ('./modified/BIG\\\\Airedale_big\\\\n02096051_225.png', 1),\n ('./modified/BIG\\\\Airedale_big\\\\n02096051_2256.png', 1),\n ('./modified/BIG\\\\Airedale_big\\\\n02096051_2265.png', 1),\n ('./modified/BIG\\\\Airedale_big\\\\n02096051_2314.png', 1),\n ('./modified/BIG\\\\Airedale_big\\\\n02096051_2333.png', 1),\n ('./modified/BIG\\\\Airedale_big\\\\n02096051_2353.png', 1),\n ('./modified/BIG\\\\Airedale_big\\\\n02096051_2380.png', 1),\n ('./modified/BIG\\\\Airedale_big\\\\n02096051_2432.png', 1),\n ('./modified/BIG\\\\Airedale_big\\\\n02096051_2473.png', 1),\n ('./modified/BIG\\\\Airedale_big\\\\n02096051_249.png', 1),\n ('./modified/BIG\\\\Airedale_big\\\\n02096051_2517.png', 1),\n ('./modified/BIG\\\\Airedale_big\\\\n02096051_2550.png', 1),\n ('./modified/BIG\\\\Airedale_big\\\\n02096051_2556.png', 1),\n ('./modified/BIG\\\\Airedale_big\\\\n02096051_2583.png', 1),\n ('./modified/BIG\\\\Airedale_big\\\\n02096051_2633.png', 1),\n ('./modified/BIG\\\\Airedale_big\\\\n02096051_2717.png', 1),\n ('./modified/BIG\\\\Airedale_big\\\\n02096051_2774.png', 1),\n ('./modified/BIG\\\\Airedale_big\\\\n02096051_2883.png', 1),\n ('./modified/BIG\\\\Airedale_big\\\\n02096051_2890.png', 1),\n ('./modified/BIG\\\\Airedale_big\\\\n02096051_2903.png', 1),\n ('./modified/BIG\\\\Airedale_big\\\\n02096051_2939.png', 1),\n ('./modified/BIG\\\\Airedale_big\\\\n02096051_2946.png', 1),\n ('./modified/BIG\\\\Airedale_big\\\\n02096051_2954.png', 1),\n ('./modified/BIG\\\\Airedale_big\\\\n02096051_3030.png', 1),\n ('./modified/BIG\\\\Airedale_big\\\\n02096051_3045.png', 1),\n ('./modified/BIG\\\\Airedale_big\\\\n02096051_3051.png', 1),\n ('./modified/BIG\\\\Airedale_big\\\\n02096051_3069.png', 1),\n ('./modified/BIG\\\\Airedale_big\\\\n02096051_3088.png', 1),\n ('./modified/BIG\\\\Airedale_big\\\\n02096051_3105.png', 1),\n ('./modified/BIG\\\\Airedale_big\\\\n02096051_319.png', 1),\n ('./modified/BIG\\\\Airedale_big\\\\n02096051_3194.png', 1),\n ('./modified/BIG\\\\Airedale_big\\\\n02096051_3253.png', 1),\n ('./modified/BIG\\\\Airedale_big\\\\n02096051_3287.png', 1),\n ('./modified/BIG\\\\Airedale_big\\\\n02096051_3317.png', 1),\n ('./modified/BIG\\\\Airedale_big\\\\n02096051_3338.png', 1),\n ('./modified/BIG\\\\Airedale_big\\\\n02096051_3443.png', 1),\n ('./modified/BIG\\\\Airedale_big\\\\n02096051_3472.png', 1),\n ('./modified/BIG\\\\Airedale_big\\\\n02096051_3500.png', 1),\n ('./modified/BIG\\\\Airedale_big\\\\n02096051_3523.png', 1),\n ('./modified/BIG\\\\Airedale_big\\\\n02096051_3538.png', 1),\n ('./modified/BIG\\\\Airedale_big\\\\n02096051_3619.png', 1),\n ('./modified/BIG\\\\Airedale_big\\\\n02096051_3665.png', 1),\n ('./modified/BIG\\\\Airedale_big\\\\n02096051_3700.png', 1),\n ('./modified/BIG\\\\Airedale_big\\\\n02096051_3750.png', 1),\n ('./modified/BIG\\\\Airedale_big\\\\n02096051_3796.png', 1),\n ('./modified/BIG\\\\Airedale_big\\\\n02096051_3823.png', 1),\n ('./modified/BIG\\\\Airedale_big\\\\n02096051_3863.png', 1),\n ('./modified/BIG\\\\Airedale_big\\\\n02096051_3879.png', 1),\n ('./modified/BIG\\\\Airedale_big\\\\n02096051_3955.png', 1),\n ('./modified/BIG\\\\Airedale_big\\\\n02096051_3981.png', 1),\n ('./modified/BIG\\\\Airedale_big\\\\n02096051_4153.png', 1),\n ('./modified/BIG\\\\Airedale_big\\\\n02096051_4196.png', 1),\n ('./modified/BIG\\\\Airedale_big\\\\n02096051_4220.png', 1),\n ('./modified/BIG\\\\Airedale_big\\\\n02096051_424.png', 1),\n ('./modified/BIG\\\\Airedale_big\\\\n02096051_4322.png', 1),\n ('./modified/BIG\\\\Airedale_big\\\\n02096051_441.png', 1),\n ('./modified/BIG\\\\Airedale_big\\\\n02096051_4514.png', 1),\n ('./modified/BIG\\\\Airedale_big\\\\n02096051_4516.png', 1),\n ('./modified/BIG\\\\Airedale_big\\\\n02096051_4531.png', 1),\n ('./modified/BIG\\\\Airedale_big\\\\n02096051_4660.png', 1),\n ('./modified/BIG\\\\Airedale_big\\\\n02096051_4676.png', 1),\n ('./modified/BIG\\\\Airedale_big\\\\n02096051_4860.png', 1),\n ('./modified/BIG\\\\Airedale_big\\\\n02096051_4868.png', 1),\n ('./modified/BIG\\\\Airedale_big\\\\n02096051_4902.png', 1),\n ('./modified/BIG\\\\Airedale_big\\\\n02096051_4991.png', 1),\n ('./modified/BIG\\\\Airedale_big\\\\n02096051_5018.png', 1),\n ('./modified/BIG\\\\Airedale_big\\\\n02096051_5048.png', 1),\n ('./modified/BIG\\\\Airedale_big\\\\n02096051_5060.png', 1),\n ('./modified/BIG\\\\Airedale_big\\\\n02096051_5064.png', 1),\n ('./modified/BIG\\\\Airedale_big\\\\n02096051_517.png', 1),\n ('./modified/BIG\\\\Airedale_big\\\\n02096051_5212.png', 1),\n ('./modified/BIG\\\\Airedale_big\\\\n02096051_5234.png', 1),\n ('./modified/BIG\\\\Airedale_big\\\\n02096051_5241.png', 1),\n ('./modified/BIG\\\\Airedale_big\\\\n02096051_5267.png', 1),\n ('./modified/BIG\\\\Airedale_big\\\\n02096051_5285.png', 1),\n ('./modified/BIG\\\\Airedale_big\\\\n02096051_5356.png', 1),\n ('./modified/BIG\\\\Airedale_big\\\\n02096051_5389.png', 1),\n ('./modified/BIG\\\\Airedale_big\\\\n02096051_5432.png', 1),\n ('./modified/BIG\\\\Airedale_big\\\\n02096051_5467.png', 1),\n ('./modified/BIG\\\\Airedale_big\\\\n02096051_5712.png', 1),\n ('./modified/BIG\\\\Airedale_big\\\\n02096051_5776.png', 1),\n ('./modified/BIG\\\\Airedale_big\\\\n02096051_584.png', 1),\n ('./modified/BIG\\\\Airedale_big\\\\n02096051_5867.png', 1),\n ('./modified/BIG\\\\Airedale_big\\\\n02096051_5884.png', 1),\n ('./modified/BIG\\\\Airedale_big\\\\n02096051_5945.png', 1),\n ('./modified/BIG\\\\Airedale_big\\\\n02096051_5952.png', 1),\n ('./modified/BIG\\\\Airedale_big\\\\n02096051_5992.png', 1),\n ('./modified/BIG\\\\Airedale_big\\\\n02096051_6151.png', 1),\n ('./modified/BIG\\\\Airedale_big\\\\n02096051_6300.png', 1),\n ('./modified/BIG\\\\Airedale_big\\\\n02096051_6315.png', 1),\n ('./modified/BIG\\\\Airedale_big\\\\n02096051_6332.png', 1),\n ('./modified/BIG\\\\Airedale_big\\\\n02096051_6334.png', 1),\n ('./modified/BIG\\\\Airedale_big\\\\n02096051_6335.png', 1),\n ('./modified/BIG\\\\Airedale_big\\\\n02096051_6410.png', 1),\n ('./modified/BIG\\\\Airedale_big\\\\n02096051_6473.png', 1),\n ('./modified/BIG\\\\Airedale_big\\\\n02096051_6502.png', 1),\n ('./modified/BIG\\\\Airedale_big\\\\n02096051_6536.png', 1),\n ('./modified/BIG\\\\Airedale_big\\\\n02096051_6570.png', 1),\n ('./modified/BIG\\\\Airedale_big\\\\n02096051_6657.png', 1),\n ('./modified/BIG\\\\Airedale_big\\\\n02096051_668.png', 1),\n ('./modified/BIG\\\\Airedale_big\\\\n02096051_6693.png', 1),\n ('./modified/BIG\\\\Airedale_big\\\\n02096051_6733.png', 1),\n ('./modified/BIG\\\\Airedale_big\\\\n02096051_6747.png', 1),\n ('./modified/BIG\\\\Airedale_big\\\\n02096051_6755.png', 1),\n ('./modified/BIG\\\\Airedale_big\\\\n02096051_6799.png', 1),\n ('./modified/BIG\\\\Airedale_big\\\\n02096051_6812.png', 1),\n ('./modified/BIG\\\\Airedale_big\\\\n02096051_6855.png', 1),\n ('./modified/BIG\\\\Airedale_big\\\\n02096051_6873.png', 1),\n ('./modified/BIG\\\\Airedale_big\\\\n02096051_6895.png', 1),\n ('./modified/BIG\\\\Airedale_big\\\\n02096051_6932.png', 1),\n ('./modified/BIG\\\\Airedale_big\\\\n02096051_6933.png', 1),\n ('./modified/BIG\\\\Airedale_big\\\\n02096051_6972.png', 1),\n ('./modified/BIG\\\\Airedale_big\\\\n02096051_7.png', 1),\n ('./modified/BIG\\\\Airedale_big\\\\n02096051_7077.png', 1),\n ('./modified/BIG\\\\Airedale_big\\\\n02096051_7118.png', 1),\n ('./modified/BIG\\\\Airedale_big\\\\n02096051_7132.png', 1),\n ('./modified/BIG\\\\Airedale_big\\\\n02096051_7140.png', 1),\n ('./modified/BIG\\\\Airedale_big\\\\n02096051_738.png', 1),\n ('./modified/BIG\\\\Airedale_big\\\\n02096051_7394.png', 1),\n ('./modified/BIG\\\\Airedale_big\\\\n02096051_7463.png', 1),\n ('./modified/BIG\\\\Airedale_big\\\\n02096051_7516.png', 1),\n ('./modified/BIG\\\\Airedale_big\\\\n02096051_7580.png', 1),\n ('./modified/BIG\\\\Airedale_big\\\\n02096051_7602.png', 1),\n ('./modified/BIG\\\\Airedale_big\\\\n02096051_7647.png', 1),\n ('./modified/BIG\\\\Airedale_big\\\\n02096051_7677.png', 1),\n ('./modified/BIG\\\\Airedale_big\\\\n02096051_7762.png', 1),\n ('./modified/BIG\\\\Airedale_big\\\\n02096051_7772.png', 1),\n ('./modified/BIG\\\\Airedale_big\\\\n02096051_7790.png', 1),\n ('./modified/BIG\\\\Airedale_big\\\\n02096051_7847.png', 1),\n ('./modified/BIG\\\\Airedale_big\\\\n02096051_8019.png', 1),\n ('./modified/BIG\\\\Airedale_big\\\\n02096051_8096.png', 1),\n ('./modified/BIG\\\\Airedale_big\\\\n02096051_8103.png', 1),\n ('./modified/BIG\\\\Airedale_big\\\\n02096051_812.png', 1),\n ('./modified/BIG\\\\Airedale_big\\\\n02096051_8132.png', 1),\n ('./modified/BIG\\\\Airedale_big\\\\n02096051_8149.png', 1),\n ('./modified/BIG\\\\Airedale_big\\\\n02096051_8227.png', 1),\n ('./modified/BIG\\\\Airedale_big\\\\n02096051_8270.png', 1),\n ('./modified/BIG\\\\Airedale_big\\\\n02096051_8385.png', 1),\n ('./modified/BIG\\\\Airedale_big\\\\n02096051_8392.png', 1),\n ('./modified/BIG\\\\Airedale_big\\\\n02096051_841.png', 1),\n ('./modified/BIG\\\\Airedale_big\\\\n02096051_8431.png', 1),\n ('./modified/BIG\\\\Airedale_big\\\\n02096051_8553.png', 1),\n ('./modified/BIG\\\\Airedale_big\\\\n02096051_8613.png', 1),\n ('./modified/BIG\\\\Airedale_big\\\\n02096051_8790.png', 1),\n ('./modified/BIG\\\\Airedale_big\\\\n02096051_8826.png', 1),\n ('./modified/BIG\\\\Airedale_big\\\\n02096051_8880.png', 1),\n ('./modified/BIG\\\\Airedale_big\\\\n02096051_8892.png', 1),\n ('./modified/BIG\\\\Airedale_big\\\\n02096051_8937.png', 1),\n ('./modified/BIG\\\\Airedale_big\\\\n02096051_8989.png', 1),\n ('./modified/BIG\\\\Airedale_big\\\\n02096051_9038.png', 1),\n ('./modified/BIG\\\\Airedale_big\\\\n02096051_910.png', 1),\n ('./modified/BIG\\\\Airedale_big\\\\n02096051_9135.png', 1),\n ('./modified/BIG\\\\Airedale_big\\\\n02096051_93.png', 1),\n ('./modified/BIG\\\\Airedale_big\\\\n02096051_9319.png', 1),\n ('./modified/BIG\\\\Airedale_big\\\\n02096051_9327.png', 1),\n ('./modified/BIG\\\\Airedale_big\\\\n02096051_9329.png', 1),\n ('./modified/BIG\\\\Airedale_big\\\\n02096051_9388.png', 1),\n ('./modified/BIG\\\\Airedale_big\\\\n02096051_9391.png', 1),\n ('./modified/BIG\\\\Airedale_big\\\\n02096051_9427.png', 1),\n ('./modified/BIG\\\\Airedale_big\\\\n02096051_9440.png', 1),\n ('./modified/BIG\\\\Airedale_big\\\\n02096051_950.png', 1),\n ('./modified/BIG\\\\Airedale_big\\\\n02096051_9581.png', 1),\n ('./modified/BIG\\\\Airedale_big\\\\n02096051_9617.png', 1),\n ('./modified/BIG\\\\Airedale_big\\\\n02096051_9631.png', 1),\n ('./modified/BIG\\\\Airedale_big\\\\n02096051_982.png', 1),\n ('./modified/BIG\\\\Appenzeller_big\\\\n02107908_1030.png', 2),\n ('./modified/BIG\\\\Appenzeller_big\\\\n02107908_1176.png', 2),\n ('./modified/BIG\\\\Appenzeller_big\\\\n02107908_1195.png', 2),\n ('./modified/BIG\\\\Appenzeller_big\\\\n02107908_1235.png', 2),\n ('./modified/BIG\\\\Appenzeller_big\\\\n02107908_1344.png', 2),\n ('./modified/BIG\\\\Appenzeller_big\\\\n02107908_1426.png', 2),\n ('./modified/BIG\\\\Appenzeller_big\\\\n02107908_1575.png', 2),\n ('./modified/BIG\\\\Appenzeller_big\\\\n02107908_1777.png', 2),\n ('./modified/BIG\\\\Appenzeller_big\\\\n02107908_1783.png', 2),\n ('./modified/BIG\\\\Appenzeller_big\\\\n02107908_180.png', 2),\n ('./modified/BIG\\\\Appenzeller_big\\\\n02107908_1811.png', 2),\n ('./modified/BIG\\\\Appenzeller_big\\\\n02107908_1855.png', 2),\n ('./modified/BIG\\\\Appenzeller_big\\\\n02107908_1974.png', 2),\n ('./modified/BIG\\\\Appenzeller_big\\\\n02107908_2085.png', 2),\n ('./modified/BIG\\\\Appenzeller_big\\\\n02107908_2090.png', 2),\n ('./modified/BIG\\\\Appenzeller_big\\\\n02107908_2092.png', 2),\n ('./modified/BIG\\\\Appenzeller_big\\\\n02107908_2134.png', 2),\n ('./modified/BIG\\\\Appenzeller_big\\\\n02107908_2151.png', 2),\n ('./modified/BIG\\\\Appenzeller_big\\\\n02107908_2154.png', 2),\n ('./modified/BIG\\\\Appenzeller_big\\\\n02107908_2227.png', 2),\n ('./modified/BIG\\\\Appenzeller_big\\\\n02107908_2272.png', 2),\n ('./modified/BIG\\\\Appenzeller_big\\\\n02107908_2294.png', 2),\n ('./modified/BIG\\\\Appenzeller_big\\\\n02107908_2313.png', 2),\n ('./modified/BIG\\\\Appenzeller_big\\\\n02107908_2340.png', 2),\n ('./modified/BIG\\\\Appenzeller_big\\\\n02107908_2357.png', 2),\n ('./modified/BIG\\\\Appenzeller_big\\\\n02107908_2365.png', 2),\n ('./modified/BIG\\\\Appenzeller_big\\\\n02107908_2382.png', 2),\n ('./modified/BIG\\\\Appenzeller_big\\\\n02107908_24.png', 2),\n ('./modified/BIG\\\\Appenzeller_big\\\\n02107908_2468.png', 2),\n ('./modified/BIG\\\\Appenzeller_big\\\\n02107908_2499.png', 2),\n ('./modified/BIG\\\\Appenzeller_big\\\\n02107908_2534.png', 2),\n ('./modified/BIG\\\\Appenzeller_big\\\\n02107908_2543.png', 2),\n ('./modified/BIG\\\\Appenzeller_big\\\\n02107908_2555.png', 2),\n ('./modified/BIG\\\\Appenzeller_big\\\\n02107908_2608.png', 2),\n ('./modified/BIG\\\\Appenzeller_big\\\\n02107908_2666.png', 2),\n ('./modified/BIG\\\\Appenzeller_big\\\\n02107908_2719.png', 2),\n ('./modified/BIG\\\\Appenzeller_big\\\\n02107908_2723.png', 2),\n ('./modified/BIG\\\\Appenzeller_big\\\\n02107908_2809.png', 2),\n ('./modified/BIG\\\\Appenzeller_big\\\\n02107908_2858.png', 2),\n ('./modified/BIG\\\\Appenzeller_big\\\\n02107908_2899.png', 2),\n ('./modified/BIG\\\\Appenzeller_big\\\\n02107908_2913.png', 2),\n ('./modified/BIG\\\\Appenzeller_big\\\\n02107908_2928.png', 2),\n ('./modified/BIG\\\\Appenzeller_big\\\\n02107908_2963.png', 2),\n ('./modified/BIG\\\\Appenzeller_big\\\\n02107908_298.png', 2),\n ('./modified/BIG\\\\Appenzeller_big\\\\n02107908_3105.png', 2),\n ('./modified/BIG\\\\Appenzeller_big\\\\n02107908_3119.png', 2),\n ('./modified/BIG\\\\Appenzeller_big\\\\n02107908_314.png', 2),\n ('./modified/BIG\\\\Appenzeller_big\\\\n02107908_3155.png', 2),\n ('./modified/BIG\\\\Appenzeller_big\\\\n02107908_3188.png', 2),\n ('./modified/BIG\\\\Appenzeller_big\\\\n02107908_3190.png', 2),\n ('./modified/BIG\\\\Appenzeller_big\\\\n02107908_3254.png', 2),\n ('./modified/BIG\\\\Appenzeller_big\\\\n02107908_3311.png', 2),\n ('./modified/BIG\\\\Appenzeller_big\\\\n02107908_3387.png', 2),\n ('./modified/BIG\\\\Appenzeller_big\\\\n02107908_3450.png', 2),\n ('./modified/BIG\\\\Appenzeller_big\\\\n02107908_3531.png', 2),\n ('./modified/BIG\\\\Appenzeller_big\\\\n02107908_3613.png', 2),\n ('./modified/BIG\\\\Appenzeller_big\\\\n02107908_3720.png', 2),\n ('./modified/BIG\\\\Appenzeller_big\\\\n02107908_3728.png', 2),\n ('./modified/BIG\\\\Appenzeller_big\\\\n02107908_3791.png', 2),\n ('./modified/BIG\\\\Appenzeller_big\\\\n02107908_392.png', 2),\n ('./modified/BIG\\\\Appenzeller_big\\\\n02107908_3926.png', 2),\n ('./modified/BIG\\\\Appenzeller_big\\\\n02107908_396.png', 2),\n ('./modified/BIG\\\\Appenzeller_big\\\\n02107908_3971.png', 2),\n ('./modified/BIG\\\\Appenzeller_big\\\\n02107908_3991.png', 2),\n ('./modified/BIG\\\\Appenzeller_big\\\\n02107908_4030.png', 2),\n ('./modified/BIG\\\\Appenzeller_big\\\\n02107908_406.png', 2),\n ('./modified/BIG\\\\Appenzeller_big\\\\n02107908_4079.png', 2),\n ('./modified/BIG\\\\Appenzeller_big\\\\n02107908_4092.png', 2),\n ('./modified/BIG\\\\Appenzeller_big\\\\n02107908_4142.png', 2),\n ('./modified/BIG\\\\Appenzeller_big\\\\n02107908_4159.png', 2),\n ('./modified/BIG\\\\Appenzeller_big\\\\n02107908_4190.png', 2),\n ('./modified/BIG\\\\Appenzeller_big\\\\n02107908_4247.png', 2),\n ('./modified/BIG\\\\Appenzeller_big\\\\n02107908_4296.png', 2),\n ('./modified/BIG\\\\Appenzeller_big\\\\n02107908_4301.png', 2),\n ('./modified/BIG\\\\Appenzeller_big\\\\n02107908_4304.png', 2),\n ('./modified/BIG\\\\Appenzeller_big\\\\n02107908_4402.png', 2),\n ('./modified/BIG\\\\Appenzeller_big\\\\n02107908_4473.png', 2),\n ('./modified/BIG\\\\Appenzeller_big\\\\n02107908_451.png', 2),\n ('./modified/BIG\\\\Appenzeller_big\\\\n02107908_4669.png', 2),\n ('./modified/BIG\\\\Appenzeller_big\\\\n02107908_47.png', 2),\n ('./modified/BIG\\\\Appenzeller_big\\\\n02107908_4704.png', 2),\n ('./modified/BIG\\\\Appenzeller_big\\\\n02107908_4806.png', 2),\n ('./modified/BIG\\\\Appenzeller_big\\\\n02107908_4816.png', 2),\n ('./modified/BIG\\\\Appenzeller_big\\\\n02107908_4885.png', 2),\n ('./modified/BIG\\\\Appenzeller_big\\\\n02107908_4891.png', 2),\n ('./modified/BIG\\\\Appenzeller_big\\\\n02107908_4895.png', 2),\n ('./modified/BIG\\\\Appenzeller_big\\\\n02107908_4903.png', 2),\n ('./modified/BIG\\\\Appenzeller_big\\\\n02107908_4931.png', 2),\n ('./modified/BIG\\\\Appenzeller_big\\\\n02107908_4963.png', 2),\n ('./modified/BIG\\\\Appenzeller_big\\\\n02107908_4964.png', 2),\n ('./modified/BIG\\\\Appenzeller_big\\\\n02107908_5002.png', 2),\n ('./modified/BIG\\\\Appenzeller_big\\\\n02107908_5017.png', 2),\n ('./modified/BIG\\\\Appenzeller_big\\\\n02107908_5112.png', 2),\n ('./modified/BIG\\\\Appenzeller_big\\\\n02107908_5162.png', 2),\n ('./modified/BIG\\\\Appenzeller_big\\\\n02107908_5254.png', 2),\n ('./modified/BIG\\\\Appenzeller_big\\\\n02107908_5312.png', 2),\n ('./modified/BIG\\\\Appenzeller_big\\\\n02107908_5371.png', 2),\n ('./modified/BIG\\\\Appenzeller_big\\\\n02107908_5378.png', 2),\n ('./modified/BIG\\\\Appenzeller_big\\\\n02107908_5402.png', 2),\n ('./modified/BIG\\\\Appenzeller_big\\\\n02107908_5534.png', 2),\n ('./modified/BIG\\\\Appenzeller_big\\\\n02107908_5654.png', 2),\n ('./modified/BIG\\\\Appenzeller_big\\\\n02107908_5662.png', 2),\n ('./modified/BIG\\\\Appenzeller_big\\\\n02107908_5767.png', 2),\n ('./modified/BIG\\\\Appenzeller_big\\\\n02107908_585.png', 2),\n ('./modified/BIG\\\\Appenzeller_big\\\\n02107908_5851.png', 2),\n ('./modified/BIG\\\\Appenzeller_big\\\\n02107908_5964.png', 2),\n ('./modified/BIG\\\\Appenzeller_big\\\\n02107908_599.png', 2),\n ('./modified/BIG\\\\Appenzeller_big\\\\n02107908_6008.png', 2),\n ('./modified/BIG\\\\Appenzeller_big\\\\n02107908_6019.png', 2),\n ('./modified/BIG\\\\Appenzeller_big\\\\n02107908_6042.png', 2),\n ('./modified/BIG\\\\Appenzeller_big\\\\n02107908_6045.png', 2),\n ('./modified/BIG\\\\Appenzeller_big\\\\n02107908_6093.png', 2),\n ('./modified/BIG\\\\Appenzeller_big\\\\n02107908_6366.png', 2),\n ('./modified/BIG\\\\Appenzeller_big\\\\n02107908_6487.png', 2),\n ('./modified/BIG\\\\Appenzeller_big\\\\n02107908_6567.png', 2),\n ('./modified/BIG\\\\Appenzeller_big\\\\n02107908_6649.png', 2),\n ('./modified/BIG\\\\Appenzeller_big\\\\n02107908_6683.png', 2),\n ('./modified/BIG\\\\Appenzeller_big\\\\n02107908_671.png', 2),\n ('./modified/BIG\\\\Appenzeller_big\\\\n02107908_6751.png', 2),\n ('./modified/BIG\\\\Appenzeller_big\\\\n02107908_6804.png', 2),\n ('./modified/BIG\\\\Appenzeller_big\\\\n02107908_6909.png', 2),\n ('./modified/BIG\\\\Appenzeller_big\\\\n02107908_691.png', 2),\n ('./modified/BIG\\\\Appenzeller_big\\\\n02107908_7122.png', 2),\n ('./modified/BIG\\\\Appenzeller_big\\\\n02107908_7183.png', 2),\n ('./modified/BIG\\\\Appenzeller_big\\\\n02107908_7205.png', 2),\n ('./modified/BIG\\\\Appenzeller_big\\\\n02107908_7232.png', 2),\n ('./modified/BIG\\\\Appenzeller_big\\\\n02107908_7236.png', 2),\n ('./modified/BIG\\\\Appenzeller_big\\\\n02107908_7259.png', 2),\n ('./modified/BIG\\\\Appenzeller_big\\\\n02107908_7267.png', 2),\n ('./modified/BIG\\\\Appenzeller_big\\\\n02107908_7316.png', 2),\n ('./modified/BIG\\\\Appenzeller_big\\\\n02107908_7364.png', 2),\n ('./modified/BIG\\\\Appenzeller_big\\\\n02107908_737.png', 2),\n ('./modified/BIG\\\\Appenzeller_big\\\\n02107908_7392.png', 2),\n ('./modified/BIG\\\\Appenzeller_big\\\\n02107908_7443.png', 2),\n ('./modified/BIG\\\\Appenzeller_big\\\\n02107908_754.png', 2),\n ('./modified/BIG\\\\Appenzeller_big\\\\n02107908_7553.png', 2),\n ('./modified/BIG\\\\Appenzeller_big\\\\n02107908_7567.png', 2),\n ('./modified/BIG\\\\Appenzeller_big\\\\n02107908_7643.png', 2),\n ('./modified/BIG\\\\Appenzeller_big\\\\n02107908_7690.png', 2),\n ('./modified/BIG\\\\Appenzeller_big\\\\n02107908_7700.png', 2),\n ('./modified/BIG\\\\Appenzeller_big\\\\n02107908_7711.png', 2),\n ('./modified/BIG\\\\Appenzeller_big\\\\n02107908_7943.png', 2),\n ('./modified/BIG\\\\Appenzeller_big\\\\n02107908_795.png', 2),\n ('./modified/BIG\\\\Appenzeller_big\\\\n02107908_80.png', 2),\n ('./modified/BIG\\\\Appenzeller_big\\\\n02107908_8207.png', 2),\n ('./modified/BIG\\\\Appenzeller_big\\\\n02107908_849.png', 2),\n ('./modified/BIG\\\\Appenzeller_big\\\\n02107908_895.png', 2),\n ('./modified/BIG\\\\Appenzeller_big\\\\n02107908_9.png', 2),\n ('./modified/BIG\\\\Appenzeller_big\\\\n02107908_91.png', 2),\n ('./modified/BIG\\\\Appenzeller_big\\\\n02107908_933.png', 2),\n ('./modified/BIG\\\\Appenzeller_big\\\\n02107908_94.png', 2),\n ('./modified/BIG\\\\Basset_big\\\\n02088238_10005.png', 3),\n ('./modified/BIG\\\\Basset_big\\\\n02088238_10013.png', 3),\n ('./modified/BIG\\\\Basset_big\\\\n02088238_10028.png', 3),\n ('./modified/BIG\\\\Basset_big\\\\n02088238_10049.png', 3),\n ('./modified/BIG\\\\Basset_big\\\\n02088238_10051.png', 3),\n ('./modified/BIG\\\\Basset_big\\\\n02088238_10054.png', 3),\n ('./modified/BIG\\\\Basset_big\\\\n02088238_10063.png', 3),\n ('./modified/BIG\\\\Basset_big\\\\n02088238_10072.png', 3),\n ('./modified/BIG\\\\Basset_big\\\\n02088238_10095.png', 3),\n ('./modified/BIG\\\\Basset_big\\\\n02088238_10102.png', 3),\n ('./modified/BIG\\\\Basset_big\\\\n02088238_10106.png', 3),\n ('./modified/BIG\\\\Basset_big\\\\n02088238_10110.png', 3),\n ('./modified/BIG\\\\Basset_big\\\\n02088238_10113.png', 3),\n ('./modified/BIG\\\\Basset_big\\\\n02088238_10129.png', 3),\n ('./modified/BIG\\\\Basset_big\\\\n02088238_10140.png', 3),\n ('./modified/BIG\\\\Basset_big\\\\n02088238_10142.png', 3),\n ('./modified/BIG\\\\Basset_big\\\\n02088238_10245.png', 3),\n ('./modified/BIG\\\\Basset_big\\\\n02088238_10288.png', 3),\n ('./modified/BIG\\\\Basset_big\\\\n02088238_10338.png', 3),\n ('./modified/BIG\\\\Basset_big\\\\n02088238_10358.png', 3),\n ('./modified/BIG\\\\Basset_big\\\\n02088238_10451.png', 3),\n ('./modified/BIG\\\\Basset_big\\\\n02088238_10473.png', 3),\n ('./modified/BIG\\\\Basset_big\\\\n02088238_10510.png', 3),\n ('./modified/BIG\\\\Basset_big\\\\n02088238_10592.png', 3),\n ('./modified/BIG\\\\Basset_big\\\\n02088238_10682.png', 3),\n ('./modified/BIG\\\\Basset_big\\\\n02088238_10741.png', 3),\n ('./modified/BIG\\\\Basset_big\\\\n02088238_10753.png', 3),\n ('./modified/BIG\\\\Basset_big\\\\n02088238_10757.png', 3),\n ('./modified/BIG\\\\Basset_big\\\\n02088238_10870.png', 3),\n ('./modified/BIG\\\\Basset_big\\\\n02088238_10932.png', 3),\n ('./modified/BIG\\\\Basset_big\\\\n02088238_11113.png', 3),\n ('./modified/BIG\\\\Basset_big\\\\n02088238_11124.png', 3),\n ('./modified/BIG\\\\Basset_big\\\\n02088238_11136.png', 3),\n ('./modified/BIG\\\\Basset_big\\\\n02088238_11148.png', 3),\n ('./modified/BIG\\\\Basset_big\\\\n02088238_11200.png', 3),\n ('./modified/BIG\\\\Basset_big\\\\n02088238_11204.png', 3),\n ('./modified/BIG\\\\Basset_big\\\\n02088238_11223.png', 3),\n ('./modified/BIG\\\\Basset_big\\\\n02088238_11281.png', 3),\n ('./modified/BIG\\\\Basset_big\\\\n02088238_11318.png', 3),\n ('./modified/BIG\\\\Basset_big\\\\n02088238_11339.png', 3),\n ('./modified/BIG\\\\Basset_big\\\\n02088238_11383.png', 3),\n ('./modified/BIG\\\\Basset_big\\\\n02088238_11393.png', 3),\n ('./modified/BIG\\\\Basset_big\\\\n02088238_11505.png', 3),\n ('./modified/BIG\\\\Basset_big\\\\n02088238_11511.png', 3),\n ('./modified/BIG\\\\Basset_big\\\\n02088238_11522.png', 3),\n ('./modified/BIG\\\\Basset_big\\\\n02088238_11542.png', 3),\n ('./modified/BIG\\\\Basset_big\\\\n02088238_11635.png', 3),\n ('./modified/BIG\\\\Basset_big\\\\n02088238_11846.png', 3),\n ('./modified/BIG\\\\Basset_big\\\\n02088238_11849.png', 3),\n ('./modified/BIG\\\\Basset_big\\\\n02088238_11917.png', 3),\n ('./modified/BIG\\\\Basset_big\\\\n02088238_12160.png', 3),\n ('./modified/BIG\\\\Basset_big\\\\n02088238_12196.png', 3),\n ('./modified/BIG\\\\Basset_big\\\\n02088238_12427.png', 3),\n ('./modified/BIG\\\\Basset_big\\\\n02088238_12469.png', 3),\n ('./modified/BIG\\\\Basset_big\\\\n02088238_12555.png', 3),\n ('./modified/BIG\\\\Basset_big\\\\n02088238_12563.png', 3),\n ('./modified/BIG\\\\Basset_big\\\\n02088238_1261.png', 3),\n ('./modified/BIG\\\\Basset_big\\\\n02088238_12710.png', 3),\n ('./modified/BIG\\\\Basset_big\\\\n02088238_12966.png', 3),\n ('./modified/BIG\\\\Basset_big\\\\n02088238_12974.png', 3),\n ('./modified/BIG\\\\Basset_big\\\\n02088238_12997.png', 3),\n ('./modified/BIG\\\\Basset_big\\\\n02088238_13036.png', 3),\n ('./modified/BIG\\\\Basset_big\\\\n02088238_13079.png', 3),\n ('./modified/BIG\\\\Basset_big\\\\n02088238_13199.png', 3),\n ('./modified/BIG\\\\Basset_big\\\\n02088238_13222.png', 3),\n ('./modified/BIG\\\\Basset_big\\\\n02088238_13373.png', 3),\n ('./modified/BIG\\\\Basset_big\\\\n02088238_13439.png', 3),\n ('./modified/BIG\\\\Basset_big\\\\n02088238_13608.png', 3),\n ('./modified/BIG\\\\Basset_big\\\\n02088238_13683.png', 3),\n ('./modified/BIG\\\\Basset_big\\\\n02088238_13709.png', 3),\n ('./modified/BIG\\\\Basset_big\\\\n02088238_13720.png', 3),\n ('./modified/BIG\\\\Basset_big\\\\n02088238_13799.png', 3),\n ('./modified/BIG\\\\Basset_big\\\\n02088238_13847.png', 3),\n ('./modified/BIG\\\\Basset_big\\\\n02088238_13908.png', 3),\n ('./modified/BIG\\\\Basset_big\\\\n02088238_1454.png', 3),\n ('./modified/BIG\\\\Basset_big\\\\n02088238_1731.png', 3),\n ('./modified/BIG\\\\Basset_big\\\\n02088238_1944.png', 3),\n ('./modified/BIG\\\\Basset_big\\\\n02088238_2009.png', 3),\n ('./modified/BIG\\\\Basset_big\\\\n02088238_2217.png', 3),\n ('./modified/BIG\\\\Basset_big\\\\n02088238_2574.png', 3),\n ('./modified/BIG\\\\Basset_big\\\\n02088238_2646.png', 3),\n ('./modified/BIG\\\\Basset_big\\\\n02088238_2674.png', 3),\n ('./modified/BIG\\\\Basset_big\\\\n02088238_2686.png', 3),\n ('./modified/BIG\\\\Basset_big\\\\n02088238_2879.png', 3),\n ('./modified/BIG\\\\Basset_big\\\\n02088238_3066.png', 3),\n ('./modified/BIG\\\\Basset_big\\\\n02088238_3079.png', 3),\n ('./modified/BIG\\\\Basset_big\\\\n02088238_3359.png', 3),\n ('./modified/BIG\\\\Basset_big\\\\n02088238_3475.png', 3),\n ('./modified/BIG\\\\Basset_big\\\\n02088238_3579.png', 3),\n ('./modified/BIG\\\\Basset_big\\\\n02088238_363.png', 3),\n ('./modified/BIG\\\\Basset_big\\\\n02088238_3778.png', 3),\n ('./modified/BIG\\\\Basset_big\\\\n02088238_4182.png', 3),\n ('./modified/BIG\\\\Basset_big\\\\n02088238_4365.png', 3),\n ('./modified/BIG\\\\Basset_big\\\\n02088238_4374.png', 3),\n ('./modified/BIG\\\\Basset_big\\\\n02088238_490.png', 3),\n ('./modified/BIG\\\\Basset_big\\\\n02088238_517.png', 3),\n ('./modified/BIG\\\\Basset_big\\\\n02088238_5239.png', 3),\n ('./modified/BIG\\\\Basset_big\\\\n02088238_5441.png', 3),\n ('./modified/BIG\\\\Basset_big\\\\n02088238_600.png', 3),\n ('./modified/BIG\\\\Basset_big\\\\n02088238_6012.png', 3),\n ('./modified/BIG\\\\Basset_big\\\\n02088238_6017.png', 3),\n ('./modified/BIG\\\\Basset_big\\\\n02088238_6035.png', 3),\n ('./modified/BIG\\\\Basset_big\\\\n02088238_6161.png', 3),\n ('./modified/BIG\\\\Basset_big\\\\n02088238_6532.png', 3),\n ('./modified/BIG\\\\Basset_big\\\\n02088238_657.png', 3),\n ('./modified/BIG\\\\Basset_big\\\\n02088238_658.png', 3),\n ('./modified/BIG\\\\Basset_big\\\\n02088238_6621.png', 3),\n ('./modified/BIG\\\\Basset_big\\\\n02088238_664.png', 3),\n ('./modified/BIG\\\\Basset_big\\\\n02088238_665.png', 3),\n ('./modified/BIG\\\\Basset_big\\\\n02088238_6707.png', 3),\n ('./modified/BIG\\\\Basset_big\\\\n02088238_6708.png', 3),\n ('./modified/BIG\\\\Basset_big\\\\n02088238_6812.png', 3),\n ('./modified/BIG\\\\Basset_big\\\\n02088238_6988.png', 3),\n ('./modified/BIG\\\\Basset_big\\\\n02088238_7131.png', 3),\n ('./modified/BIG\\\\Basset_big\\\\n02088238_7181.png', 3),\n ('./modified/BIG\\\\Basset_big\\\\n02088238_7232.png', 3),\n ('./modified/BIG\\\\Basset_big\\\\n02088238_7233.png', 3),\n ('./modified/BIG\\\\Basset_big\\\\n02088238_7487.png', 3),\n ('./modified/BIG\\\\Basset_big\\\\n02088238_7553.png', 3),\n ('./modified/BIG\\\\Basset_big\\\\n02088238_7718.png', 3),\n ('./modified/BIG\\\\Basset_big\\\\n02088238_7741.png', 3),\n ('./modified/BIG\\\\Basset_big\\\\n02088238_7855.png', 3),\n ('./modified/BIG\\\\Basset_big\\\\n02088238_8140.png', 3),\n ('./modified/BIG\\\\Basset_big\\\\n02088238_8480.png', 3),\n ('./modified/BIG\\\\Basset_big\\\\n02088238_8520.png', 3),\n ('./modified/BIG\\\\Basset_big\\\\n02088238_8839.png', 3),\n ('./modified/BIG\\\\Basset_big\\\\n02088238_9015.png', 3),\n ('./modified/BIG\\\\Basset_big\\\\n02088238_9025.png', 3),\n ('./modified/BIG\\\\Basset_big\\\\n02088238_9154.png', 3),\n ('./modified/BIG\\\\Basset_big\\\\n02088238_9162.png', 3),\n ('./modified/BIG\\\\Basset_big\\\\n02088238_9257.png', 3),\n ('./modified/BIG\\\\Basset_big\\\\n02088238_9267.png', 3),\n ('./modified/BIG\\\\Basset_big\\\\n02088238_9292.png', 3),\n ('./modified/BIG\\\\Basset_big\\\\n02088238_9324.png', 3),\n ('./modified/BIG\\\\Basset_big\\\\n02088238_9332.png', 3),\n ('./modified/BIG\\\\Basset_big\\\\n02088238_9351.png', 3),\n ('./modified/BIG\\\\Basset_big\\\\n02088238_9360.png', 3),\n ('./modified/BIG\\\\Basset_big\\\\n02088238_9372.png', 3),\n ('./modified/BIG\\\\Basset_big\\\\n02088238_9419.png', 3),\n ('./modified/BIG\\\\Basset_big\\\\n02088238_9446.png', 3),\n ('./modified/BIG\\\\Basset_big\\\\n02088238_9467.png', 3),\n ('./modified/BIG\\\\Basset_big\\\\n02088238_9486.png', 3),\n ('./modified/BIG\\\\Basset_big\\\\n02088238_9529.png', 3),\n ('./modified/BIG\\\\Basset_big\\\\n02088238_9577.png', 3),\n ('./modified/BIG\\\\Basset_big\\\\n02088238_9585.png', 3),\n ('./modified/BIG\\\\Basset_big\\\\n02088238_9590.png', 3),\n ('./modified/BIG\\\\Basset_big\\\\n02088238_9595.png', 3),\n ('./modified/BIG\\\\Basset_big\\\\n02088238_9600.png', 3),\n ('./modified/BIG\\\\Basset_big\\\\n02088238_9626.png', 3),\n ('./modified/BIG\\\\Basset_big\\\\n02088238_9635.png', 3),\n ('./modified/BIG\\\\Basset_big\\\\n02088238_9691.png', 3),\n ('./modified/BIG\\\\Basset_big\\\\n02088238_9701.png', 3),\n ('./modified/BIG\\\\Basset_big\\\\n02088238_9718.png', 3),\n ('./modified/BIG\\\\Basset_big\\\\n02088238_9725.png', 3),\n ('./modified/BIG\\\\Basset_big\\\\n02088238_9751.png', 3),\n ('./modified/BIG\\\\Basset_big\\\\n02088238_9778.png', 3),\n ('./modified/BIG\\\\Basset_big\\\\n02088238_9787.png', 3),\n ('./modified/BIG\\\\Basset_big\\\\n02088238_9789.png', 3),\n ('./modified/BIG\\\\Basset_big\\\\n02088238_9797.png', 3),\n ('./modified/BIG\\\\Basset_big\\\\n02088238_9815.png', 3),\n ('./modified/BIG\\\\Basset_big\\\\n02088238_9900.png', 3),\n ('./modified/BIG\\\\Basset_big\\\\n02088238_9922.png', 3),\n ('./modified/BIG\\\\Basset_big\\\\n02088238_9933.png', 3),\n ('./modified/BIG\\\\Basset_big\\\\n02088238_9947.png', 3),\n ('./modified/BIG\\\\Basset_big\\\\n02088238_9960.png', 3),\n ('./modified/BIG\\\\Basset_big\\\\n02088238_9986.png', 3),\n ('./modified/BIG\\\\Basset_big\\\\n02088238_9993.png', 3),\n ('./modified/BIG\\\\Basset_big\\\\n02088238_9994.png', 3),\n ('./modified/BIG\\\\BerneseMountainDog_big\\\\n02107683_1003.png', 4),\n ('./modified/BIG\\\\BerneseMountainDog_big\\\\n02107683_1071.png', 4),\n ('./modified/BIG\\\\BerneseMountainDog_big\\\\n02107683_1076.png', 4),\n ('./modified/BIG\\\\BerneseMountainDog_big\\\\n02107683_1175.png', 4),\n ('./modified/BIG\\\\BerneseMountainDog_big\\\\n02107683_1224.png', 4),\n ('./modified/BIG\\\\BerneseMountainDog_big\\\\n02107683_1244.png', 4),\n ('./modified/BIG\\\\BerneseMountainDog_big\\\\n02107683_1248.png', 4),\n ('./modified/BIG\\\\BerneseMountainDog_big\\\\n02107683_1255.png', 4),\n ('./modified/BIG\\\\BerneseMountainDog_big\\\\n02107683_1282.png', 4),\n ('./modified/BIG\\\\BerneseMountainDog_big\\\\n02107683_1317.png', 4),\n ('./modified/BIG\\\\BerneseMountainDog_big\\\\n02107683_1375.png', 4),\n ('./modified/BIG\\\\BerneseMountainDog_big\\\\n02107683_1400.png', 4),\n ('./modified/BIG\\\\BerneseMountainDog_big\\\\n02107683_1412.png', 4),\n ('./modified/BIG\\\\BerneseMountainDog_big\\\\n02107683_1417.png', 4),\n ('./modified/BIG\\\\BerneseMountainDog_big\\\\n02107683_1421.png', 4),\n ('./modified/BIG\\\\BerneseMountainDog_big\\\\n02107683_1429.png', 4),\n ('./modified/BIG\\\\BerneseMountainDog_big\\\\n02107683_1460.png', 4),\n ('./modified/BIG\\\\BerneseMountainDog_big\\\\n02107683_1468.png', 4),\n ('./modified/BIG\\\\BerneseMountainDog_big\\\\n02107683_1536.png', 4),\n ('./modified/BIG\\\\BerneseMountainDog_big\\\\n02107683_1542.png', 4),\n ('./modified/BIG\\\\BerneseMountainDog_big\\\\n02107683_160.png', 4),\n ('./modified/BIG\\\\BerneseMountainDog_big\\\\n02107683_1629.png', 4),\n ('./modified/BIG\\\\BerneseMountainDog_big\\\\n02107683_1677.png', 4),\n ('./modified/BIG\\\\BerneseMountainDog_big\\\\n02107683_1707.png', 4),\n ('./modified/BIG\\\\BerneseMountainDog_big\\\\n02107683_1737.png', 4),\n ('./modified/BIG\\\\BerneseMountainDog_big\\\\n02107683_1747.png', 4),\n ('./modified/BIG\\\\BerneseMountainDog_big\\\\n02107683_1752.png', 4),\n ('./modified/BIG\\\\BerneseMountainDog_big\\\\n02107683_1781.png', 4),\n ('./modified/BIG\\\\BerneseMountainDog_big\\\\n02107683_1958.png', 4),\n ('./modified/BIG\\\\BerneseMountainDog_big\\\\n02107683_1977.png', 4),\n ('./modified/BIG\\\\BerneseMountainDog_big\\\\n02107683_20.png', 4),\n ('./modified/BIG\\\\BerneseMountainDog_big\\\\n02107683_2007.png', 4),\n ('./modified/BIG\\\\BerneseMountainDog_big\\\\n02107683_2036.png', 4),\n ('./modified/BIG\\\\BerneseMountainDog_big\\\\n02107683_2043.png', 4),\n ('./modified/BIG\\\\BerneseMountainDog_big\\\\n02107683_2059.png', 4),\n ('./modified/BIG\\\\BerneseMountainDog_big\\\\n02107683_2137.png', 4),\n ('./modified/BIG\\\\BerneseMountainDog_big\\\\n02107683_215.png', 4),\n ('./modified/BIG\\\\BerneseMountainDog_big\\\\n02107683_2277.png', 4),\n ('./modified/BIG\\\\BerneseMountainDog_big\\\\n02107683_2305.png', 4),\n ('./modified/BIG\\\\BerneseMountainDog_big\\\\n02107683_2312.png', 4),\n ('./modified/BIG\\\\BerneseMountainDog_big\\\\n02107683_2350.png', 4),\n ('./modified/BIG\\\\BerneseMountainDog_big\\\\n02107683_2360.png', 4),\n ('./modified/BIG\\\\BerneseMountainDog_big\\\\n02107683_241.png', 4),\n ('./modified/BIG\\\\BerneseMountainDog_big\\\\n02107683_2521.png', 4),\n ('./modified/BIG\\\\BerneseMountainDog_big\\\\n02107683_2535.png', 4),\n ('./modified/BIG\\\\BerneseMountainDog_big\\\\n02107683_2567.png', 4),\n ('./modified/BIG\\\\BerneseMountainDog_big\\\\n02107683_257.png', 4),\n ('./modified/BIG\\\\BerneseMountainDog_big\\\\n02107683_265.png', 4),\n ('./modified/BIG\\\\BerneseMountainDog_big\\\\n02107683_2664.png', 4),\n ('./modified/BIG\\\\BerneseMountainDog_big\\\\n02107683_2683.png', 4),\n ('./modified/BIG\\\\BerneseMountainDog_big\\\\n02107683_2693.png', 4),\n ('./modified/BIG\\\\BerneseMountainDog_big\\\\n02107683_2705.png', 4),\n ('./modified/BIG\\\\BerneseMountainDog_big\\\\n02107683_2727.png', 4),\n ('./modified/BIG\\\\BerneseMountainDog_big\\\\n02107683_2734.png', 4),\n ('./modified/BIG\\\\BerneseMountainDog_big\\\\n02107683_275.png', 4),\n ('./modified/BIG\\\\BerneseMountainDog_big\\\\n02107683_2758.png', 4),\n ('./modified/BIG\\\\BerneseMountainDog_big\\\\n02107683_2771.png', 4),\n ('./modified/BIG\\\\BerneseMountainDog_big\\\\n02107683_2878.png', 4),\n ('./modified/BIG\\\\BerneseMountainDog_big\\\\n02107683_2881.png', 4),\n ('./modified/BIG\\\\BerneseMountainDog_big\\\\n02107683_2902.png', 4),\n ('./modified/BIG\\\\BerneseMountainDog_big\\\\n02107683_2913.png', 4),\n ('./modified/BIG\\\\BerneseMountainDog_big\\\\n02107683_2946.png', 4),\n ('./modified/BIG\\\\BerneseMountainDog_big\\\\n02107683_2965.png', 4),\n ('./modified/BIG\\\\BerneseMountainDog_big\\\\n02107683_3034.png', 4),\n ('./modified/BIG\\\\BerneseMountainDog_big\\\\n02107683_3046.png', 4),\n ('./modified/BIG\\\\BerneseMountainDog_big\\\\n02107683_3088.png', 4),\n ('./modified/BIG\\\\BerneseMountainDog_big\\\\n02107683_3138.png', 4),\n ('./modified/BIG\\\\BerneseMountainDog_big\\\\n02107683_3140.png', 4),\n ('./modified/BIG\\\\BerneseMountainDog_big\\\\n02107683_3166.png', 4),\n ('./modified/BIG\\\\BerneseMountainDog_big\\\\n02107683_3204.png', 4),\n ('./modified/BIG\\\\BerneseMountainDog_big\\\\n02107683_3278.png', 4),\n ('./modified/BIG\\\\BerneseMountainDog_big\\\\n02107683_3291.png', 4),\n ('./modified/BIG\\\\BerneseMountainDog_big\\\\n02107683_3297.png', 4),\n ('./modified/BIG\\\\BerneseMountainDog_big\\\\n02107683_33.png', 4),\n ('./modified/BIG\\\\BerneseMountainDog_big\\\\n02107683_333.png', 4),\n ('./modified/BIG\\\\BerneseMountainDog_big\\\\n02107683_3351.png', 4),\n ('./modified/BIG\\\\BerneseMountainDog_big\\\\n02107683_3358.png', 4),\n ('./modified/BIG\\\\BerneseMountainDog_big\\\\n02107683_3379.png', 4),\n ('./modified/BIG\\\\BerneseMountainDog_big\\\\n02107683_3382.png', 4),\n ('./modified/BIG\\\\BerneseMountainDog_big\\\\n02107683_34.png', 4),\n ('./modified/BIG\\\\BerneseMountainDog_big\\\\n02107683_3406.png', 4),\n ('./modified/BIG\\\\BerneseMountainDog_big\\\\n02107683_342.png', 4),\n ('./modified/BIG\\\\BerneseMountainDog_big\\\\n02107683_3478.png', 4),\n ('./modified/BIG\\\\BerneseMountainDog_big\\\\n02107683_3488.png', 4),\n ('./modified/BIG\\\\BerneseMountainDog_big\\\\n02107683_3512.png', 4),\n ('./modified/BIG\\\\BerneseMountainDog_big\\\\n02107683_3568.png', 4),\n ('./modified/BIG\\\\BerneseMountainDog_big\\\\n02107683_357.png', 4),\n ('./modified/BIG\\\\BerneseMountainDog_big\\\\n02107683_3609.png', 4),\n ('./modified/BIG\\\\BerneseMountainDog_big\\\\n02107683_3655.png', 4),\n ('./modified/BIG\\\\BerneseMountainDog_big\\\\n02107683_3659.png', 4),\n ('./modified/BIG\\\\BerneseMountainDog_big\\\\n02107683_3694.png', 4),\n ('./modified/BIG\\\\BerneseMountainDog_big\\\\n02107683_3760.png', 4),\n ('./modified/BIG\\\\BerneseMountainDog_big\\\\n02107683_3797.png', 4),\n ('./modified/BIG\\\\BerneseMountainDog_big\\\\n02107683_381.png', 4),\n ('./modified/BIG\\\\BerneseMountainDog_big\\\\n02107683_3817.png', 4),\n ('./modified/BIG\\\\BerneseMountainDog_big\\\\n02107683_3828.png', 4),\n ('./modified/BIG\\\\BerneseMountainDog_big\\\\n02107683_3900.png', 4),\n ('./modified/BIG\\\\BerneseMountainDog_big\\\\n02107683_3902.png', 4),\n ('./modified/BIG\\\\BerneseMountainDog_big\\\\n02107683_3908.png', 4),\n ('./modified/BIG\\\\BerneseMountainDog_big\\\\n02107683_3931.png', 4),\n ('./modified/BIG\\\\BerneseMountainDog_big\\\\n02107683_3944.png', 4),\n ('./modified/BIG\\\\BerneseMountainDog_big\\\\n02107683_3952.png', 4),\n ('./modified/BIG\\\\BerneseMountainDog_big\\\\n02107683_3958.png', 4),\n ('./modified/BIG\\\\BerneseMountainDog_big\\\\n02107683_3987.png', 4),\n ('./modified/BIG\\\\BerneseMountainDog_big\\\\n02107683_3988.png', 4),\n ('./modified/BIG\\\\BerneseMountainDog_big\\\\n02107683_4016.png', 4),\n ('./modified/BIG\\\\BerneseMountainDog_big\\\\n02107683_4018.png', 4),\n ('./modified/BIG\\\\BerneseMountainDog_big\\\\n02107683_4043.png', 4),\n ('./modified/BIG\\\\BerneseMountainDog_big\\\\n02107683_4061.png', 4),\n ('./modified/BIG\\\\BerneseMountainDog_big\\\\n02107683_4168.png', 4),\n ('./modified/BIG\\\\BerneseMountainDog_big\\\\n02107683_4183.png', 4),\n ('./modified/BIG\\\\BerneseMountainDog_big\\\\n02107683_4194.png', 4),\n ('./modified/BIG\\\\BerneseMountainDog_big\\\\n02107683_4200.png', 4),\n ('./modified/BIG\\\\BerneseMountainDog_big\\\\n02107683_4260.png', 4),\n ('./modified/BIG\\\\BerneseMountainDog_big\\\\n02107683_4347.png', 4),\n ('./modified/BIG\\\\BerneseMountainDog_big\\\\n02107683_4350.png', 4),\n ('./modified/BIG\\\\BerneseMountainDog_big\\\\n02107683_4364.png', 4),\n ('./modified/BIG\\\\BerneseMountainDog_big\\\\n02107683_4386.png', 4),\n ('./modified/BIG\\\\BerneseMountainDog_big\\\\n02107683_4402.png', 4),\n ('./modified/BIG\\\\BerneseMountainDog_big\\\\n02107683_4410.png', 4),\n ('./modified/BIG\\\\BerneseMountainDog_big\\\\n02107683_4411.png', 4),\n ('./modified/BIG\\\\BerneseMountainDog_big\\\\n02107683_443.png', 4),\n ('./modified/BIG\\\\BerneseMountainDog_big\\\\n02107683_4473.png', 4),\n ('./modified/BIG\\\\BerneseMountainDog_big\\\\n02107683_4487.png', 4),\n ('./modified/BIG\\\\BerneseMountainDog_big\\\\n02107683_4494.png', 4),\n ('./modified/BIG\\\\BerneseMountainDog_big\\\\n02107683_4515.png', 4),\n ('./modified/BIG\\\\BerneseMountainDog_big\\\\n02107683_4520.png', 4),\n ('./modified/BIG\\\\BerneseMountainDog_big\\\\n02107683_4521.png', 4),\n ('./modified/BIG\\\\BerneseMountainDog_big\\\\n02107683_454.png', 4),\n ('./modified/BIG\\\\BerneseMountainDog_big\\\\n02107683_4558.png', 4),\n ('./modified/BIG\\\\BerneseMountainDog_big\\\\n02107683_4576.png', 4),\n ('./modified/BIG\\\\BerneseMountainDog_big\\\\n02107683_4633.png', 4),\n ('./modified/BIG\\\\BerneseMountainDog_big\\\\n02107683_4649.png', 4),\n ('./modified/BIG\\\\BerneseMountainDog_big\\\\n02107683_4653.png', 4),\n ('./modified/BIG\\\\BerneseMountainDog_big\\\\n02107683_4688.png', 4),\n ('./modified/BIG\\\\BerneseMountainDog_big\\\\n02107683_4695.png', 4),\n ('./modified/BIG\\\\BerneseMountainDog_big\\\\n02107683_4697.png', 4),\n ('./modified/BIG\\\\BerneseMountainDog_big\\\\n02107683_4727.png', 4),\n ('./modified/BIG\\\\BerneseMountainDog_big\\\\n02107683_4782.png', 4),\n ('./modified/BIG\\\\BerneseMountainDog_big\\\\n02107683_4788.png', 4),\n ('./modified/BIG\\\\BerneseMountainDog_big\\\\n02107683_4807.png', 4),\n ('./modified/BIG\\\\BerneseMountainDog_big\\\\n02107683_4810.png', 4),\n ('./modified/BIG\\\\BerneseMountainDog_big\\\\n02107683_4884.png', 4),\n ('./modified/BIG\\\\BerneseMountainDog_big\\\\n02107683_4885.png', 4),\n ('./modified/BIG\\\\BerneseMountainDog_big\\\\n02107683_4899.png', 4),\n ('./modified/BIG\\\\BerneseMountainDog_big\\\\n02107683_4907.png', 4),\n ('./modified/BIG\\\\BerneseMountainDog_big\\\\n02107683_4924.png', 4),\n ('./modified/BIG\\\\BerneseMountainDog_big\\\\n02107683_494.png', 4),\n ('./modified/BIG\\\\BerneseMountainDog_big\\\\n02107683_4941.png', 4),\n ('./modified/BIG\\\\BerneseMountainDog_big\\\\n02107683_4947.png', 4),\n ('./modified/BIG\\\\BerneseMountainDog_big\\\\n02107683_5018.png', 4),\n ('./modified/BIG\\\\BerneseMountainDog_big\\\\n02107683_5026.png', 4),\n ('./modified/BIG\\\\BerneseMountainDog_big\\\\n02107683_5112.png', 4),\n ('./modified/BIG\\\\BerneseMountainDog_big\\\\n02107683_5115.png', 4),\n ('./modified/BIG\\\\BerneseMountainDog_big\\\\n02107683_5131.png', 4),\n ('./modified/BIG\\\\BerneseMountainDog_big\\\\n02107683_5133.png', 4),\n ('./modified/BIG\\\\BerneseMountainDog_big\\\\n02107683_5155.png', 4),\n ('./modified/BIG\\\\BerneseMountainDog_big\\\\n02107683_5194.png', 4),\n ('./modified/BIG\\\\BerneseMountainDog_big\\\\n02107683_5204.png', 4),\n ('./modified/BIG\\\\BerneseMountainDog_big\\\\n02107683_522.png', 4),\n ('./modified/BIG\\\\BerneseMountainDog_big\\\\n02107683_5228.png', 4),\n ('./modified/BIG\\\\BerneseMountainDog_big\\\\n02107683_5290.png', 4),\n ('./modified/BIG\\\\BerneseMountainDog_big\\\\n02107683_5333.png', 4),\n ('./modified/BIG\\\\BerneseMountainDog_big\\\\n02107683_5363.png', 4),\n ('./modified/BIG\\\\BerneseMountainDog_big\\\\n02107683_5391.png', 4),\n ('./modified/BIG\\\\BerneseMountainDog_big\\\\n02107683_5397.png', 4),\n ('./modified/BIG\\\\BerneseMountainDog_big\\\\n02107683_5538.png', 4),\n ('./modified/BIG\\\\BerneseMountainDog_big\\\\n02107683_5663.png', 4),\n ('./modified/BIG\\\\BerneseMountainDog_big\\\\n02107683_5684.png', 4),\n ('./modified/BIG\\\\BerneseMountainDog_big\\\\n02107683_5699.png', 4),\n ('./modified/BIG\\\\BerneseMountainDog_big\\\\n02107683_570.png', 4),\n ('./modified/BIG\\\\BerneseMountainDog_big\\\\n02107683_5745.png', 4),\n ('./modified/BIG\\\\BerneseMountainDog_big\\\\n02107683_5751.png', 4),\n ('./modified/BIG\\\\BerneseMountainDog_big\\\\n02107683_5821.png', 4),\n ('./modified/BIG\\\\BerneseMountainDog_big\\\\n02107683_5823.png', 4),\n ('./modified/BIG\\\\BerneseMountainDog_big\\\\n02107683_5840.png', 4),\n ('./modified/BIG\\\\BerneseMountainDog_big\\\\n02107683_5848.png', 4),\n ('./modified/BIG\\\\BerneseMountainDog_big\\\\n02107683_5946.png', 4),\n ('./modified/BIG\\\\BerneseMountainDog_big\\\\n02107683_5960.png', 4),\n ('./modified/BIG\\\\BerneseMountainDog_big\\\\n02107683_61.png', 4),\n ('./modified/BIG\\\\BerneseMountainDog_big\\\\n02107683_6151.png', 4),\n ('./modified/BIG\\\\BerneseMountainDog_big\\\\n02107683_6200.png', 4),\n ('./modified/BIG\\\\BerneseMountainDog_big\\\\n02107683_6293.png', 4),\n ('./modified/BIG\\\\BerneseMountainDog_big\\\\n02107683_6301.png', 4),\n ('./modified/BIG\\\\BerneseMountainDog_big\\\\n02107683_6325.png', 4),\n ('./modified/BIG\\\\BerneseMountainDog_big\\\\n02107683_6336.png', 4),\n ('./modified/BIG\\\\BerneseMountainDog_big\\\\n02107683_6378.png', 4),\n ('./modified/BIG\\\\BerneseMountainDog_big\\\\n02107683_6381.png', 4),\n ('./modified/BIG\\\\BerneseMountainDog_big\\\\n02107683_6580.png', 4),\n ('./modified/BIG\\\\BerneseMountainDog_big\\\\n02107683_6596.png', 4),\n ('./modified/BIG\\\\BerneseMountainDog_big\\\\n02107683_6660.png', 4),\n ('./modified/BIG\\\\BerneseMountainDog_big\\\\n02107683_673.png', 4),\n ('./modified/BIG\\\\BerneseMountainDog_big\\\\n02107683_6752.png', 4),\n ('./modified/BIG\\\\BerneseMountainDog_big\\\\n02107683_6772.png', 4),\n ('./modified/BIG\\\\BerneseMountainDog_big\\\\n02107683_6781.png', 4),\n ('./modified/BIG\\\\BerneseMountainDog_big\\\\n02107683_6800.png', 4),\n ('./modified/BIG\\\\BerneseMountainDog_big\\\\n02107683_6825.png', 4),\n ('./modified/BIG\\\\BerneseMountainDog_big\\\\n02107683_6846.png', 4),\n ('./modified/BIG\\\\BerneseMountainDog_big\\\\n02107683_6875.png', 4),\n ('./modified/BIG\\\\BerneseMountainDog_big\\\\n02107683_690.png', 4),\n ('./modified/BIG\\\\BerneseMountainDog_big\\\\n02107683_6916.png', 4),\n ('./modified/BIG\\\\BerneseMountainDog_big\\\\n02107683_6950.png', 4),\n ('./modified/BIG\\\\BerneseMountainDog_big\\\\n02107683_697.png', 4),\n ('./modified/BIG\\\\BerneseMountainDog_big\\\\n02107683_698.png', 4),\n ('./modified/BIG\\\\BerneseMountainDog_big\\\\n02107683_6998.png', 4),\n ('./modified/BIG\\\\BerneseMountainDog_big\\\\n02107683_6999.png', 4),\n ('./modified/BIG\\\\BerneseMountainDog_big\\\\n02107683_7038.png', 4),\n ('./modified/BIG\\\\BerneseMountainDog_big\\\\n02107683_705.png', 4),\n ('./modified/BIG\\\\BerneseMountainDog_big\\\\n02107683_71.png', 4),\n ('./modified/BIG\\\\BerneseMountainDog_big\\\\n02107683_7104.png', 4),\n ('./modified/BIG\\\\BerneseMountainDog_big\\\\n02107683_7183.png', 4),\n ('./modified/BIG\\\\BerneseMountainDog_big\\\\n02107683_7196.png', 4),\n ('./modified/BIG\\\\BerneseMountainDog_big\\\\n02107683_7202.png', 4),\n ('./modified/BIG\\\\BerneseMountainDog_big\\\\n02107683_735.png', 4),\n ('./modified/BIG\\\\BerneseMountainDog_big\\\\n02107683_825.png', 4),\n ('./modified/BIG\\\\BerneseMountainDog_big\\\\n02107683_906.png', 4),\n ('./modified/BIG\\\\BerneseMountainDog_big\\\\n02107683_997.png', 4),\n ('./modified/BIG\\\\BlackAndTanCoonhound_big\\\\n02089078_1021.png', 5),\n ('./modified/BIG\\\\BlackAndTanCoonhound_big\\\\n02089078_1025.png', 5),\n ('./modified/BIG\\\\BlackAndTanCoonhound_big\\\\n02089078_1026.png', 5),\n ('./modified/BIG\\\\BlackAndTanCoonhound_big\\\\n02089078_1064.png', 5),\n ('./modified/BIG\\\\BlackAndTanCoonhound_big\\\\n02089078_1151.png', 5),\n ('./modified/BIG\\\\BlackAndTanCoonhound_big\\\\n02089078_1174.png', 5),\n ('./modified/BIG\\\\BlackAndTanCoonhound_big\\\\n02089078_1245.png', 5),\n ('./modified/BIG\\\\BlackAndTanCoonhound_big\\\\n02089078_1275.png', 5),\n ('./modified/BIG\\\\BlackAndTanCoonhound_big\\\\n02089078_1304.png', 5),\n ('./modified/BIG\\\\BlackAndTanCoonhound_big\\\\n02089078_1366.png', 5),\n ('./modified/BIG\\\\BlackAndTanCoonhound_big\\\\n02089078_141.png', 5),\n ('./modified/BIG\\\\BlackAndTanCoonhound_big\\\\n02089078_1454.png', 5),\n ('./modified/BIG\\\\BlackAndTanCoonhound_big\\\\n02089078_1472.png', 5),\n ('./modified/BIG\\\\BlackAndTanCoonhound_big\\\\n02089078_1617.png', 5),\n ('./modified/BIG\\\\BlackAndTanCoonhound_big\\\\n02089078_1629.png', 5),\n ('./modified/BIG\\\\BlackAndTanCoonhound_big\\\\n02089078_1668.png', 5),\n ('./modified/BIG\\\\BlackAndTanCoonhound_big\\\\n02089078_1680.png', 5),\n ('./modified/BIG\\\\BlackAndTanCoonhound_big\\\\n02089078_1681.png', 5),\n ('./modified/BIG\\\\BlackAndTanCoonhound_big\\\\n02089078_1735.png', 5),\n ('./modified/BIG\\\\BlackAndTanCoonhound_big\\\\n02089078_1744.png', 5),\n ('./modified/BIG\\\\BlackAndTanCoonhound_big\\\\n02089078_1758.png', 5),\n ('./modified/BIG\\\\BlackAndTanCoonhound_big\\\\n02089078_176.png', 5),\n ('./modified/BIG\\\\BlackAndTanCoonhound_big\\\\n02089078_1793.png', 5),\n ('./modified/BIG\\\\BlackAndTanCoonhound_big\\\\n02089078_1825.png', 5),\n ('./modified/BIG\\\\BlackAndTanCoonhound_big\\\\n02089078_183.png', 5),\n ('./modified/BIG\\\\BlackAndTanCoonhound_big\\\\n02089078_1836.png', 5),\n ('./modified/BIG\\\\BlackAndTanCoonhound_big\\\\n02089078_1842.png', 5),\n ('./modified/BIG\\\\BlackAndTanCoonhound_big\\\\n02089078_185.png', 5),\n ('./modified/BIG\\\\BlackAndTanCoonhound_big\\\\n02089078_1867.png', 5),\n ('./modified/BIG\\\\BlackAndTanCoonhound_big\\\\n02089078_188.png', 5),\n ('./modified/BIG\\\\BlackAndTanCoonhound_big\\\\n02089078_19.png', 5),\n ('./modified/BIG\\\\BlackAndTanCoonhound_big\\\\n02089078_192.png', 5),\n ('./modified/BIG\\\\BlackAndTanCoonhound_big\\\\n02089078_1951.png', 5),\n ('./modified/BIG\\\\BlackAndTanCoonhound_big\\\\n02089078_1962.png', 5),\n ('./modified/BIG\\\\BlackAndTanCoonhound_big\\\\n02089078_1967.png', 5),\n ('./modified/BIG\\\\BlackAndTanCoonhound_big\\\\n02089078_2021.png', 5),\n ('./modified/BIG\\\\BlackAndTanCoonhound_big\\\\n02089078_2025.png', 5),\n ('./modified/BIG\\\\BlackAndTanCoonhound_big\\\\n02089078_2032.png', 5),\n ('./modified/BIG\\\\BlackAndTanCoonhound_big\\\\n02089078_2106.png', 5),\n ('./modified/BIG\\\\BlackAndTanCoonhound_big\\\\n02089078_2108.png', 5),\n ('./modified/BIG\\\\BlackAndTanCoonhound_big\\\\n02089078_2110.png', 5),\n ('./modified/BIG\\\\BlackAndTanCoonhound_big\\\\n02089078_2174.png', 5),\n ('./modified/BIG\\\\BlackAndTanCoonhound_big\\\\n02089078_222.png', 5),\n ('./modified/BIG\\\\BlackAndTanCoonhound_big\\\\n02089078_2225.png', 5),\n ('./modified/BIG\\\\BlackAndTanCoonhound_big\\\\n02089078_2227.png', 5),\n ('./modified/BIG\\\\BlackAndTanCoonhound_big\\\\n02089078_2232.png', 5),\n ('./modified/BIG\\\\BlackAndTanCoonhound_big\\\\n02089078_2270.png', 5),\n ('./modified/BIG\\\\BlackAndTanCoonhound_big\\\\n02089078_2282.png', 5),\n ('./modified/BIG\\\\BlackAndTanCoonhound_big\\\\n02089078_2294.png', 5),\n ('./modified/BIG\\\\BlackAndTanCoonhound_big\\\\n02089078_2333.png', 5),\n ('./modified/BIG\\\\BlackAndTanCoonhound_big\\\\n02089078_2337.png', 5),\n ('./modified/BIG\\\\BlackAndTanCoonhound_big\\\\n02089078_237.png', 5),\n ('./modified/BIG\\\\BlackAndTanCoonhound_big\\\\n02089078_2404.png', 5),\n ('./modified/BIG\\\\BlackAndTanCoonhound_big\\\\n02089078_2417.png', 5),\n ('./modified/BIG\\\\BlackAndTanCoonhound_big\\\\n02089078_243.png', 5),\n ('./modified/BIG\\\\BlackAndTanCoonhound_big\\\\n02089078_2464.png', 5),\n ('./modified/BIG\\\\BlackAndTanCoonhound_big\\\\n02089078_2476.png', 5),\n ('./modified/BIG\\\\BlackAndTanCoonhound_big\\\\n02089078_2478.png', 5),\n ('./modified/BIG\\\\BlackAndTanCoonhound_big\\\\n02089078_2498.png', 5),\n ('./modified/BIG\\\\BlackAndTanCoonhound_big\\\\n02089078_2542.png', 5),\n ('./modified/BIG\\\\BlackAndTanCoonhound_big\\\\n02089078_256.png', 5),\n ('./modified/BIG\\\\BlackAndTanCoonhound_big\\\\n02089078_2574.png', 5),\n ('./modified/BIG\\\\BlackAndTanCoonhound_big\\\\n02089078_2596.png', 5),\n ('./modified/BIG\\\\BlackAndTanCoonhound_big\\\\n02089078_2684.png', 5),\n ('./modified/BIG\\\\BlackAndTanCoonhound_big\\\\n02089078_269.png', 5),\n ('./modified/BIG\\\\BlackAndTanCoonhound_big\\\\n02089078_2728.png', 5),\n ('./modified/BIG\\\\BlackAndTanCoonhound_big\\\\n02089078_2753.png', 5),\n ('./modified/BIG\\\\BlackAndTanCoonhound_big\\\\n02089078_2794.png', 5),\n ('./modified/BIG\\\\BlackAndTanCoonhound_big\\\\n02089078_2801.png', 5),\n ('./modified/BIG\\\\BlackAndTanCoonhound_big\\\\n02089078_2829.png', 5),\n ('./modified/BIG\\\\BlackAndTanCoonhound_big\\\\n02089078_2841.png', 5),\n ('./modified/BIG\\\\BlackAndTanCoonhound_big\\\\n02089078_2903.png', 5),\n ('./modified/BIG\\\\BlackAndTanCoonhound_big\\\\n02089078_2921.png', 5),\n ('./modified/BIG\\\\BlackAndTanCoonhound_big\\\\n02089078_2934.png', 5),\n ('./modified/BIG\\\\BlackAndTanCoonhound_big\\\\n02089078_2935.png', 5),\n ('./modified/BIG\\\\BlackAndTanCoonhound_big\\\\n02089078_2957.png', 5),\n ('./modified/BIG\\\\BlackAndTanCoonhound_big\\\\n02089078_2962.png', 5),\n ('./modified/BIG\\\\BlackAndTanCoonhound_big\\\\n02089078_302.png', 5),\n ('./modified/BIG\\\\BlackAndTanCoonhound_big\\\\n02089078_3038.png', 5),\n ('./modified/BIG\\\\BlackAndTanCoonhound_big\\\\n02089078_3051.png', 5),\n ('./modified/BIG\\\\BlackAndTanCoonhound_big\\\\n02089078_3078.png', 5),\n ('./modified/BIG\\\\BlackAndTanCoonhound_big\\\\n02089078_3081.png', 5),\n ('./modified/BIG\\\\BlackAndTanCoonhound_big\\\\n02089078_3088.png', 5),\n ('./modified/BIG\\\\BlackAndTanCoonhound_big\\\\n02089078_3134.png', 5),\n ('./modified/BIG\\\\BlackAndTanCoonhound_big\\\\n02089078_314.png', 5),\n ('./modified/BIG\\\\BlackAndTanCoonhound_big\\\\n02089078_3182.png', 5),\n ('./modified/BIG\\\\BlackAndTanCoonhound_big\\\\n02089078_3183.png', 5),\n ('./modified/BIG\\\\BlackAndTanCoonhound_big\\\\n02089078_3188.png', 5),\n ('./modified/BIG\\\\BlackAndTanCoonhound_big\\\\n02089078_3191.png', 5),\n ('./modified/BIG\\\\BlackAndTanCoonhound_big\\\\n02089078_3196.png', 5),\n ('./modified/BIG\\\\BlackAndTanCoonhound_big\\\\n02089078_324.png', 5),\n ('./modified/BIG\\\\BlackAndTanCoonhound_big\\\\n02089078_3340.png', 5),\n ('./modified/BIG\\\\BlackAndTanCoonhound_big\\\\n02089078_3355.png', 5),\n ('./modified/BIG\\\\BlackAndTanCoonhound_big\\\\n02089078_3412.png', 5),\n ('./modified/BIG\\\\BlackAndTanCoonhound_big\\\\n02089078_3419.png', 5),\n ('./modified/BIG\\\\BlackAndTanCoonhound_big\\\\n02089078_3440.png', 5),\n ('./modified/BIG\\\\BlackAndTanCoonhound_big\\\\n02089078_3443.png', 5),\n ('./modified/BIG\\\\BlackAndTanCoonhound_big\\\\n02089078_351.png', 5),\n ...]"
     },
     "execution_count": 11,
     "metadata": {},
     "output_type": "execute_result"
    }
   ],
   "source": [
    "imgDS.imgs"
   ],
   "metadata": {
    "collapsed": false,
    "ExecuteTime": {
     "end_time": "2024-03-27T05:50:42.018439Z",
     "start_time": "2024-03-27T05:50:41.780606600Z"
    }
   },
   "id": "b3329aa1c948f85b",
   "execution_count": 11
  },
  {
   "cell_type": "code",
   "outputs": [
    {
     "data": {
      "text/plain": "<Figure size 1000x100 with 10 Axes>",
      "image/png": "[encoded data removed]"
     },
     "metadata": {},
     "output_type": "display_data"
    }
   ],
   "source": [
    "### 데이터 확인\n",
    "import matplotlib.pyplot as plt\n",
    "import numpy as np\n",
    "\n",
    "pltsize = 1\n",
    "plt.figure(figsize=(10 * pltsize, pltsize))\n",
    "\n",
    "for i in range(10):\n",
    "    plt.subplot(1, 10, i + 1)\n",
    "    plt.axis('off')\n",
    "    plt.imshow(np.transpose(imgDS[i*120][0], (1, 2, 0)))    # (C, H, W) -> (H, W, C)로 변환\n",
    "    plt.title('Class: ' + str(imgDS[i*120][1]))"
   ],
   "metadata": {
    "collapsed": false,
    "ExecuteTime": {
     "end_time": "2024-03-27T05:50:46.044454300Z",
     "start_time": "2024-03-27T05:50:42.348723600Z"
    }
   },
   "id": "aaa902b176895ca4",
   "execution_count": 12
  },
  {
   "cell_type": "code",
   "outputs": [
    {
     "name": "stdout",
     "output_type": "stream",
     "text": [
      "{'AfricanHuntingDog_big': 167, 'Airedale_big': 199, 'Appenzeller_big': 151, 'Basset_big': 168, 'BerneseMountainDog_big': 217, 'BlackAndTanCoonhound_big': 157, 'BlenheimSpaniel_big': 181, 'Bloodhound_big': 175, 'Bluetick_big': 167, 'Borzoi_big': 148, 'BouvierDesFlandres_big': 149, 'Boxer_big': 151}\n"
     ]
    }
   ],
   "source": [
    "# 클래스별 샘플 수 계산\n",
    "import os\n",
    "\n",
    "def file_count_in_dir(path):\n",
    "    \"\"\" path : 대장 폴더 주소 \"\"\"\n",
    "    if not path.endswith('/'):\n",
    "        path += '/'\n",
    "    \n",
    "    file_count = dict()\n",
    "    \n",
    "    datalist = os.listdir(path)\n",
    "    for data in datalist:\n",
    "        if os.path.isdir(path + data):\n",
    "            sub_datalist = os.listdir(path + data)\n",
    "            file_count[path + data] = len(sub_datalist)\n",
    "    return file_count\n",
    "\n",
    "file_count = file_count_in_dir(img_root)\n",
    "file_count2 = {key.split('/')[-1]: value for key, value in file_count.items()}\n",
    "print(file_count2)"
   ],
   "metadata": {
    "collapsed": false,
    "ExecuteTime": {
     "end_time": "2024-03-27T05:50:46.116539900Z",
     "start_time": "2024-03-27T05:50:46.043358700Z"
    }
   },
   "id": "4dfcf544343d9a14",
   "execution_count": 13
  },
  {
   "cell_type": "code",
   "outputs": [
    {
     "data": {
      "text/plain": "2030"
     },
     "execution_count": 14,
     "metadata": {},
     "output_type": "execute_result"
    }
   ],
   "source": [
    "sum(file_count2.values())"
   ],
   "metadata": {
    "collapsed": false,
    "ExecuteTime": {
     "end_time": "2024-03-27T05:50:46.967627900Z",
     "start_time": "2024-03-27T05:50:46.942117800Z"
    }
   },
   "id": "b4592cf908d2ac6b",
   "execution_count": 14
  },
  {
   "cell_type": "code",
   "outputs": [
    {
     "name": "stdout",
     "output_type": "stream",
     "text": [
      "[167, 199, 151, 168, 217, 157, 181, 175, 167, 148, 149, 151]\n"
     ]
    }
   ],
   "source": [
    "class_names = imgDS.class_to_idx\n",
    "\n",
    "class_count = [file_count2[key] for key, value in class_names.items()]\n",
    "print(class_count)"
   ],
   "metadata": {
    "collapsed": false,
    "ExecuteTime": {
     "end_time": "2024-03-27T05:50:47.289940Z",
     "start_time": "2024-03-27T05:50:47.265780600Z"
    }
   },
   "id": "b4eb4cff33ae038d",
   "execution_count": 15
  },
  {
   "cell_type": "code",
   "outputs": [
    {
     "name": "stdout",
     "output_type": "stream",
     "text": [
      "2030\n"
     ]
    }
   ],
   "source": [
    "### Sampler에서 사용할 가중치 생성\n",
    "total_image_count = len(class_count)\n",
    "# weights = [class_count / total_image_count for class_count in class_count]\n",
    "weights = []\n",
    "for i, v in enumerate(class_count):\n",
    "    weights.extend([1 / v] * v)\n",
    "print(len(weights))"
   ],
   "metadata": {
    "collapsed": false,
    "ExecuteTime": {
     "end_time": "2024-03-27T05:50:47.636777700Z",
     "start_time": "2024-03-27T05:50:47.594573800Z"
    }
   },
   "id": "e98dbe9933d257d4",
   "execution_count": 16
  },
  {
   "cell_type": "code",
   "outputs": [],
   "source": [
    "from torch.utils.data import DataLoader, Dataset, WeightedRandomSampler"
   ],
   "metadata": {
    "collapsed": false,
    "ExecuteTime": {
     "end_time": "2024-03-27T05:50:48.030835300Z",
     "start_time": "2024-03-27T05:50:47.993579300Z"
    }
   },
   "id": "a33598d2f96a4a96",
   "execution_count": 17
  },
  {
   "cell_type": "code",
   "outputs": [],
   "source": [
    "BATCH_SIZE = 64"
   ],
   "metadata": {
    "collapsed": false,
    "ExecuteTime": {
     "end_time": "2024-03-27T05:50:48.282103500Z",
     "start_time": "2024-03-27T05:50:48.242146600Z"
    }
   },
   "id": "9d25a01748b0e3b3",
   "execution_count": 18
  },
  {
   "cell_type": "code",
   "outputs": [],
   "source": [
    "SAMPLER = WeightedRandomSampler(weights=weights, num_samples=len(imgDS), replacement=True)"
   ],
   "metadata": {
    "collapsed": false,
    "ExecuteTime": {
     "end_time": "2024-03-27T05:50:48.576589Z",
     "start_time": "2024-03-27T05:50:48.546601400Z"
    }
   },
   "id": "77d9beb435330ed7",
   "execution_count": 19
  },
  {
   "cell_type": "code",
   "outputs": [
    {
     "name": "stdout",
     "output_type": "stream",
     "text": [
      "torch.Size([64, 3, 30, 30]) torch.Size([64]) tensor([8, 4, 7, 2, 9, 4, 3, 1, 7, 7, 5, 7])\n",
      "torch.Size([64, 3, 30, 30]) torch.Size([64]) tensor([ 6,  6,  5, 12,  4,  2,  4,  4,  4,  7,  6,  4])\n",
      "torch.Size([64, 3, 30, 30]) torch.Size([64]) tensor([7, 4, 4, 4, 6, 6, 4, 4, 7, 5, 8, 5])\n"
     ]
    }
   ],
   "source": [
    "imgDL = DataLoader(imgDS, batch_size=BATCH_SIZE, sampler=SAMPLER)\n",
    "\n",
    "for idx, (img, label) in enumerate(imgDL):\n",
    "    if idx > 2: break\n",
    "    print(img.shape, label.shape, label.bincount())"
   ],
   "metadata": {
    "collapsed": false,
    "ExecuteTime": {
     "end_time": "2024-03-27T05:50:52.792857Z",
     "start_time": "2024-03-27T05:50:48.785511500Z"
    }
   },
   "id": "1e078bb3e05700f5",
   "execution_count": 20
  },
  {
   "cell_type": "code",
   "outputs": [
    {
     "name": "stdout",
     "output_type": "stream",
     "text": [
      "tensor([ 6,  6,  3,  5,  0,  4,  6,  6,  3, 14,  8,  3])\n",
      "tensor([ 6,  6,  4,  6,  6,  4,  3,  6, 11,  2,  2,  8])\n",
      "tensor([6, 4, 7, 6, 7, 5, 6, 5, 5, 5, 3, 5])\n",
      "tensor([3, 8, 7, 5, 3, 3, 3, 6, 9, 8, 4, 5])\n",
      "tensor([3, 8, 7, 5, 4, 5, 5, 6, 9, 4, 6, 2])\n",
      "tensor([1, 7, 7, 5, 4, 6, 9, 8, 4, 5, 5, 3])\n",
      "tensor([8, 8, 9, 5, 6, 9, 4, 1, 2, 3, 4, 5])\n",
      "tensor([5, 4, 8, 6, 7, 6, 3, 6, 4, 5, 7, 3])\n",
      "tensor([5, 3, 9, 7, 3, 7, 6, 5, 6, 6, 5, 2])\n",
      "tensor([6, 4, 5, 5, 2, 9, 6, 8, 6, 6, 5, 2])\n",
      "tensor([7, 7, 3, 2, 7, 4, 7, 8, 7, 4, 3, 5])\n",
      "tensor([ 4,  8,  5,  3, 10,  4,  4,  6,  5,  2,  6,  7])\n",
      "tensor([ 2,  4,  9,  4,  5,  5,  7,  5,  4, 11,  4,  4])\n",
      "tensor([ 6,  9,  7, 10,  3,  4,  4,  3,  5,  5,  3,  5])\n",
      "tensor([1, 8, 5, 1, 5, 5, 7, 5, 9, 7, 2, 9])\n",
      "tensor([ 6,  7,  3,  3,  6,  8, 12,  2,  4,  9,  3,  1])\n",
      "tensor([6, 1, 7, 7, 4, 8, 4, 5, 5, 6, 8, 3])\n",
      "tensor([ 4,  4,  8,  5,  6,  4,  6, 11,  4,  3,  5,  4])\n",
      "tensor([ 4, 16,  4,  4,  2,  7,  2,  5,  4,  4,  7,  5])\n",
      "tensor([ 7,  4,  6,  6,  5,  5,  4,  3,  6, 10,  4,  4])\n",
      "tensor([12,  1,  7,  6,  3,  6,  4,  3,  4,  4,  9,  5])\n",
      "tensor([8, 3, 8, 6, 4, 7, 5, 4, 4, 5, 3, 7])\n",
      "tensor([ 4,  1,  6,  8,  2,  6,  4,  4,  3,  4, 13,  9])\n",
      "tensor([ 4,  4,  8,  1,  8,  4,  5, 12,  7,  3,  5,  3])\n",
      "tensor([6, 7, 2, 4, 2, 7, 6, 7, 6, 4, 7, 6])\n",
      "tensor([ 6,  4,  3,  4,  4,  4,  6,  3,  9, 11,  3,  7])\n",
      "tensor([ 7,  3,  5,  5, 10,  5,  7,  4,  4,  4,  4,  6])\n",
      "tensor([ 2,  3,  7,  5, 11,  5,  4,  6,  3,  9,  3,  6])\n",
      "tensor([5, 6, 7, 7, 6, 7, 5, 7, 4, 4, 3, 3])\n",
      "tensor([7, 0, 5, 9, 7, 4, 9, 5, 4, 4, 4, 6])\n",
      "tensor([ 6,  7,  7,  5,  2,  5,  2,  7,  6,  2, 10,  5])\n",
      "tensor([6, 2, 5, 8, 3, 6, 4, 2, 4, 2, 1, 3])\n"
     ]
    }
   ],
   "source": [
    "for img, label in imgDL:\n",
    "    # print(img.shape, label.shape)\n",
    "    print(label.bincount())"
   ],
   "metadata": {
    "collapsed": false,
    "ExecuteTime": {
     "end_time": "2024-03-27T05:51:03.391775Z",
     "start_time": "2024-03-27T05:50:52.797131200Z"
    }
   },
   "id": "add0eb5c4f9976c4",
   "execution_count": 21
  },
  {
   "cell_type": "markdown",
   "source": [
    "(2) CNN 모델 만들기"
   ],
   "metadata": {
    "collapsed": false
   },
   "id": "3c4dc2dddb8be079"
  },
  {
   "cell_type": "code",
   "outputs": [],
   "source": [
    "import torch\n",
    "import torch.nn as nn\n",
    "import torch.nn.functional as F\n",
    "import torch.optim as optim\n",
    "import cv2\n",
    "from torchinfo import summary"
   ],
   "metadata": {
    "collapsed": false,
    "ExecuteTime": {
     "end_time": "2024-03-27T05:51:04.869834200Z",
     "start_time": "2024-03-27T05:51:04.810183400Z"
    }
   },
   "id": "1276689233189e66",
   "execution_count": 22
  },
  {
   "cell_type": "code",
   "outputs": [
    {
     "data": {
      "text/plain": "torch.Size([3, 30, 30])"
     },
     "execution_count": 23,
     "metadata": {},
     "output_type": "execute_result"
    }
   ],
   "source": [
    "imgDS[0][0].shape"
   ],
   "metadata": {
    "collapsed": false,
    "ExecuteTime": {
     "end_time": "2024-03-27T05:51:05.328575Z",
     "start_time": "2024-03-27T05:51:05.299839400Z"
    }
   },
   "id": "547407c43ff54ef0",
   "execution_count": 23
  },
  {
   "cell_type": "code",
   "outputs": [
    {
     "data": {
      "text/plain": "Conv2d(3, 8, kernel_size=(3, 3), stride=(1, 1), padding=(1, 1))"
     },
     "execution_count": 24,
     "metadata": {},
     "output_type": "execute_result"
    }
   ],
   "source": [
    "conv1 = nn.Conv2d(in_channels = 3, out_channels = 8, kernel_size = 3, padding = 1)  # 피처 8개 뽑겠다.\n",
    "conv1"
   ],
   "metadata": {
    "collapsed": false,
    "ExecuteTime": {
     "end_time": "2024-03-27T05:51:05.650650900Z",
     "start_time": "2024-03-27T05:51:05.611501400Z"
    }
   },
   "id": "97dd0a2d34e76e63",
   "execution_count": 24
  },
  {
   "cell_type": "code",
   "outputs": [
    {
     "data": {
      "text/plain": "torch.Size([8, 30, 30])"
     },
     "execution_count": 25,
     "metadata": {},
     "output_type": "execute_result"
    }
   ],
   "source": [
    "output1 = conv1(imgDS[0][0])\n",
    "output1.shape"
   ],
   "metadata": {
    "collapsed": false,
    "ExecuteTime": {
     "end_time": "2024-03-27T05:51:06.308121300Z",
     "start_time": "2024-03-27T05:51:06.230407500Z"
    }
   },
   "id": "ffd9f21f68e0b32a",
   "execution_count": 25
  },
  {
   "cell_type": "code",
   "outputs": [],
   "source": [
    "pool = nn.MaxPool2d(kernel_size = 2, stride = 2)"
   ],
   "metadata": {
    "collapsed": false,
    "ExecuteTime": {
     "end_time": "2024-03-27T05:51:06.720545700Z",
     "start_time": "2024-03-27T05:51:06.650647400Z"
    }
   },
   "id": "e631cc04c269ccab",
   "execution_count": 26
  },
  {
   "cell_type": "code",
   "outputs": [
    {
     "data": {
      "text/plain": "torch.Size([8, 15, 15])"
     },
     "execution_count": 27,
     "metadata": {},
     "output_type": "execute_result"
    }
   ],
   "source": [
    "output2 = pool(output1)\n",
    "output2.shape"
   ],
   "metadata": {
    "collapsed": false,
    "ExecuteTime": {
     "end_time": "2024-03-27T05:51:07.296113100Z",
     "start_time": "2024-03-27T05:51:07.089614700Z"
    }
   },
   "id": "739f2efafdc15dc7",
   "execution_count": 27
  },
  {
   "cell_type": "code",
   "outputs": [
    {
     "data": {
      "text/plain": "Conv2d(8, 16, kernel_size=(3, 3), stride=(1, 1), padding=(1, 1))"
     },
     "execution_count": 28,
     "metadata": {},
     "output_type": "execute_result"
    }
   ],
   "source": [
    "conv2 = nn.Conv2d(in_channels = 8, out_channels = 16, kernel_size = 3, padding = 1)\n",
    "conv2"
   ],
   "metadata": {
    "collapsed": false,
    "ExecuteTime": {
     "end_time": "2024-03-27T05:51:07.680699500Z",
     "start_time": "2024-03-27T05:51:07.524114100Z"
    }
   },
   "id": "2cc8ea9ed16f4030",
   "execution_count": 28
  },
  {
   "cell_type": "code",
   "outputs": [
    {
     "data": {
      "text/plain": "torch.Size([16, 15, 15])"
     },
     "execution_count": 29,
     "metadata": {},
     "output_type": "execute_result"
    }
   ],
   "source": [
    "output3 = conv2(output2)\n",
    "output3.shape"
   ],
   "metadata": {
    "collapsed": false,
    "ExecuteTime": {
     "end_time": "2024-03-27T05:51:08.063874700Z",
     "start_time": "2024-03-27T05:51:07.972932900Z"
    }
   },
   "id": "9294e02b1dc25cf4",
   "execution_count": 29
  },
  {
   "cell_type": "code",
   "outputs": [
    {
     "data": {
      "text/plain": "torch.Size([16, 7, 7])"
     },
     "execution_count": 30,
     "metadata": {},
     "output_type": "execute_result"
    }
   ],
   "source": [
    "output4 = pool(output3)\n",
    "output4.shape"
   ],
   "metadata": {
    "collapsed": false,
    "ExecuteTime": {
     "end_time": "2024-03-27T05:51:08.450608800Z",
     "start_time": "2024-03-27T05:51:08.347218600Z"
    }
   },
   "id": "ac7ed36a6aec6dc7",
   "execution_count": 30
  },
  {
   "cell_type": "code",
   "outputs": [
    {
     "data": {
      "text/plain": "torch.Size([1, 784])"
     },
     "execution_count": 31,
     "metadata": {},
     "output_type": "execute_result"
    }
   ],
   "source": [
    "output4.view(-1, 16 * 7 * 7).shape"
   ],
   "metadata": {
    "collapsed": false,
    "ExecuteTime": {
     "end_time": "2024-03-27T05:51:08.994554400Z",
     "start_time": "2024-03-27T05:51:08.913088300Z"
    }
   },
   "id": "3a467d032a0f7afa",
   "execution_count": 31
  },
  {
   "cell_type": "code",
   "outputs": [],
   "source": [
    "class CNN(nn.Module):\n",
    "    def __init__(self):\n",
    "        super(CNN, self).__init__()\n",
    "        self.conv1 = nn.Conv2d(in_channels = 3, out_channels = 8, kernel_size = 3, padding = 1)\n",
    "        self.conv2 = nn.Conv2d(in_channels = 8, out_channels = 16, kernel_size = 3, padding = 1)\n",
    "        self.pool = nn.MaxPool2d(kernel_size = 2, stride = 2)\n",
    "        self.fc1 = nn.Linear(16 * 7 * 7, 64)\n",
    "        self.fc2 = nn.Linear(64, 32)\n",
    "        self.fc3 = nn.Linear(32, 12)\n",
    "        \n",
    "    def forward(self, x):\n",
    "        x = self.conv1(x)\n",
    "        x = F.relu(x)\n",
    "        x = self.pool(x)\n",
    "        x = self.conv2(x)\n",
    "        x = F.relu(x)\n",
    "        x = self.pool(x)\n",
    "        \n",
    "        x = x.view(-1, 16 * 7 * 7)\n",
    "        x = self.fc1(x)\n",
    "        x = F.relu(x)\n",
    "        x = self.fc2(x)\n",
    "        x = F.relu(x)\n",
    "        x = self.fc3(x)\n",
    "        # x = F.log_softmax(x)  # CrossEntropy()에 중복\n",
    "        return x"
   ],
   "metadata": {
    "collapsed": false,
    "ExecuteTime": {
     "end_time": "2024-03-27T05:51:43.774503300Z",
     "start_time": "2024-03-27T05:51:43.714842600Z"
    }
   },
   "id": "af9f7291add67c51",
   "execution_count": 37
  },
  {
   "cell_type": "markdown",
   "source": [
    "(3) CNN 학습하기"
   ],
   "metadata": {
    "collapsed": false
   },
   "id": "f0857fc7c408a717"
  },
  {
   "cell_type": "code",
   "outputs": [
    {
     "name": "stdout",
     "output_type": "stream",
     "text": [
      "CNN(\n",
      "  (conv1): Conv2d(3, 8, kernel_size=(3, 3), stride=(1, 1), padding=(1, 1))\n",
      "  (conv2): Conv2d(8, 16, kernel_size=(3, 3), stride=(1, 1), padding=(1, 1))\n",
      "  (pool): MaxPool2d(kernel_size=2, stride=2, padding=0, dilation=1, ceil_mode=False)\n",
      "  (fc1): Linear(in_features=784, out_features=64, bias=True)\n",
      "  (fc2): Linear(in_features=64, out_features=32, bias=True)\n",
      "  (fc3): Linear(in_features=32, out_features=12, bias=True)\n",
      ")\n"
     ]
    }
   ],
   "source": [
    "DEVICE = 'cuda' if torch.cuda.is_available() else 'cpu'\n",
    "\n",
    "EPOCHS = 100\n",
    "\n",
    "model = CNN().to(DEVICE)\n",
    "\n",
    "optimizer = optim.Adam(model.parameters())\n",
    "\n",
    "criterion = nn.CrossEntropyLoss()\n",
    "\n",
    "print(model)"
   ],
   "metadata": {
    "collapsed": false,
    "ExecuteTime": {
     "end_time": "2024-03-27T05:51:44.612682900Z",
     "start_time": "2024-03-27T05:51:44.580456700Z"
    }
   },
   "id": "b679bf6e5e3c820a",
   "execution_count": 38
  },
  {
   "cell_type": "code",
   "outputs": [],
   "source": [
    "def train(epoch, model, train_loader, optimizer, log_interval):\n",
    "    model.train()\n",
    "    for batch_idx, (image, label) in enumerate(train_loader):\n",
    "        image = image.to(DEVICE)\n",
    "        label = label.to(DEVICE)\n",
    "        optimizer.zero_grad()\n",
    "        output = model(image)\n",
    "        loss = criterion(output, label)\n",
    "        loss.backward()\n",
    "        optimizer.step()\n",
    "\n",
    "        if batch_idx % log_interval == 0:\n",
    "            print(f\"Train Epoch: {epoch} [{batch_idx:2d}]\\tTrain Loss: {loss.item():.6f}\")"
   ],
   "metadata": {
    "collapsed": false,
    "ExecuteTime": {
     "end_time": "2024-03-27T05:51:45.036618900Z",
     "start_time": "2024-03-27T05:51:45.018685700Z"
    }
   },
   "id": "6cb9f643e3e4b21",
   "execution_count": 39
  },
  {
   "cell_type": "code",
   "outputs": [],
   "source": [
    "def evaluate(model, test_loader):\n",
    "    model.eval()\n",
    "    test_loss = 0\n",
    "    correct = 0\n",
    "\n",
    "    with torch.no_grad():\n",
    "        for image, label in test_loader:\n",
    "            image = image.to(DEVICE)\n",
    "            label = label.to(DEVICE)\n",
    "            \n",
    "            output = model(image)\n",
    "            test_loss += criterion(output, label).item()\n",
    "            prediction = output.max(1, keepdim = True)[1]\n",
    "            correct += prediction.eq(label.view_as(prediction)).sum().item()\n",
    "    \n",
    "    test_loss /= len(test_loader.dataset)\n",
    "    test_accuracy = 100. * correct / len(test_loader.dataset)\n",
    "    return test_loss, test_accuracy"
   ],
   "metadata": {
    "collapsed": false,
    "ExecuteTime": {
     "end_time": "2024-03-27T05:51:45.391661300Z",
     "start_time": "2024-03-27T05:51:45.374160900Z"
    }
   },
   "id": "d9a885879d0f023d",
   "execution_count": 40
  },
  {
   "cell_type": "code",
   "outputs": [
    {
     "name": "stdout",
     "output_type": "stream",
     "text": [
      "Train Epoch: 1 [ 0]\tTrain Loss: 2.486172\n",
      "Train Epoch: 1 [10]\tTrain Loss: 2.481033\n",
      "Train Epoch: 1 [20]\tTrain Loss: 2.459486\n",
      "Train Epoch: 1 [30]\tTrain Loss: 2.496032\n",
      "\n",
      "[EPOCH: 1], \tTest Loss: 0.0389, \tTest Accuracy: 11.23 % \n",
      "Train Epoch: 2 [ 0]\tTrain Loss: 2.434981\n",
      "Train Epoch: 2 [10]\tTrain Loss: 2.425873\n",
      "Train Epoch: 2 [20]\tTrain Loss: 2.262675\n",
      "Train Epoch: 2 [30]\tTrain Loss: 2.354716\n",
      "\n",
      "[EPOCH: 2], \tTest Loss: 0.0377, \tTest Accuracy: 13.89 % \n",
      "Train Epoch: 3 [ 0]\tTrain Loss: 2.427644\n",
      "Train Epoch: 3 [10]\tTrain Loss: 2.299470\n",
      "Train Epoch: 3 [20]\tTrain Loss: 2.121894\n",
      "Train Epoch: 3 [30]\tTrain Loss: 2.280167\n",
      "\n",
      "[EPOCH: 3], \tTest Loss: 0.0356, \tTest Accuracy: 19.51 % \n",
      "Train Epoch: 4 [ 0]\tTrain Loss: 2.395515\n",
      "Train Epoch: 4 [10]\tTrain Loss: 2.276325\n",
      "Train Epoch: 4 [20]\tTrain Loss: 2.220006\n",
      "Train Epoch: 4 [30]\tTrain Loss: 2.307065\n",
      "\n",
      "[EPOCH: 4], \tTest Loss: 0.0346, \tTest Accuracy: 21.58 % \n",
      "Train Epoch: 5 [ 0]\tTrain Loss: 2.205140\n",
      "Train Epoch: 5 [10]\tTrain Loss: 2.133832\n",
      "Train Epoch: 5 [20]\tTrain Loss: 2.135912\n",
      "Train Epoch: 5 [30]\tTrain Loss: 2.114554\n",
      "\n",
      "[EPOCH: 5], \tTest Loss: 0.0338, \tTest Accuracy: 23.69 % \n",
      "Train Epoch: 6 [ 0]\tTrain Loss: 2.076570\n",
      "Train Epoch: 6 [10]\tTrain Loss: 2.153507\n",
      "Train Epoch: 6 [20]\tTrain Loss: 2.319769\n",
      "Train Epoch: 6 [30]\tTrain Loss: 2.027345\n",
      "\n",
      "[EPOCH: 6], \tTest Loss: 0.0336, \tTest Accuracy: 25.07 % \n",
      "Train Epoch: 7 [ 0]\tTrain Loss: 2.121093\n",
      "Train Epoch: 7 [10]\tTrain Loss: 2.042938\n",
      "Train Epoch: 7 [20]\tTrain Loss: 2.218216\n",
      "Train Epoch: 7 [30]\tTrain Loss: 2.090239\n",
      "\n",
      "[EPOCH: 7], \tTest Loss: 0.0328, \tTest Accuracy: 28.72 % \n",
      "Train Epoch: 8 [ 0]\tTrain Loss: 2.016668\n",
      "Train Epoch: 8 [10]\tTrain Loss: 2.245810\n",
      "Train Epoch: 8 [20]\tTrain Loss: 2.032023\n",
      "Train Epoch: 8 [30]\tTrain Loss: 1.962236\n",
      "\n",
      "[EPOCH: 8], \tTest Loss: 0.0323, \tTest Accuracy: 27.83 % \n",
      "Train Epoch: 9 [ 0]\tTrain Loss: 1.973873\n",
      "Train Epoch: 9 [10]\tTrain Loss: 2.027984\n",
      "Train Epoch: 9 [20]\tTrain Loss: 2.047403\n",
      "Train Epoch: 9 [30]\tTrain Loss: 1.963030\n",
      "\n",
      "[EPOCH: 9], \tTest Loss: 0.0324, \tTest Accuracy: 29.90 % \n",
      "Train Epoch: 10 [ 0]\tTrain Loss: 1.938828\n",
      "Train Epoch: 10 [10]\tTrain Loss: 1.898326\n",
      "Train Epoch: 10 [20]\tTrain Loss: 1.867426\n",
      "Train Epoch: 10 [30]\tTrain Loss: 1.859169\n",
      "\n",
      "[EPOCH: 10], \tTest Loss: 0.0295, \tTest Accuracy: 33.10 % \n",
      "Train Epoch: 11 [ 0]\tTrain Loss: 1.912357\n",
      "Train Epoch: 11 [10]\tTrain Loss: 1.821949\n",
      "Train Epoch: 11 [20]\tTrain Loss: 1.742372\n",
      "Train Epoch: 11 [30]\tTrain Loss: 2.049126\n",
      "\n",
      "[EPOCH: 11], \tTest Loss: 0.0289, \tTest Accuracy: 34.83 % \n",
      "Train Epoch: 12 [ 0]\tTrain Loss: 1.699322\n",
      "Train Epoch: 12 [10]\tTrain Loss: 1.800224\n",
      "Train Epoch: 12 [20]\tTrain Loss: 1.544714\n",
      "Train Epoch: 12 [30]\tTrain Loss: 1.871366\n",
      "\n",
      "[EPOCH: 12], \tTest Loss: 0.0278, \tTest Accuracy: 37.78 % \n",
      "Train Epoch: 13 [ 0]\tTrain Loss: 1.788906\n",
      "Train Epoch: 13 [10]\tTrain Loss: 1.792436\n",
      "Train Epoch: 13 [20]\tTrain Loss: 1.669037\n",
      "Train Epoch: 13 [30]\tTrain Loss: 1.798554\n",
      "\n",
      "[EPOCH: 13], \tTest Loss: 0.0276, \tTest Accuracy: 37.49 % \n",
      "Train Epoch: 14 [ 0]\tTrain Loss: 1.813539\n",
      "Train Epoch: 14 [10]\tTrain Loss: 1.731356\n",
      "Train Epoch: 14 [20]\tTrain Loss: 1.650231\n",
      "Train Epoch: 14 [30]\tTrain Loss: 1.564285\n",
      "\n",
      "[EPOCH: 14], \tTest Loss: 0.0280, \tTest Accuracy: 39.11 % \n",
      "Train Epoch: 15 [ 0]\tTrain Loss: 1.487171\n",
      "Train Epoch: 15 [10]\tTrain Loss: 1.629238\n",
      "Train Epoch: 15 [20]\tTrain Loss: 1.686210\n",
      "Train Epoch: 15 [30]\tTrain Loss: 1.462829\n",
      "\n",
      "[EPOCH: 15], \tTest Loss: 0.0265, \tTest Accuracy: 40.30 % \n",
      "Train Epoch: 16 [ 0]\tTrain Loss: 1.722106\n",
      "Train Epoch: 16 [10]\tTrain Loss: 1.698711\n",
      "Train Epoch: 16 [20]\tTrain Loss: 2.060183\n",
      "Train Epoch: 16 [30]\tTrain Loss: 1.458199\n",
      "\n",
      "[EPOCH: 16], \tTest Loss: 0.0258, \tTest Accuracy: 44.24 % \n",
      "Train Epoch: 17 [ 0]\tTrain Loss: 1.651970\n",
      "Train Epoch: 17 [10]\tTrain Loss: 1.636744\n",
      "Train Epoch: 17 [20]\tTrain Loss: 1.709732\n",
      "Train Epoch: 17 [30]\tTrain Loss: 1.399942\n",
      "\n",
      "[EPOCH: 17], \tTest Loss: 0.0259, \tTest Accuracy: 41.82 % \n",
      "Train Epoch: 18 [ 0]\tTrain Loss: 1.624953\n",
      "Train Epoch: 18 [10]\tTrain Loss: 1.874938\n",
      "Train Epoch: 18 [20]\tTrain Loss: 1.581619\n",
      "Train Epoch: 18 [30]\tTrain Loss: 1.508564\n",
      "\n",
      "[EPOCH: 18], \tTest Loss: 0.0254, \tTest Accuracy: 41.97 % \n",
      "Train Epoch: 19 [ 0]\tTrain Loss: 1.554481\n",
      "Train Epoch: 19 [10]\tTrain Loss: 1.589535\n",
      "Train Epoch: 19 [20]\tTrain Loss: 1.731182\n",
      "Train Epoch: 19 [30]\tTrain Loss: 1.947879\n",
      "\n",
      "[EPOCH: 19], \tTest Loss: 0.0258, \tTest Accuracy: 42.76 % \n",
      "Train Epoch: 20 [ 0]\tTrain Loss: 1.540771\n",
      "Train Epoch: 20 [10]\tTrain Loss: 1.955112\n",
      "Train Epoch: 20 [20]\tTrain Loss: 1.565694\n",
      "Train Epoch: 20 [30]\tTrain Loss: 1.480336\n",
      "\n",
      "[EPOCH: 20], \tTest Loss: 0.0242, \tTest Accuracy: 47.49 % \n",
      "Train Epoch: 21 [ 0]\tTrain Loss: 1.531872\n",
      "Train Epoch: 21 [10]\tTrain Loss: 1.707259\n",
      "Train Epoch: 21 [20]\tTrain Loss: 1.361722\n",
      "Train Epoch: 21 [30]\tTrain Loss: 1.619852\n",
      "\n",
      "[EPOCH: 21], \tTest Loss: 0.0246, \tTest Accuracy: 45.76 % \n",
      "Train Epoch: 22 [ 0]\tTrain Loss: 1.349464\n",
      "Train Epoch: 22 [10]\tTrain Loss: 1.528749\n",
      "Train Epoch: 22 [20]\tTrain Loss: 1.528894\n",
      "Train Epoch: 22 [30]\tTrain Loss: 1.795335\n",
      "\n",
      "[EPOCH: 22], \tTest Loss: 0.0239, \tTest Accuracy: 46.16 % \n",
      "Train Epoch: 23 [ 0]\tTrain Loss: 1.585248\n",
      "Train Epoch: 23 [10]\tTrain Loss: 1.505747\n",
      "Train Epoch: 23 [20]\tTrain Loss: 1.401125\n",
      "Train Epoch: 23 [30]\tTrain Loss: 1.434474\n",
      "\n",
      "[EPOCH: 23], \tTest Loss: 0.0239, \tTest Accuracy: 46.65 % \n",
      "Train Epoch: 24 [ 0]\tTrain Loss: 1.557223\n",
      "Train Epoch: 24 [10]\tTrain Loss: 1.528998\n",
      "Train Epoch: 24 [20]\tTrain Loss: 1.656757\n",
      "Train Epoch: 24 [30]\tTrain Loss: 1.422005\n",
      "\n",
      "[EPOCH: 24], \tTest Loss: 0.0232, \tTest Accuracy: 48.67 % \n",
      "Train Epoch: 25 [ 0]\tTrain Loss: 1.574316\n",
      "Train Epoch: 25 [10]\tTrain Loss: 1.636182\n",
      "Train Epoch: 25 [20]\tTrain Loss: 1.523651\n",
      "Train Epoch: 25 [30]\tTrain Loss: 1.295217\n",
      "\n",
      "[EPOCH: 25], \tTest Loss: 0.0241, \tTest Accuracy: 47.44 % \n",
      "Train Epoch: 26 [ 0]\tTrain Loss: 1.436209\n",
      "Train Epoch: 26 [10]\tTrain Loss: 1.432382\n",
      "Train Epoch: 26 [20]\tTrain Loss: 1.543956\n",
      "Train Epoch: 26 [30]\tTrain Loss: 1.233531\n",
      "\n",
      "[EPOCH: 26], \tTest Loss: 0.0232, \tTest Accuracy: 49.51 % \n",
      "Train Epoch: 27 [ 0]\tTrain Loss: 1.445927\n",
      "Train Epoch: 27 [10]\tTrain Loss: 1.548391\n",
      "Train Epoch: 27 [20]\tTrain Loss: 1.588958\n",
      "Train Epoch: 27 [30]\tTrain Loss: 1.497356\n",
      "\n",
      "[EPOCH: 27], \tTest Loss: 0.0228, \tTest Accuracy: 48.47 % \n",
      "Train Epoch: 28 [ 0]\tTrain Loss: 1.564074\n",
      "Train Epoch: 28 [10]\tTrain Loss: 1.326331\n",
      "Train Epoch: 28 [20]\tTrain Loss: 1.581416\n",
      "Train Epoch: 28 [30]\tTrain Loss: 1.701290\n",
      "\n",
      "[EPOCH: 28], \tTest Loss: 0.0228, \tTest Accuracy: 50.54 % \n",
      "Train Epoch: 29 [ 0]\tTrain Loss: 1.645344\n",
      "Train Epoch: 29 [10]\tTrain Loss: 1.421008\n",
      "Train Epoch: 29 [20]\tTrain Loss: 1.485821\n",
      "Train Epoch: 29 [30]\tTrain Loss: 1.546377\n",
      "\n",
      "[EPOCH: 29], \tTest Loss: 0.0234, \tTest Accuracy: 49.11 % \n",
      "Train Epoch: 30 [ 0]\tTrain Loss: 1.688804\n",
      "Train Epoch: 30 [10]\tTrain Loss: 1.361200\n",
      "Train Epoch: 30 [20]\tTrain Loss: 1.334737\n",
      "Train Epoch: 30 [30]\tTrain Loss: 1.408118\n",
      "\n",
      "[EPOCH: 30], \tTest Loss: 0.0224, \tTest Accuracy: 52.86 % \n",
      "Train Epoch: 31 [ 0]\tTrain Loss: 1.416921\n",
      "Train Epoch: 31 [10]\tTrain Loss: 1.342152\n",
      "Train Epoch: 31 [20]\tTrain Loss: 1.418628\n",
      "Train Epoch: 31 [30]\tTrain Loss: 1.274219\n",
      "\n",
      "[EPOCH: 31], \tTest Loss: 0.0218, \tTest Accuracy: 52.27 % \n",
      "Train Epoch: 32 [ 0]\tTrain Loss: 1.344762\n",
      "Train Epoch: 32 [10]\tTrain Loss: 1.136411\n",
      "Train Epoch: 32 [20]\tTrain Loss: 1.337284\n",
      "Train Epoch: 32 [30]\tTrain Loss: 1.384640\n",
      "\n",
      "[EPOCH: 32], \tTest Loss: 0.0213, \tTest Accuracy: 54.93 % \n",
      "Train Epoch: 33 [ 0]\tTrain Loss: 1.241862\n",
      "Train Epoch: 33 [10]\tTrain Loss: 1.560450\n",
      "Train Epoch: 33 [20]\tTrain Loss: 1.515140\n",
      "Train Epoch: 33 [30]\tTrain Loss: 1.300997\n",
      "\n",
      "[EPOCH: 33], \tTest Loss: 0.0223, \tTest Accuracy: 52.61 % \n",
      "Train Epoch: 34 [ 0]\tTrain Loss: 1.461186\n",
      "Train Epoch: 34 [10]\tTrain Loss: 1.120786\n",
      "Train Epoch: 34 [20]\tTrain Loss: 1.220579\n",
      "Train Epoch: 34 [30]\tTrain Loss: 1.426416\n",
      "\n",
      "[EPOCH: 34], \tTest Loss: 0.0210, \tTest Accuracy: 54.24 % \n",
      "Train Epoch: 35 [ 0]\tTrain Loss: 1.294101\n",
      "Train Epoch: 35 [10]\tTrain Loss: 1.322855\n",
      "Train Epoch: 35 [20]\tTrain Loss: 1.400420\n",
      "Train Epoch: 35 [30]\tTrain Loss: 1.184770\n",
      "\n",
      "[EPOCH: 35], \tTest Loss: 0.0212, \tTest Accuracy: 52.96 % \n",
      "Train Epoch: 36 [ 0]\tTrain Loss: 1.272386\n",
      "Train Epoch: 36 [10]\tTrain Loss: 1.302783\n",
      "Train Epoch: 36 [20]\tTrain Loss: 1.151047\n",
      "Train Epoch: 36 [30]\tTrain Loss: 1.342690\n",
      "\n",
      "[EPOCH: 36], \tTest Loss: 0.0209, \tTest Accuracy: 54.04 % \n",
      "Train Epoch: 37 [ 0]\tTrain Loss: 1.238590\n",
      "Train Epoch: 37 [10]\tTrain Loss: 1.142604\n",
      "Train Epoch: 37 [20]\tTrain Loss: 1.404472\n",
      "Train Epoch: 37 [30]\tTrain Loss: 1.219429\n",
      "\n",
      "[EPOCH: 37], \tTest Loss: 0.0204, \tTest Accuracy: 53.20 % \n",
      "Train Epoch: 38 [ 0]\tTrain Loss: 1.410844\n",
      "Train Epoch: 38 [10]\tTrain Loss: 1.061501\n",
      "Train Epoch: 38 [20]\tTrain Loss: 1.442319\n",
      "Train Epoch: 38 [30]\tTrain Loss: 1.315495\n",
      "\n",
      "[EPOCH: 38], \tTest Loss: 0.0202, \tTest Accuracy: 55.67 % \n",
      "Train Epoch: 39 [ 0]\tTrain Loss: 1.444967\n",
      "Train Epoch: 39 [10]\tTrain Loss: 1.259152\n",
      "Train Epoch: 39 [20]\tTrain Loss: 1.221048\n",
      "Train Epoch: 39 [30]\tTrain Loss: 1.344626\n",
      "\n",
      "[EPOCH: 39], \tTest Loss: 0.0208, \tTest Accuracy: 53.55 % \n",
      "Train Epoch: 40 [ 0]\tTrain Loss: 1.544635\n",
      "Train Epoch: 40 [10]\tTrain Loss: 1.245676\n",
      "Train Epoch: 40 [20]\tTrain Loss: 1.357337\n",
      "Train Epoch: 40 [30]\tTrain Loss: 0.935522\n",
      "\n",
      "[EPOCH: 40], \tTest Loss: 0.0198, \tTest Accuracy: 54.88 % \n",
      "Train Epoch: 41 [ 0]\tTrain Loss: 1.282328\n",
      "Train Epoch: 41 [10]\tTrain Loss: 1.281013\n",
      "Train Epoch: 41 [20]\tTrain Loss: 1.080545\n",
      "Train Epoch: 41 [30]\tTrain Loss: 1.278570\n",
      "\n",
      "[EPOCH: 41], \tTest Loss: 0.0194, \tTest Accuracy: 58.08 % \n",
      "Train Epoch: 42 [ 0]\tTrain Loss: 1.381098\n",
      "Train Epoch: 42 [10]\tTrain Loss: 1.136727\n",
      "Train Epoch: 42 [20]\tTrain Loss: 0.927209\n",
      "Train Epoch: 42 [30]\tTrain Loss: 1.258947\n",
      "\n",
      "[EPOCH: 42], \tTest Loss: 0.0186, \tTest Accuracy: 59.26 % \n",
      "Train Epoch: 43 [ 0]\tTrain Loss: 1.138904\n",
      "Train Epoch: 43 [10]\tTrain Loss: 1.343531\n",
      "Train Epoch: 43 [20]\tTrain Loss: 1.404661\n",
      "Train Epoch: 43 [30]\tTrain Loss: 0.960003\n",
      "\n",
      "[EPOCH: 43], \tTest Loss: 0.0193, \tTest Accuracy: 58.37 % \n",
      "Train Epoch: 44 [ 0]\tTrain Loss: 1.120741\n",
      "Train Epoch: 44 [10]\tTrain Loss: 1.175426\n",
      "Train Epoch: 44 [20]\tTrain Loss: 1.355313\n",
      "Train Epoch: 44 [30]\tTrain Loss: 1.312384\n",
      "\n",
      "[EPOCH: 44], \tTest Loss: 0.0189, \tTest Accuracy: 56.85 % \n",
      "Train Epoch: 45 [ 0]\tTrain Loss: 1.004469\n",
      "Train Epoch: 45 [10]\tTrain Loss: 1.281778\n",
      "Train Epoch: 45 [20]\tTrain Loss: 1.263233\n",
      "Train Epoch: 45 [30]\tTrain Loss: 1.184620\n",
      "\n",
      "[EPOCH: 45], \tTest Loss: 0.0185, \tTest Accuracy: 62.56 % \n",
      "Train Epoch: 46 [ 0]\tTrain Loss: 1.150792\n",
      "Train Epoch: 46 [10]\tTrain Loss: 1.144122\n",
      "Train Epoch: 46 [20]\tTrain Loss: 1.197990\n",
      "Train Epoch: 46 [30]\tTrain Loss: 1.401305\n",
      "\n",
      "[EPOCH: 46], \tTest Loss: 0.0181, \tTest Accuracy: 60.59 % \n",
      "Train Epoch: 47 [ 0]\tTrain Loss: 1.193584\n",
      "Train Epoch: 47 [10]\tTrain Loss: 1.228949\n",
      "Train Epoch: 47 [20]\tTrain Loss: 1.266283\n",
      "Train Epoch: 47 [30]\tTrain Loss: 1.031745\n",
      "\n",
      "[EPOCH: 47], \tTest Loss: 0.0187, \tTest Accuracy: 59.06 % \n",
      "Train Epoch: 48 [ 0]\tTrain Loss: 1.345174\n",
      "Train Epoch: 48 [10]\tTrain Loss: 1.274714\n",
      "Train Epoch: 48 [20]\tTrain Loss: 1.227266\n",
      "Train Epoch: 48 [30]\tTrain Loss: 1.131925\n",
      "\n",
      "[EPOCH: 48], \tTest Loss: 0.0179, \tTest Accuracy: 58.82 % \n",
      "Train Epoch: 49 [ 0]\tTrain Loss: 1.175153\n",
      "Train Epoch: 49 [10]\tTrain Loss: 1.039755\n",
      "Train Epoch: 49 [20]\tTrain Loss: 1.106873\n",
      "Train Epoch: 49 [30]\tTrain Loss: 1.167189\n",
      "\n",
      "[EPOCH: 49], \tTest Loss: 0.0173, \tTest Accuracy: 63.00 % \n",
      "Train Epoch: 50 [ 0]\tTrain Loss: 1.182425\n",
      "Train Epoch: 50 [10]\tTrain Loss: 1.162957\n",
      "Train Epoch: 50 [20]\tTrain Loss: 1.052174\n",
      "Train Epoch: 50 [30]\tTrain Loss: 1.038596\n",
      "\n",
      "[EPOCH: 50], \tTest Loss: 0.0178, \tTest Accuracy: 60.49 % \n",
      "Train Epoch: 51 [ 0]\tTrain Loss: 0.927466\n",
      "Train Epoch: 51 [10]\tTrain Loss: 1.450159\n",
      "Train Epoch: 51 [20]\tTrain Loss: 0.979217\n",
      "Train Epoch: 51 [30]\tTrain Loss: 1.139329\n",
      "\n",
      "[EPOCH: 51], \tTest Loss: 0.0177, \tTest Accuracy: 59.75 % \n",
      "Train Epoch: 52 [ 0]\tTrain Loss: 0.991021\n",
      "Train Epoch: 52 [10]\tTrain Loss: 0.939372\n",
      "Train Epoch: 52 [20]\tTrain Loss: 0.840304\n",
      "Train Epoch: 52 [30]\tTrain Loss: 0.960976\n",
      "\n",
      "[EPOCH: 52], \tTest Loss: 0.0168, \tTest Accuracy: 63.74 % \n",
      "Train Epoch: 53 [ 0]\tTrain Loss: 0.965898\n",
      "Train Epoch: 53 [10]\tTrain Loss: 0.971465\n",
      "Train Epoch: 53 [20]\tTrain Loss: 1.002822\n",
      "Train Epoch: 53 [30]\tTrain Loss: 1.202425\n",
      "\n",
      "[EPOCH: 53], \tTest Loss: 0.0157, \tTest Accuracy: 66.01 % \n",
      "Train Epoch: 54 [ 0]\tTrain Loss: 0.949751\n",
      "Train Epoch: 54 [10]\tTrain Loss: 1.125068\n",
      "Train Epoch: 54 [20]\tTrain Loss: 1.287542\n",
      "Train Epoch: 54 [30]\tTrain Loss: 1.185487\n",
      "\n",
      "[EPOCH: 54], \tTest Loss: 0.0159, \tTest Accuracy: 64.78 % \n",
      "Train Epoch: 55 [ 0]\tTrain Loss: 1.088316\n",
      "Train Epoch: 55 [10]\tTrain Loss: 1.004209\n",
      "Train Epoch: 55 [20]\tTrain Loss: 1.022590\n",
      "Train Epoch: 55 [30]\tTrain Loss: 1.271716\n",
      "\n",
      "[EPOCH: 55], \tTest Loss: 0.0163, \tTest Accuracy: 63.60 % \n",
      "Train Epoch: 56 [ 0]\tTrain Loss: 0.812719\n",
      "Train Epoch: 56 [10]\tTrain Loss: 0.769661\n"
     ]
    },
    {
     "ename": "KeyboardInterrupt",
     "evalue": "",
     "output_type": "error",
     "traceback": [
      "\u001B[1;31m---------------------------------------------------------------------------\u001B[0m",
      "\u001B[1;31mKeyboardInterrupt\u001B[0m                         Traceback (most recent call last)",
      "Cell \u001B[1;32mIn[41], line 6\u001B[0m\n\u001B[0;32m      2\u001B[0m test_loss_list, test_accuracy_list \u001B[38;5;241m=\u001B[39m [], []\n\u001B[0;32m      4\u001B[0m \u001B[38;5;28;01mfor\u001B[39;00m epoch \u001B[38;5;129;01min\u001B[39;00m \u001B[38;5;28mrange\u001B[39m(\u001B[38;5;241m1\u001B[39m, EPOCHS \u001B[38;5;241m+\u001B[39m \u001B[38;5;241m1\u001B[39m):\n\u001B[1;32m----> 6\u001B[0m     \u001B[43mtrain\u001B[49m\u001B[43m(\u001B[49m\u001B[43mepoch\u001B[49m\u001B[43m,\u001B[49m\u001B[43m \u001B[49m\u001B[43mmodel\u001B[49m\u001B[43m,\u001B[49m\u001B[43m \u001B[49m\u001B[43mimgDL\u001B[49m\u001B[43m,\u001B[49m\u001B[43m \u001B[49m\u001B[43moptimizer\u001B[49m\u001B[43m,\u001B[49m\u001B[43m \u001B[49m\u001B[43mlog_interval\u001B[49m\u001B[43m \u001B[49m\u001B[38;5;241;43m=\u001B[39;49m\u001B[43m \u001B[49m\u001B[38;5;241;43m10\u001B[39;49m\u001B[43m)\u001B[49m\n\u001B[0;32m      7\u001B[0m     test_loss, test_accuracy \u001B[38;5;241m=\u001B[39m evaluate(model, imgDL)\n\u001B[0;32m      8\u001B[0m     test_loss_list\u001B[38;5;241m.\u001B[39mappend(test_loss)\n",
      "Cell \u001B[1;32mIn[39], line 3\u001B[0m, in \u001B[0;36mtrain\u001B[1;34m(epoch, model, train_loader, optimizer, log_interval)\u001B[0m\n\u001B[0;32m      1\u001B[0m \u001B[38;5;28;01mdef\u001B[39;00m \u001B[38;5;21mtrain\u001B[39m(epoch, model, train_loader, optimizer, log_interval):\n\u001B[0;32m      2\u001B[0m     model\u001B[38;5;241m.\u001B[39mtrain()\n\u001B[1;32m----> 3\u001B[0m     \u001B[38;5;28;01mfor\u001B[39;00m batch_idx, (image, label) \u001B[38;5;129;01min\u001B[39;00m \u001B[38;5;28menumerate\u001B[39m(train_loader):\n\u001B[0;32m      4\u001B[0m         image \u001B[38;5;241m=\u001B[39m image\u001B[38;5;241m.\u001B[39mto(DEVICE)\n\u001B[0;32m      5\u001B[0m         label \u001B[38;5;241m=\u001B[39m label\u001B[38;5;241m.\u001B[39mto(DEVICE)\n",
      "File \u001B[1;32m~\\.conda\\envs\\Torch_38\\lib\\site-packages\\torch\\utils\\data\\dataloader.py:631\u001B[0m, in \u001B[0;36m_BaseDataLoaderIter.__next__\u001B[1;34m(self)\u001B[0m\n\u001B[0;32m    628\u001B[0m \u001B[38;5;28;01mif\u001B[39;00m \u001B[38;5;28mself\u001B[39m\u001B[38;5;241m.\u001B[39m_sampler_iter \u001B[38;5;129;01mis\u001B[39;00m \u001B[38;5;28;01mNone\u001B[39;00m:\n\u001B[0;32m    629\u001B[0m     \u001B[38;5;66;03m# TODO(https://github.com/pytorch/pytorch/issues/76750)\u001B[39;00m\n\u001B[0;32m    630\u001B[0m     \u001B[38;5;28mself\u001B[39m\u001B[38;5;241m.\u001B[39m_reset()  \u001B[38;5;66;03m# type: ignore[call-arg]\u001B[39;00m\n\u001B[1;32m--> 631\u001B[0m data \u001B[38;5;241m=\u001B[39m \u001B[38;5;28;43mself\u001B[39;49m\u001B[38;5;241;43m.\u001B[39;49m\u001B[43m_next_data\u001B[49m\u001B[43m(\u001B[49m\u001B[43m)\u001B[49m\n\u001B[0;32m    632\u001B[0m \u001B[38;5;28mself\u001B[39m\u001B[38;5;241m.\u001B[39m_num_yielded \u001B[38;5;241m+\u001B[39m\u001B[38;5;241m=\u001B[39m \u001B[38;5;241m1\u001B[39m\n\u001B[0;32m    633\u001B[0m \u001B[38;5;28;01mif\u001B[39;00m \u001B[38;5;28mself\u001B[39m\u001B[38;5;241m.\u001B[39m_dataset_kind \u001B[38;5;241m==\u001B[39m _DatasetKind\u001B[38;5;241m.\u001B[39mIterable \u001B[38;5;129;01mand\u001B[39;00m \\\n\u001B[0;32m    634\u001B[0m         \u001B[38;5;28mself\u001B[39m\u001B[38;5;241m.\u001B[39m_IterableDataset_len_called \u001B[38;5;129;01mis\u001B[39;00m \u001B[38;5;129;01mnot\u001B[39;00m \u001B[38;5;28;01mNone\u001B[39;00m \u001B[38;5;129;01mand\u001B[39;00m \\\n\u001B[0;32m    635\u001B[0m         \u001B[38;5;28mself\u001B[39m\u001B[38;5;241m.\u001B[39m_num_yielded \u001B[38;5;241m>\u001B[39m \u001B[38;5;28mself\u001B[39m\u001B[38;5;241m.\u001B[39m_IterableDataset_len_called:\n",
      "File \u001B[1;32m~\\.conda\\envs\\Torch_38\\lib\\site-packages\\torch\\utils\\data\\dataloader.py:675\u001B[0m, in \u001B[0;36m_SingleProcessDataLoaderIter._next_data\u001B[1;34m(self)\u001B[0m\n\u001B[0;32m    673\u001B[0m \u001B[38;5;28;01mdef\u001B[39;00m \u001B[38;5;21m_next_data\u001B[39m(\u001B[38;5;28mself\u001B[39m):\n\u001B[0;32m    674\u001B[0m     index \u001B[38;5;241m=\u001B[39m \u001B[38;5;28mself\u001B[39m\u001B[38;5;241m.\u001B[39m_next_index()  \u001B[38;5;66;03m# may raise StopIteration\u001B[39;00m\n\u001B[1;32m--> 675\u001B[0m     data \u001B[38;5;241m=\u001B[39m \u001B[38;5;28;43mself\u001B[39;49m\u001B[38;5;241;43m.\u001B[39;49m\u001B[43m_dataset_fetcher\u001B[49m\u001B[38;5;241;43m.\u001B[39;49m\u001B[43mfetch\u001B[49m\u001B[43m(\u001B[49m\u001B[43mindex\u001B[49m\u001B[43m)\u001B[49m  \u001B[38;5;66;03m# may raise StopIteration\u001B[39;00m\n\u001B[0;32m    676\u001B[0m     \u001B[38;5;28;01mif\u001B[39;00m \u001B[38;5;28mself\u001B[39m\u001B[38;5;241m.\u001B[39m_pin_memory:\n\u001B[0;32m    677\u001B[0m         data \u001B[38;5;241m=\u001B[39m _utils\u001B[38;5;241m.\u001B[39mpin_memory\u001B[38;5;241m.\u001B[39mpin_memory(data, \u001B[38;5;28mself\u001B[39m\u001B[38;5;241m.\u001B[39m_pin_memory_device)\n",
      "File \u001B[1;32m~\\.conda\\envs\\Torch_38\\lib\\site-packages\\torch\\utils\\data\\_utils\\fetch.py:51\u001B[0m, in \u001B[0;36m_MapDatasetFetcher.fetch\u001B[1;34m(self, possibly_batched_index)\u001B[0m\n\u001B[0;32m     49\u001B[0m         data \u001B[38;5;241m=\u001B[39m \u001B[38;5;28mself\u001B[39m\u001B[38;5;241m.\u001B[39mdataset\u001B[38;5;241m.\u001B[39m__getitems__(possibly_batched_index)\n\u001B[0;32m     50\u001B[0m     \u001B[38;5;28;01melse\u001B[39;00m:\n\u001B[1;32m---> 51\u001B[0m         data \u001B[38;5;241m=\u001B[39m [\u001B[38;5;28mself\u001B[39m\u001B[38;5;241m.\u001B[39mdataset[idx] \u001B[38;5;28;01mfor\u001B[39;00m idx \u001B[38;5;129;01min\u001B[39;00m possibly_batched_index]\n\u001B[0;32m     52\u001B[0m \u001B[38;5;28;01melse\u001B[39;00m:\n\u001B[0;32m     53\u001B[0m     data \u001B[38;5;241m=\u001B[39m \u001B[38;5;28mself\u001B[39m\u001B[38;5;241m.\u001B[39mdataset[possibly_batched_index]\n",
      "File \u001B[1;32m~\\.conda\\envs\\Torch_38\\lib\\site-packages\\torch\\utils\\data\\_utils\\fetch.py:51\u001B[0m, in \u001B[0;36m<listcomp>\u001B[1;34m(.0)\u001B[0m\n\u001B[0;32m     49\u001B[0m         data \u001B[38;5;241m=\u001B[39m \u001B[38;5;28mself\u001B[39m\u001B[38;5;241m.\u001B[39mdataset\u001B[38;5;241m.\u001B[39m__getitems__(possibly_batched_index)\n\u001B[0;32m     50\u001B[0m     \u001B[38;5;28;01melse\u001B[39;00m:\n\u001B[1;32m---> 51\u001B[0m         data \u001B[38;5;241m=\u001B[39m [\u001B[38;5;28;43mself\u001B[39;49m\u001B[38;5;241;43m.\u001B[39;49m\u001B[43mdataset\u001B[49m\u001B[43m[\u001B[49m\u001B[43midx\u001B[49m\u001B[43m]\u001B[49m \u001B[38;5;28;01mfor\u001B[39;00m idx \u001B[38;5;129;01min\u001B[39;00m possibly_batched_index]\n\u001B[0;32m     52\u001B[0m \u001B[38;5;28;01melse\u001B[39;00m:\n\u001B[0;32m     53\u001B[0m     data \u001B[38;5;241m=\u001B[39m \u001B[38;5;28mself\u001B[39m\u001B[38;5;241m.\u001B[39mdataset[possibly_batched_index]\n",
      "File \u001B[1;32m~\\.conda\\envs\\Torch_38\\lib\\site-packages\\torchvision\\datasets\\folder.py:229\u001B[0m, in \u001B[0;36mDatasetFolder.__getitem__\u001B[1;34m(self, index)\u001B[0m\n\u001B[0;32m    221\u001B[0m \u001B[38;5;250m\u001B[39m\u001B[38;5;124;03m\"\"\"\u001B[39;00m\n\u001B[0;32m    222\u001B[0m \u001B[38;5;124;03mArgs:\u001B[39;00m\n\u001B[0;32m    223\u001B[0m \u001B[38;5;124;03m    index (int): Index\u001B[39;00m\n\u001B[1;32m   (...)\u001B[0m\n\u001B[0;32m    226\u001B[0m \u001B[38;5;124;03m    tuple: (sample, target) where target is class_index of the target class.\u001B[39;00m\n\u001B[0;32m    227\u001B[0m \u001B[38;5;124;03m\"\"\"\u001B[39;00m\n\u001B[0;32m    228\u001B[0m path, target \u001B[38;5;241m=\u001B[39m \u001B[38;5;28mself\u001B[39m\u001B[38;5;241m.\u001B[39msamples[index]\n\u001B[1;32m--> 229\u001B[0m sample \u001B[38;5;241m=\u001B[39m \u001B[38;5;28;43mself\u001B[39;49m\u001B[38;5;241;43m.\u001B[39;49m\u001B[43mloader\u001B[49m\u001B[43m(\u001B[49m\u001B[43mpath\u001B[49m\u001B[43m)\u001B[49m\n\u001B[0;32m    230\u001B[0m \u001B[38;5;28;01mif\u001B[39;00m \u001B[38;5;28mself\u001B[39m\u001B[38;5;241m.\u001B[39mtransform \u001B[38;5;129;01mis\u001B[39;00m \u001B[38;5;129;01mnot\u001B[39;00m \u001B[38;5;28;01mNone\u001B[39;00m:\n\u001B[0;32m    231\u001B[0m     sample \u001B[38;5;241m=\u001B[39m \u001B[38;5;28mself\u001B[39m\u001B[38;5;241m.\u001B[39mtransform(sample)\n",
      "File \u001B[1;32m~\\.conda\\envs\\Torch_38\\lib\\site-packages\\torchvision\\datasets\\folder.py:268\u001B[0m, in \u001B[0;36mdefault_loader\u001B[1;34m(path)\u001B[0m\n\u001B[0;32m    266\u001B[0m     \u001B[38;5;28;01mreturn\u001B[39;00m accimage_loader(path)\n\u001B[0;32m    267\u001B[0m \u001B[38;5;28;01melse\u001B[39;00m:\n\u001B[1;32m--> 268\u001B[0m     \u001B[38;5;28;01mreturn\u001B[39;00m \u001B[43mpil_loader\u001B[49m\u001B[43m(\u001B[49m\u001B[43mpath\u001B[49m\u001B[43m)\u001B[49m\n",
      "File \u001B[1;32m~\\.conda\\envs\\Torch_38\\lib\\site-packages\\torchvision\\datasets\\folder.py:248\u001B[0m, in \u001B[0;36mpil_loader\u001B[1;34m(path)\u001B[0m\n\u001B[0;32m    246\u001B[0m \u001B[38;5;28;01mwith\u001B[39;00m \u001B[38;5;28mopen\u001B[39m(path, \u001B[38;5;124m\"\u001B[39m\u001B[38;5;124mrb\u001B[39m\u001B[38;5;124m\"\u001B[39m) \u001B[38;5;28;01mas\u001B[39;00m f:\n\u001B[0;32m    247\u001B[0m     img \u001B[38;5;241m=\u001B[39m Image\u001B[38;5;241m.\u001B[39mopen(f)\n\u001B[1;32m--> 248\u001B[0m     \u001B[38;5;28;01mreturn\u001B[39;00m \u001B[43mimg\u001B[49m\u001B[38;5;241;43m.\u001B[39;49m\u001B[43mconvert\u001B[49m\u001B[43m(\u001B[49m\u001B[38;5;124;43m\"\u001B[39;49m\u001B[38;5;124;43mRGB\u001B[39;49m\u001B[38;5;124;43m\"\u001B[39;49m\u001B[43m)\u001B[49m\n",
      "File \u001B[1;32m~\\.conda\\envs\\Torch_38\\lib\\site-packages\\PIL\\Image.py:922\u001B[0m, in \u001B[0;36mImage.convert\u001B[1;34m(self, mode, matrix, dither, palette, colors)\u001B[0m\n\u001B[0;32m    874\u001B[0m \u001B[38;5;28;01mdef\u001B[39;00m \u001B[38;5;21mconvert\u001B[39m(\n\u001B[0;32m    875\u001B[0m     \u001B[38;5;28mself\u001B[39m, mode\u001B[38;5;241m=\u001B[39m\u001B[38;5;28;01mNone\u001B[39;00m, matrix\u001B[38;5;241m=\u001B[39m\u001B[38;5;28;01mNone\u001B[39;00m, dither\u001B[38;5;241m=\u001B[39m\u001B[38;5;28;01mNone\u001B[39;00m, palette\u001B[38;5;241m=\u001B[39mPalette\u001B[38;5;241m.\u001B[39mWEB, colors\u001B[38;5;241m=\u001B[39m\u001B[38;5;241m256\u001B[39m\n\u001B[0;32m    876\u001B[0m ):\n\u001B[0;32m    877\u001B[0m \u001B[38;5;250m    \u001B[39m\u001B[38;5;124;03m\"\"\"\u001B[39;00m\n\u001B[0;32m    878\u001B[0m \u001B[38;5;124;03m    Returns a converted copy of this image. For the \"P\" mode, this\u001B[39;00m\n\u001B[0;32m    879\u001B[0m \u001B[38;5;124;03m    method translates pixels through the palette.  If mode is\u001B[39;00m\n\u001B[1;32m   (...)\u001B[0m\n\u001B[0;32m    919\u001B[0m \u001B[38;5;124;03m    :returns: An :py:class:`~PIL.Image.Image` object.\u001B[39;00m\n\u001B[0;32m    920\u001B[0m \u001B[38;5;124;03m    \"\"\"\u001B[39;00m\n\u001B[1;32m--> 922\u001B[0m     \u001B[38;5;28;43mself\u001B[39;49m\u001B[38;5;241;43m.\u001B[39;49m\u001B[43mload\u001B[49m\u001B[43m(\u001B[49m\u001B[43m)\u001B[49m\n\u001B[0;32m    924\u001B[0m     has_transparency \u001B[38;5;241m=\u001B[39m \u001B[38;5;124m\"\u001B[39m\u001B[38;5;124mtransparency\u001B[39m\u001B[38;5;124m\"\u001B[39m \u001B[38;5;129;01min\u001B[39;00m \u001B[38;5;28mself\u001B[39m\u001B[38;5;241m.\u001B[39minfo\n\u001B[0;32m    925\u001B[0m     \u001B[38;5;28;01mif\u001B[39;00m \u001B[38;5;129;01mnot\u001B[39;00m mode \u001B[38;5;129;01mand\u001B[39;00m \u001B[38;5;28mself\u001B[39m\u001B[38;5;241m.\u001B[39mmode \u001B[38;5;241m==\u001B[39m \u001B[38;5;124m\"\u001B[39m\u001B[38;5;124mP\u001B[39m\u001B[38;5;124m\"\u001B[39m:\n\u001B[0;32m    926\u001B[0m         \u001B[38;5;66;03m# determine default mode\u001B[39;00m\n",
      "File \u001B[1;32m~\\.conda\\envs\\Torch_38\\lib\\site-packages\\PIL\\ImageFile.py:291\u001B[0m, in \u001B[0;36mImageFile.load\u001B[1;34m(self)\u001B[0m\n\u001B[0;32m    288\u001B[0m         \u001B[38;5;28;01mraise\u001B[39;00m \u001B[38;5;167;01mOSError\u001B[39;00m(msg)\n\u001B[0;32m    290\u001B[0m b \u001B[38;5;241m=\u001B[39m b \u001B[38;5;241m+\u001B[39m s\n\u001B[1;32m--> 291\u001B[0m n, err_code \u001B[38;5;241m=\u001B[39m \u001B[43mdecoder\u001B[49m\u001B[38;5;241;43m.\u001B[39;49m\u001B[43mdecode\u001B[49m\u001B[43m(\u001B[49m\u001B[43mb\u001B[49m\u001B[43m)\u001B[49m\n\u001B[0;32m    292\u001B[0m \u001B[38;5;28;01mif\u001B[39;00m n \u001B[38;5;241m<\u001B[39m \u001B[38;5;241m0\u001B[39m:\n\u001B[0;32m    293\u001B[0m     \u001B[38;5;28;01mbreak\u001B[39;00m\n",
      "\u001B[1;31mKeyboardInterrupt\u001B[0m: "
     ]
    }
   ],
   "source": [
    "## train에 쓰는 데이터와 test에 쓰는 데이터를 다르게 둬야 하는데, 지금은 그렇게 하지 못 함.\n",
    "test_loss_list, test_accuracy_list = [], []\n",
    "\n",
    "for epoch in range(1, EPOCHS + 1):\n",
    "    \n",
    "    train(epoch, model, imgDL, optimizer, log_interval = 10)\n",
    "    test_loss, test_accuracy = evaluate(model, imgDL)\n",
    "    test_loss_list.append(test_loss)\n",
    "    test_accuracy_list.append(test_accuracy)\n",
    "    \n",
    "    print(f\"\\n[EPOCH: {epoch}], \\tTest Loss: {test_loss:.4f}, \\tTest Accuracy: {test_accuracy:.2f} % \\n\")"
   ],
   "metadata": {
    "collapsed": false,
    "ExecuteTime": {
     "end_time": "2024-03-27T06:15:56.407700100Z",
     "start_time": "2024-03-27T05:51:45.730651300Z"
    }
   },
   "id": "2def78a23481ccaf",
   "execution_count": 41
  },
  {
   "cell_type": "code",
   "outputs": [
    {
     "data": {
      "text/plain": "<Figure size 640x480 with 2 Axes>",
      "image/png": "[encoded data removed]"
     },
     "metadata": {},
     "output_type": "display_data"
    }
   ],
   "source": [
    "### 테스트 Loss와 Acc 시각화\n",
    "import koreanize_matplotlib\n",
    "\n",
    "fig, ax1 = plt.subplots()\n",
    "ax1.plot(test_loss_list, label='loss', color='red')\n",
    "\n",
    "ax2 = ax1.twinx()\n",
    "ax2.plot(test_accuracy_list, label='acc', color='blue')\n",
    "\n",
    "ax1.legend(loc='upper left')\n",
    "ax2.legend(loc='upper right')\n",
    "plt.title('[ 배경 제거한 버전 ] loss & acc')\n",
    "plt.show()"
   ],
   "metadata": {
    "collapsed": false,
    "ExecuteTime": {
     "end_time": "2024-03-27T06:16:20.099497100Z",
     "start_time": "2024-03-27T06:16:19.010261200Z"
    }
   },
   "id": "c7157bc51128c653",
   "execution_count": 43
  },
  {
   "cell_type": "code",
   "outputs": [],
   "source": [],
   "metadata": {
    "collapsed": false
   },
   "id": "47db09b8fdffbf14"
  }
 ],
 "metadata": {
  "kernelspec": {
   "display_name": "Python 3",
   "language": "python",
   "name": "python3"
  },
  "language_info": {
   "codemirror_mode": {
    "name": "ipython",
    "version": 2
   },
   "file_extension": ".py",
   "mimetype": "text/x-python",
   "name": "python",
   "nbconvert_exporter": "python",
   "pygments_lexer": "ipython2",
   "version": "2.7.6"
  }
 },
 "nbformat": 4,
 "nbformat_minor": 5
}

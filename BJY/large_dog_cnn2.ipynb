{
 "cells": [
  {
   "cell_type": "markdown",
   "source": [
    "## 개 품종 딥러닝 (대형견 한정)\n",
    "- OpenCV 팀 프로젝트\n",
    "- 데이터 출처 : https://www.kaggle.com/datasets/amandam1/120-dog-breeds-breed-classification\n",
    "\n",
    "개발 포인트\n",
    "- ImageFolder\n",
    "- Transforms\n",
    "- DataLoader\n",
    "- WeightedRandomSampler\n",
    "- CNN"
   ],
   "metadata": {
    "collapsed": false
   },
   "id": "4887c16e4519c602"
  },
  {
   "cell_type": "markdown",
   "source": [
    "(1) 데이터 준비"
   ],
   "metadata": {
    "collapsed": false
   },
   "id": "a2e42c193dc7bc4d"
  },
  {
   "cell_type": "code",
   "outputs": [
    {
     "name": "stderr",
     "output_type": "stream",
     "text": [
      "C:\\Users\\kdp\\.conda\\envs\\Torch_38\\lib\\site-packages\\torchvision\\io\\image.py:13: UserWarning: Failed to load image Python extension: '[WinError 127] 지정된 프로시저를 찾을 수 없습니다'If you don't plan on using image functionality from `torchvision.io`, you can ignore this warning. Otherwise, there might be something wrong with your environment. Did you have `libjpeg` or `libpng` installed before building `torchvision` from source?\n",
      "  warn(\n"
     ]
    }
   ],
   "source": [
    "import torch\n",
    "\n",
    "from torchvision.datasets import ImageFolder\n",
    "import torchvision.transforms as transforms\n",
    "from torch.utils.data import Subset\n",
    "from torchvision.models import resnet18, ResNet18_Weights\n",
    "\n",
    "import numpy as np"
   ],
   "metadata": {
    "collapsed": false,
    "ExecuteTime": {
     "end_time": "2024-03-27T05:31:41.744520500Z",
     "start_time": "2024-03-27T05:31:37.968465100Z"
    }
   },
   "id": "2d73960942f7dd99",
   "execution_count": 1
  },
  {
   "cell_type": "code",
   "outputs": [],
   "source": [
    "preprocessing = transforms.Compose([\n",
    "    transforms.Resize((32, 32)),    # 32x32 크기\n",
    "    transforms.ToTensor()\n",
    "])"
   ],
   "metadata": {
    "collapsed": false,
    "ExecuteTime": {
     "end_time": "2024-03-27T05:31:41.759924500Z",
     "start_time": "2024-03-27T05:31:41.746587200Z"
    }
   },
   "id": "6b7a3d44df6f70b1",
   "execution_count": 2
  },
  {
   "cell_type": "markdown",
   "source": [
    "(2) Dataset 생성 (훈련용, 검증용)"
   ],
   "metadata": {
    "collapsed": false
   },
   "id": "8832f526a5a3bb56"
  },
  {
   "cell_type": "code",
   "outputs": [],
   "source": [
    "### 데이터셋 생성\n",
    "### img_root = './image'로 잡으면 BIG 폴더 안의 각 개들에 대한 클래스를 못 얻음\n",
    "# img_root = './image/BIG'\n",
    "# img_root = './modified/BIG'\n",
    "img_root = './Images-resized'\n",
    "\n",
    "imgDS = ImageFolder(root=img_root, transform=preprocessing)"
   ],
   "metadata": {
    "collapsed": false,
    "ExecuteTime": {
     "end_time": "2024-03-27T05:47:14.776033200Z",
     "start_time": "2024-03-27T05:47:14.720320700Z"
    }
   },
   "id": "b2849f78ad5c8647",
   "execution_count": 92
  },
  {
   "cell_type": "code",
   "outputs": [
    {
     "data": {
      "text/plain": "(torchvision.datasets.folder.ImageFolder, 1297)"
     },
     "execution_count": 93,
     "metadata": {},
     "output_type": "execute_result"
    }
   ],
   "source": [
    "type(imgDS), len(imgDS)"
   ],
   "metadata": {
    "collapsed": false,
    "ExecuteTime": {
     "end_time": "2024-03-27T05:47:15.238355Z",
     "start_time": "2024-03-27T05:47:15.200344100Z"
    }
   },
   "id": "1cbbc4d75bd15367",
   "execution_count": 93
  },
  {
   "cell_type": "code",
   "outputs": [
    {
     "name": "stdout",
     "output_type": "stream",
     "text": [
      "img 타입 : <class 'torch.Tensor'>, label 타입 : <class 'int'>\n"
     ]
    }
   ],
   "source": [
    "print(f'img 타입 : {type(imgDS[0][0])}, label 타입 : {type(imgDS[0][1])}')"
   ],
   "metadata": {
    "collapsed": false,
    "ExecuteTime": {
     "end_time": "2024-03-27T05:47:15.867254300Z",
     "start_time": "2024-03-27T05:47:15.818699400Z"
    }
   },
   "id": "561fc137623e7713",
   "execution_count": 94
  },
  {
   "cell_type": "code",
   "outputs": [
    {
     "name": "stdout",
     "output_type": "stream",
     "text": [
      "img shape : torch.Size([3, 32, 32])\n"
     ]
    }
   ],
   "source": [
    "print(f'img shape : {imgDS[0][0].shape}')"
   ],
   "metadata": {
    "collapsed": false,
    "ExecuteTime": {
     "end_time": "2024-03-27T05:47:16.578801200Z",
     "start_time": "2024-03-27T05:47:16.510685100Z"
    }
   },
   "id": "d1c5e9fa21b22cc8",
   "execution_count": 95
  },
  {
   "cell_type": "code",
   "outputs": [
    {
     "data": {
      "text/plain": "7"
     },
     "execution_count": 96,
     "metadata": {},
     "output_type": "execute_result"
    }
   ],
   "source": [
    "len(imgDS.classes)"
   ],
   "metadata": {
    "collapsed": false,
    "ExecuteTime": {
     "end_time": "2024-03-27T05:47:17.001236400Z",
     "start_time": "2024-03-27T05:47:16.952382700Z"
    }
   },
   "id": "d04a6fe1dfff134d",
   "execution_count": 96
  },
  {
   "cell_type": "code",
   "outputs": [
    {
     "data": {
      "text/plain": "{'Chihuahua': 0,\n 'Maltese_dog': 1,\n 'Pekinese': 2,\n 'Shih-Tzu': 3,\n 'beagle': 4,\n 'bluetick': 5,\n 'papillon': 6}"
     },
     "execution_count": 97,
     "metadata": {},
     "output_type": "execute_result"
    }
   ],
   "source": [
    "imgDS.class_to_idx"
   ],
   "metadata": {
    "collapsed": false,
    "ExecuteTime": {
     "end_time": "2024-03-27T05:47:18.422867200Z",
     "start_time": "2024-03-27T05:47:18.372940400Z"
    }
   },
   "id": "57e236968decea24",
   "execution_count": 97
  },
  {
   "cell_type": "code",
   "outputs": [
    {
     "data": {
      "text/plain": "array([['./Images-resized\\\\Chihuahua\\\\n02085620_10074.png', '0'],\n       ['./Images-resized\\\\Chihuahua\\\\n02085620_10131.png', '0'],\n       ['./Images-resized\\\\Chihuahua\\\\n02085620_10621.png', '0'],\n       ['./Images-resized\\\\Chihuahua\\\\n02085620_1073.png', '0'],\n       ['./Images-resized\\\\Chihuahua\\\\n02085620_10976.png', '0']],\n      dtype='<U48')"
     },
     "execution_count": 98,
     "metadata": {},
     "output_type": "execute_result"
    }
   ],
   "source": [
    "np.array(imgDS.imgs)[:5]"
   ],
   "metadata": {
    "collapsed": false,
    "ExecuteTime": {
     "end_time": "2024-03-27T05:47:19.129595800Z",
     "start_time": "2024-03-27T05:47:19.067687600Z"
    }
   },
   "id": "21ce4630a1c09b1e",
   "execution_count": 98
  },
  {
   "cell_type": "code",
   "outputs": [
    {
     "name": "stdout",
     "output_type": "stream",
     "text": [
      "./Images-resized\\Chihuahua\\n02085620_10074.png\n"
     ]
    },
    {
     "data": {
      "text/plain": "2"
     },
     "execution_count": 99,
     "metadata": {},
     "output_type": "execute_result"
    }
   ],
   "source": [
    "# ImageFolder로 읽어왔을 때 imgs에 저장되는 문자열 형식 파악\n",
    "filename = np.array(imgDS.imgs)[0, 0]\n",
    "print(filename)\n",
    "filename.count('\\\\')"
   ],
   "metadata": {
    "collapsed": false,
    "ExecuteTime": {
     "end_time": "2024-03-27T05:47:21.613269800Z",
     "start_time": "2024-03-27T05:47:21.545570300Z"
    }
   },
   "id": "3fe6365ee109633d",
   "execution_count": 99
  },
  {
   "cell_type": "code",
   "outputs": [],
   "source": [
    "# 'BIG' 디렉터리에 해당하는 인덱스 추출\n",
    "# big_indices = [i for i, (_, label) in enumerate(imgDS.samples) if imgDS.classes[label] == 'BIG']"
   ],
   "metadata": {
    "collapsed": false,
    "ExecuteTime": {
     "end_time": "2024-03-27T05:47:22.307604500Z",
     "start_time": "2024-03-27T05:47:22.282693500Z"
    }
   },
   "id": "e17d0aefb1264b90",
   "execution_count": 100
  },
  {
   "cell_type": "code",
   "outputs": [],
   "source": [
    "# Subset 생성 ('BIG'에 해당하는 사진만)\n",
    "# bigSS = Subset(imgDS, big_indices)\n",
    "# len(bigSS)"
   ],
   "metadata": {
    "collapsed": false,
    "ExecuteTime": {
     "end_time": "2024-03-27T05:47:22.652462Z",
     "start_time": "2024-03-27T05:47:22.638151300Z"
    }
   },
   "id": "a8a6c457501e2a34",
   "execution_count": 101
  },
  {
   "cell_type": "code",
   "outputs": [
    {
     "data": {
      "text/plain": "<Figure size 1000x100 with 10 Axes>",
      "image/png": "[encoded data removed]"
     },
     "metadata": {},
     "output_type": "display_data"
    }
   ],
   "source": [
    "### 데이터 확인 (시각화)\n",
    "import matplotlib.pyplot as plt\n",
    "import numpy as np\n",
    "\n",
    "pltsize = 1\n",
    "plt.figure(figsize=(10 * pltsize, pltsize))\n",
    "\n",
    "for i in range(10):\n",
    "    plt.subplot(1, 10, i + 1)\n",
    "    plt.axis('off')\n",
    "    plt.imshow(np.transpose(imgDS[i*20][0], (1, 2, 0)))    # (C, H, W) -> (H, W, C)로 변환\n",
    "    plt.title('Class: ' + str(imgDS[i*20][1]))"
   ],
   "metadata": {
    "collapsed": false,
    "ExecuteTime": {
     "end_time": "2024-03-27T05:47:33.450152500Z",
     "start_time": "2024-03-27T05:47:32.458750100Z"
    }
   },
   "id": "2f7608a3649a526b",
   "execution_count": 103
  },
  {
   "cell_type": "code",
   "outputs": [
    {
     "data": {
      "text/plain": "(1297, 1297)"
     },
     "execution_count": 104,
     "metadata": {},
     "output_type": "execute_result"
    }
   ],
   "source": [
    "### 이미지와 레이블을 ndarray로 변환\n",
    "### preprocessing 없이 ImageFolder 생성해서 아래 코드 실행하면 RAM 메모리 부족으로 MemoryError 발생\n",
    "### MemoryError: Unable to allocate 488. KiB for an array with shape (500, 333, 3) and data type uint8\n",
    "images = []\n",
    "labels = []\n",
    "\n",
    "for img, label in imgDS:    # img : <class 'PIL.Image.Image'>, label : <class 'int'>\n",
    "    images.append(np.array(img))      # PIL.Image.Image 객체 -> ndarray 변환 가능\n",
    "    labels.append(np.array(label))\n",
    "len(images), len(labels)"
   ],
   "metadata": {
    "collapsed": false,
    "ExecuteTime": {
     "end_time": "2024-03-27T05:47:45.070491100Z",
     "start_time": "2024-03-27T05:47:35.614983400Z"
    }
   },
   "id": "6ff24f4e12af9f37",
   "execution_count": 104
  },
  {
   "cell_type": "code",
   "outputs": [
    {
     "name": "stdout",
     "output_type": "stream",
     "text": [
      "imagesNP shape : (1297, 3, 32, 32), labelsNP shape : (1297,)\n"
     ]
    }
   ],
   "source": [
    "imagesNP = np.array(images)\n",
    "labelsNP = np.array(labels)\n",
    "\n",
    "print(f'imagesNP shape : {imagesNP.shape}, labelsNP shape : {labelsNP.shape}')"
   ],
   "metadata": {
    "collapsed": false,
    "ExecuteTime": {
     "end_time": "2024-03-27T05:47:45.101646800Z",
     "start_time": "2024-03-27T05:47:45.075544500Z"
    }
   },
   "id": "a92924a18911c030",
   "execution_count": 105
  },
  {
   "cell_type": "code",
   "outputs": [
    {
     "name": "stdout",
     "output_type": "stream",
     "text": [
      "x_train : (1037, 3, 32, 32) 4D\n",
      "y_train : (1037,) 1D\n"
     ]
    }
   ],
   "source": [
    "### => train, test 데이터셋으로 나누기\n",
    "from sklearn.model_selection import train_test_split\n",
    "\n",
    "x_train, x_test, y_train, y_test = train_test_split(imagesNP, labelsNP, test_size=0.2, stratify=labels, random_state=42)\n",
    "print(f'x_train : {x_train.shape} {x_train.ndim}D')     # 4D\n",
    "print(f'y_train : {y_train.shape} {y_train.ndim}D')     # 1D"
   ],
   "metadata": {
    "collapsed": false,
    "ExecuteTime": {
     "end_time": "2024-03-27T05:47:45.104854900Z",
     "start_time": "2024-03-27T05:47:45.091779Z"
    }
   },
   "id": "ee8e77b96661b23d",
   "execution_count": 106
  },
  {
   "cell_type": "code",
   "outputs": [
    {
     "data": {
      "text/plain": "\"### TesnorDataset에 적용하기 위해, y값을 1D -> 2D로 변환\\ny_train = np.expand_dims(y_train, axis=1)\\ny_test = np.expand_dims(y_test, axis=1)\\n\\nprint(f'y_train: {y_train.shape} {y_train.ndim}D')\\nprint(f'y_test : {y_test.shape} {y_test.ndim}D')\""
     },
     "execution_count": 107,
     "metadata": {},
     "output_type": "execute_result"
    }
   ],
   "source": [
    "\"\"\"### TesnorDataset에 적용하기 위해, y값을 1D -> 2D로 변환\n",
    "y_train = np.expand_dims(y_train, axis=1)\n",
    "y_test = np.expand_dims(y_test, axis=1)\n",
    "\n",
    "print(f'y_train: {y_train.shape} {y_train.ndim}D')\n",
    "print(f'y_test : {y_test.shape} {y_test.ndim}D')\"\"\""
   ],
   "metadata": {
    "collapsed": false,
    "ExecuteTime": {
     "end_time": "2024-03-27T05:47:45.171732900Z",
     "start_time": "2024-03-27T05:47:45.103789700Z"
    }
   },
   "id": "1c7196f9cfd5e489",
   "execution_count": 107
  },
  {
   "cell_type": "code",
   "outputs": [],
   "source": [
    "from torch.utils.data import TensorDataset, Dataset, DataLoader"
   ],
   "metadata": {
    "collapsed": false,
    "ExecuteTime": {
     "end_time": "2024-03-27T05:47:45.172901700Z",
     "start_time": "2024-03-27T05:47:45.121701200Z"
    }
   },
   "id": "ee996327f3b5f3f6",
   "execution_count": 108
  },
  {
   "cell_type": "code",
   "outputs": [],
   "source": [
    "x_trainTS = torch.FloatTensor(x_train)\n",
    "y_trainTS = torch.LongTensor(y_train)\n",
    "\n",
    "x_testTS = torch.FloatTensor(x_test)\n",
    "y_testTS = torch.LongTensor(y_test)"
   ],
   "metadata": {
    "collapsed": false,
    "ExecuteTime": {
     "end_time": "2024-03-27T05:47:45.192508400Z",
     "start_time": "2024-03-27T05:47:45.136998100Z"
    }
   },
   "id": "2a3b20ba8c44a759",
   "execution_count": 109
  },
  {
   "cell_type": "code",
   "outputs": [
    {
     "data": {
      "text/plain": "'x_trainTS = torch.IntTensor(x_train)\\ny_trainTS = torch.IntTensor(y_train)\\n\\nx_testTS = torch.IntTensor(x_test)\\ny_testTS = torch.IntTensor(y_test)'"
     },
     "execution_count": 110,
     "metadata": {},
     "output_type": "execute_result"
    }
   ],
   "source": [
    "\"\"\"x_trainTS = torch.IntTensor(x_train)\n",
    "y_trainTS = torch.IntTensor(y_train)\n",
    "\n",
    "x_testTS = torch.IntTensor(x_test)\n",
    "y_testTS = torch.IntTensor(y_test)\"\"\""
   ],
   "metadata": {
    "collapsed": false,
    "ExecuteTime": {
     "end_time": "2024-03-27T05:47:45.224596600Z",
     "start_time": "2024-03-27T05:47:45.150383100Z"
    }
   },
   "id": "38c3147dd86241c5",
   "execution_count": 110
  },
  {
   "cell_type": "code",
   "outputs": [],
   "source": [
    "trainDS = TensorDataset(x_trainTS, y_trainTS)\n",
    "testDS = TensorDataset(x_testTS, y_testTS)"
   ],
   "metadata": {
    "collapsed": false,
    "ExecuteTime": {
     "end_time": "2024-03-27T05:47:45.228992700Z",
     "start_time": "2024-03-27T05:47:45.168489200Z"
    }
   },
   "id": "27072fb9017f0636",
   "execution_count": 111
  },
  {
   "cell_type": "code",
   "outputs": [
    {
     "data": {
      "text/plain": "(1037, 260)"
     },
     "execution_count": 112,
     "metadata": {},
     "output_type": "execute_result"
    }
   ],
   "source": [
    "len(trainDS), len(testDS)"
   ],
   "metadata": {
    "collapsed": false,
    "ExecuteTime": {
     "end_time": "2024-03-27T05:47:51.260229100Z",
     "start_time": "2024-03-27T05:47:51.236323400Z"
    }
   },
   "id": "7e0adf47678ea1ea",
   "execution_count": 112
  },
  {
   "cell_type": "code",
   "outputs": [],
   "source": [
    "# 클래스별 샘플 수 계산\n",
    "import os\n",
    "\n",
    "def file_count_in_dir(path):\n",
    "    \"\"\" path : 대장 폴더 주소 \"\"\"\n",
    "    if not path.endswith('/'):\n",
    "        path += '/'\n",
    "    \n",
    "    file_count = dict()\n",
    "    \n",
    "    datalist = os.listdir(path)\n",
    "    for data in datalist:\n",
    "        if os.path.isdir(path + data):\n",
    "            sub_datalist = os.listdir(path + data)\n",
    "            file_count[path + data] = len(sub_datalist)\n",
    "    return file_count"
   ],
   "metadata": {
    "collapsed": false,
    "ExecuteTime": {
     "end_time": "2024-03-27T05:47:54.622602400Z",
     "start_time": "2024-03-27T05:47:54.561362400Z"
    }
   },
   "id": "d9798e031a54f81b",
   "execution_count": 113
  },
  {
   "cell_type": "code",
   "outputs": [],
   "source": [
    "# file_count = file_count_in_dir(img_root)\n",
    "# file_count2 = {key.split('/')[-1]: value for key, value in file_count.items()}\n",
    "# file_count3 = {key.split('_')[0]: value for key, value in file_count2.items()}\n",
    "# print(file_count3)"
   ],
   "metadata": {
    "collapsed": false,
    "ExecuteTime": {
     "end_time": "2024-03-27T05:37:30.575485100Z",
     "start_time": "2024-03-27T05:37:30.536679600Z"
    }
   },
   "id": "8879a9ea8a0e6325",
   "execution_count": 55
  },
  {
   "cell_type": "code",
   "outputs": [],
   "source": [
    "# class_names = imgDS.class_to_idx\n",
    "# class_names"
   ],
   "metadata": {
    "collapsed": false,
    "ExecuteTime": {
     "end_time": "2024-03-27T02:15:34.653819100Z",
     "start_time": "2024-03-27T02:15:34.633368100Z"
    }
   },
   "id": "6bd2e9051b250e41",
   "execution_count": 256
  },
  {
   "cell_type": "code",
   "outputs": [],
   "source": [
    "# class_names = {key.split('_')[0]: value for key, value in class_names.items()}\n",
    "# class_names"
   ],
   "metadata": {
    "collapsed": false,
    "ExecuteTime": {
     "end_time": "2024-03-27T02:15:34.922621200Z",
     "start_time": "2024-03-27T02:15:34.882468800Z"
    }
   },
   "id": "2caac77e4ed46b75",
   "execution_count": 257
  },
  {
   "cell_type": "code",
   "outputs": [],
   "source": [
    "# class_count = [file_count3[key] for key, value in class_names.items()]\n",
    "# print(class_count)"
   ],
   "metadata": {
    "collapsed": false,
    "ExecuteTime": {
     "end_time": "2024-03-27T02:15:35.096588100Z",
     "start_time": "2024-03-27T02:15:35.072070Z"
    }
   },
   "id": "ece9adc3c024d7bc",
   "execution_count": 258
  },
  {
   "cell_type": "code",
   "outputs": [
    {
     "data": {
      "text/plain": "'### Sampler에서 사용할 가중치 생성\\ntotal_image_count = len(class_count)\\n# weights = [class_count / total_image_count for class_count in class_count]\\nweights = []\\nfor i, v in enumerate(class_count):\\n    weights.extend([1 / v] * v)\\nprint(len(weights))'"
     },
     "execution_count": 259,
     "metadata": {},
     "output_type": "execute_result"
    }
   ],
   "source": [
    "\"\"\"### Sampler에서 사용할 가중치 생성\n",
    "total_image_count = len(class_count)\n",
    "# weights = [class_count / total_image_count for class_count in class_count]\n",
    "weights = []\n",
    "for i, v in enumerate(class_count):\n",
    "    weights.extend([1 / v] * v)\n",
    "print(len(weights))\"\"\""
   ],
   "metadata": {
    "collapsed": false,
    "ExecuteTime": {
     "end_time": "2024-03-27T02:15:35.352889Z",
     "start_time": "2024-03-27T02:15:35.268312800Z"
    }
   },
   "id": "edb38454c5629b4f",
   "execution_count": 259
  },
  {
   "cell_type": "markdown",
   "source": [
    "(3) DataLoader 생성 (훈련용, 검증용)"
   ],
   "metadata": {
    "collapsed": false
   },
   "id": "72a0eea926ed6d7e"
  },
  {
   "cell_type": "code",
   "outputs": [],
   "source": [
    "BATCH_SIZE = 64"
   ],
   "metadata": {
    "collapsed": false,
    "ExecuteTime": {
     "end_time": "2024-03-27T05:47:59.525599900Z",
     "start_time": "2024-03-27T05:47:59.488791600Z"
    }
   },
   "id": "f1b80d18cd235d6f",
   "execution_count": 114
  },
  {
   "cell_type": "code",
   "outputs": [
    {
     "name": "stdout",
     "output_type": "stream",
     "text": [
      "torch.Size([64, 3, 32, 32]) torch.Size([64])\n",
      "torch.Size([64, 3, 32, 32]) torch.Size([64])\n",
      "torch.Size([64, 3, 32, 32]) torch.Size([64])\n",
      "trainDL batch 개수 : 17\n",
      "testDL batch 개수 : 5\n"
     ]
    }
   ],
   "source": [
    "trainDL = DataLoader(trainDS, batch_size=BATCH_SIZE)\n",
    "testDL = DataLoader(testDS, batch_size=BATCH_SIZE)\n",
    "\n",
    "for idx, (img, label) in enumerate(trainDL):\n",
    "    if idx > 2: break\n",
    "    # print(img.shape, label.shape, label.bincount())\n",
    "    print(img.shape, label.shape)       # img : 4D, label : 2D\n",
    "    # print(label)\n",
    "\n",
    "print(f'trainDL batch 개수 : {len(trainDL)}')\n",
    "print(f'testDL batch 개수 : {len(testDL)}')"
   ],
   "metadata": {
    "collapsed": false,
    "ExecuteTime": {
     "end_time": "2024-03-27T05:47:59.780233500Z",
     "start_time": "2024-03-27T05:47:59.723801500Z"
    }
   },
   "id": "ff478e117720ebb5",
   "execution_count": 115
  },
  {
   "cell_type": "markdown",
   "source": [
    "(4) cnn 모델 만들기"
   ],
   "metadata": {
    "collapsed": false
   },
   "id": "cd720963cc346ed8"
  },
  {
   "cell_type": "code",
   "outputs": [],
   "source": [
    "import torch\n",
    "import torch.nn as nn\n",
    "import torch.nn.functional as F\n",
    "import torch.optim as optim\n",
    "import cv2\n",
    "from torchinfo import summary"
   ],
   "metadata": {
    "collapsed": false,
    "ExecuteTime": {
     "end_time": "2024-03-27T05:48:00.776855300Z",
     "start_time": "2024-03-27T05:48:00.736100500Z"
    }
   },
   "id": "a48d86a575a7832b",
   "execution_count": 116
  },
  {
   "cell_type": "code",
   "outputs": [
    {
     "data": {
      "text/plain": "torch.Size([3, 32, 32])"
     },
     "execution_count": 117,
     "metadata": {},
     "output_type": "execute_result"
    }
   ],
   "source": [
    "imgDS[0][0].shape"
   ],
   "metadata": {
    "collapsed": false,
    "ExecuteTime": {
     "end_time": "2024-03-27T05:48:01.033143300Z",
     "start_time": "2024-03-27T05:48:00.990753Z"
    }
   },
   "id": "736da1c73dd1dde2",
   "execution_count": 117
  },
  {
   "cell_type": "code",
   "outputs": [
    {
     "data": {
      "text/plain": "Conv2d(3, 8, kernel_size=(3, 3), stride=(1, 1), padding=(1, 1))"
     },
     "execution_count": 118,
     "metadata": {},
     "output_type": "execute_result"
    }
   ],
   "source": [
    "conv1 = nn.Conv2d(in_channels = 3, out_channels = 8, kernel_size = 3, padding = 1)  # 피처 8개 뽑겠다.\n",
    "conv1"
   ],
   "metadata": {
    "collapsed": false,
    "ExecuteTime": {
     "end_time": "2024-03-27T05:48:01.349957600Z",
     "start_time": "2024-03-27T05:48:01.312419400Z"
    }
   },
   "id": "473c69ee16fb0391",
   "execution_count": 118
  },
  {
   "cell_type": "code",
   "outputs": [
    {
     "data": {
      "text/plain": "torch.Size([8, 32, 32])"
     },
     "execution_count": 119,
     "metadata": {},
     "output_type": "execute_result"
    }
   ],
   "source": [
    "output1 = conv1(imgDS[0][0])\n",
    "output1.shape"
   ],
   "metadata": {
    "collapsed": false,
    "ExecuteTime": {
     "end_time": "2024-03-27T05:48:01.671805400Z",
     "start_time": "2024-03-27T05:48:01.618518900Z"
    }
   },
   "id": "1eaea368b11dc51",
   "execution_count": 119
  },
  {
   "cell_type": "code",
   "outputs": [
    {
     "data": {
      "text/plain": "MaxPool2d(kernel_size=2, stride=2, padding=0, dilation=1, ceil_mode=False)"
     },
     "execution_count": 120,
     "metadata": {},
     "output_type": "execute_result"
    }
   ],
   "source": [
    "pool = nn.MaxPool2d(kernel_size = 2, stride = 2)\n",
    "pool"
   ],
   "metadata": {
    "collapsed": false,
    "ExecuteTime": {
     "end_time": "2024-03-27T05:48:01.980232600Z",
     "start_time": "2024-03-27T05:48:01.938201200Z"
    }
   },
   "id": "d32d54f0e665db48",
   "execution_count": 120
  },
  {
   "cell_type": "code",
   "outputs": [
    {
     "data": {
      "text/plain": "torch.Size([8, 16, 16])"
     },
     "execution_count": 121,
     "metadata": {},
     "output_type": "execute_result"
    }
   ],
   "source": [
    "output2 = pool(output1)\n",
    "output2.shape"
   ],
   "metadata": {
    "collapsed": false,
    "ExecuteTime": {
     "end_time": "2024-03-27T05:48:02.367229700Z",
     "start_time": "2024-03-27T05:48:02.318702400Z"
    }
   },
   "id": "2ec4f44616d727af",
   "execution_count": 121
  },
  {
   "cell_type": "code",
   "outputs": [
    {
     "data": {
      "text/plain": "Conv2d(8, 16, kernel_size=(3, 3), stride=(1, 1), padding=(1, 1))"
     },
     "execution_count": 122,
     "metadata": {},
     "output_type": "execute_result"
    }
   ],
   "source": [
    "conv2 = nn.Conv2d(in_channels = 8, out_channels = 16, kernel_size = 3, padding = 1)\n",
    "conv2"
   ],
   "metadata": {
    "collapsed": false,
    "ExecuteTime": {
     "end_time": "2024-03-27T05:48:02.594886400Z",
     "start_time": "2024-03-27T05:48:02.576472800Z"
    }
   },
   "id": "2af628ce1873ee71",
   "execution_count": 122
  },
  {
   "cell_type": "code",
   "outputs": [
    {
     "data": {
      "text/plain": "torch.Size([8, 8, 8])"
     },
     "execution_count": 123,
     "metadata": {},
     "output_type": "execute_result"
    }
   ],
   "source": [
    "output3 = pool(output2)\n",
    "output3.shape"
   ],
   "metadata": {
    "collapsed": false,
    "ExecuteTime": {
     "end_time": "2024-03-27T05:48:02.946182200Z",
     "start_time": "2024-03-27T05:48:02.899070500Z"
    }
   },
   "id": "4f903f9e69f703c4",
   "execution_count": 123
  },
  {
   "cell_type": "code",
   "outputs": [
    {
     "data": {
      "text/plain": "Conv2d(8, 16, kernel_size=(3, 3), stride=(1, 1), padding=(1, 1))"
     },
     "execution_count": 124,
     "metadata": {},
     "output_type": "execute_result"
    }
   ],
   "source": [
    "conv3 = nn.Conv2d(in_channels = 8, out_channels = 16, kernel_size = 3, padding = 1)\n",
    "conv3"
   ],
   "metadata": {
    "collapsed": false,
    "ExecuteTime": {
     "end_time": "2024-03-27T05:48:03.346440300Z",
     "start_time": "2024-03-27T05:48:03.292796100Z"
    }
   },
   "id": "1753fd9f4332bd6f",
   "execution_count": 124
  },
  {
   "cell_type": "code",
   "outputs": [
    {
     "data": {
      "text/plain": "torch.Size([16, 8, 8])"
     },
     "execution_count": 125,
     "metadata": {},
     "output_type": "execute_result"
    }
   ],
   "source": [
    "output4 = conv3(output3)\n",
    "output4.shape"
   ],
   "metadata": {
    "collapsed": false,
    "ExecuteTime": {
     "end_time": "2024-03-27T05:48:03.754324500Z",
     "start_time": "2024-03-27T05:48:03.703396200Z"
    }
   },
   "id": "d7b381c4973aa4cc",
   "execution_count": 125
  },
  {
   "cell_type": "code",
   "outputs": [
    {
     "data": {
      "text/plain": "torch.Size([16, 4, 4])"
     },
     "execution_count": 126,
     "metadata": {},
     "output_type": "execute_result"
    }
   ],
   "source": [
    "output5 = pool(output4)\n",
    "output5.shape"
   ],
   "metadata": {
    "collapsed": false,
    "ExecuteTime": {
     "end_time": "2024-03-27T05:48:04.021824300Z",
     "start_time": "2024-03-27T05:48:03.972038300Z"
    }
   },
   "id": "d93ed51647023db0",
   "execution_count": 126
  },
  {
   "cell_type": "code",
   "outputs": [],
   "source": [
    "class CNN(nn.Module):\n",
    "    def __init__(self):\n",
    "        super(CNN, self).__init__()\n",
    "        self.conv1 = nn.Conv2d(in_channels = 3, out_channels = 8, kernel_size = 3, padding = 1)\n",
    "        self.conv2 = nn.Conv2d(in_channels = 8, out_channels = 16, kernel_size = 3, padding = 1)\n",
    "        self.pool = nn.MaxPool2d(kernel_size = 2, stride = 2)\n",
    "        self.fc1 = nn.Linear(16 * 8 * 8, 64)\n",
    "        self.fc2 = nn.Linear(64, 32)\n",
    "        self.fc3 = nn.Linear(32, len(imgDS.classes))\n",
    "        \n",
    "    def forward(self, x):\n",
    "        x = self.conv1(x)\n",
    "        x = F.relu(x)\n",
    "        x = self.pool(x)\n",
    "        x = self.conv2(x)\n",
    "        x = F.relu(x)\n",
    "        x = self.pool(x)\n",
    "        \n",
    "        x = x.view(-1, 16 * 8 * 8)\n",
    "        x = self.fc1(x)\n",
    "        x = F.relu(x)\n",
    "        x = self.fc2(x)\n",
    "        x = F.relu(x)\n",
    "        x = self.fc3(x)\n",
    "        # x = F.log_softmax(x)  # CrossEntropy()에 중복\n",
    "        return x"
   ],
   "metadata": {
    "collapsed": false,
    "ExecuteTime": {
     "end_time": "2024-03-27T05:48:11.280547200Z",
     "start_time": "2024-03-27T05:48:11.254321900Z"
    }
   },
   "id": "ae6ea13ee0d610e2",
   "execution_count": 129
  },
  {
   "cell_type": "markdown",
   "source": [
    "(5) CNN 학습하기"
   ],
   "metadata": {
    "collapsed": false
   },
   "id": "69a5082090bf184c"
  },
  {
   "cell_type": "code",
   "outputs": [
    {
     "name": "stdout",
     "output_type": "stream",
     "text": [
      "CNN(\n",
      "  (conv1): Conv2d(3, 8, kernel_size=(3, 3), stride=(1, 1), padding=(1, 1))\n",
      "  (conv2): Conv2d(8, 16, kernel_size=(3, 3), stride=(1, 1), padding=(1, 1))\n",
      "  (pool): MaxPool2d(kernel_size=2, stride=2, padding=0, dilation=1, ceil_mode=False)\n",
      "  (fc1): Linear(in_features=1024, out_features=64, bias=True)\n",
      "  (fc2): Linear(in_features=64, out_features=32, bias=True)\n",
      "  (fc3): Linear(in_features=32, out_features=7, bias=True)\n",
      ")\n"
     ]
    }
   ],
   "source": [
    "DEVICE = 'cuda' if torch.cuda.is_available() else 'cpu'\n",
    "\n",
    "EPOCHS = 1000\n",
    "\n",
    "# model = cnn_model().to(DEVICE)\n",
    "model = CNN().to(DEVICE)\n",
    "\n",
    "optimizer = optim.Adam(model.parameters(), lr=0.001)\n",
    "\n",
    "criterion = nn.CrossEntropyLoss()\n",
    "\n",
    "print(model)"
   ],
   "metadata": {
    "collapsed": false,
    "ExecuteTime": {
     "end_time": "2024-03-27T05:48:12.289194500Z",
     "start_time": "2024-03-27T05:48:12.252305400Z"
    }
   },
   "id": "9926118795fd9322",
   "execution_count": 130
  },
  {
   "cell_type": "code",
   "outputs": [],
   "source": [
    "def train(epoch, model, train_loader, optimizer, log_interval):\n",
    "    model.train()\n",
    "    for batch_idx, (image, label) in enumerate(train_loader):\n",
    "        image = image.to(DEVICE)\n",
    "        label = label.to(DEVICE)\n",
    "        optimizer.zero_grad()\n",
    "        output = model(image)\n",
    "        loss = criterion(output, label)\n",
    "        loss.backward()\n",
    "        optimizer.step()\n",
    "\n",
    "        if batch_idx % log_interval == 0:\n",
    "            print(f\"Train Epoch: {epoch} [{batch_idx:2d}]\\tTrain Loss: {loss.item():.6f}\")"
   ],
   "metadata": {
    "collapsed": false,
    "ExecuteTime": {
     "end_time": "2024-03-27T05:48:12.889924300Z",
     "start_time": "2024-03-27T05:48:12.846336Z"
    }
   },
   "id": "28c590ec578d5bd4",
   "execution_count": 131
  },
  {
   "cell_type": "code",
   "outputs": [],
   "source": [
    "def evaluate(model, test_loader):\n",
    "    model.eval()\n",
    "    test_loss = 0\n",
    "    correct = 0\n",
    "\n",
    "    with torch.no_grad():\n",
    "        for image, label in test_loader:\n",
    "            image = image.to(DEVICE)\n",
    "            label = label.to(DEVICE)\n",
    "            \n",
    "            output = model(image)\n",
    "            test_loss += criterion(output, label).item()\n",
    "            prediction = output.max(1, keepdim = True)[1]\n",
    "            correct += prediction.eq(label.view_as(prediction)).sum().item()\n",
    "    \n",
    "    test_loss /= len(test_loader.dataset)\n",
    "    test_accuracy = 100. * correct / len(test_loader.dataset)\n",
    "    return test_loss, test_accuracy"
   ],
   "metadata": {
    "collapsed": false,
    "ExecuteTime": {
     "end_time": "2024-03-27T05:48:13.348234700Z",
     "start_time": "2024-03-27T05:48:13.313946100Z"
    }
   },
   "id": "261fd09306f8fd03",
   "execution_count": 132
  },
  {
   "cell_type": "code",
   "outputs": [
    {
     "name": "stdout",
     "output_type": "stream",
     "text": [
      "Train Epoch: 1 [ 0]\tTrain Loss: 1.970227\n",
      "\n",
      "[EPOCH: 1], \tTest Loss: 0.0369, \tTest Accuracy: 21.54 % \n",
      "\n",
      "Train Epoch: 2 [ 0]\tTrain Loss: 1.921422\n",
      "\n",
      "[EPOCH: 2], \tTest Loss: 0.0360, \tTest Accuracy: 20.77 % \n",
      "\n",
      "Train Epoch: 3 [ 0]\tTrain Loss: 1.849513\n",
      "\n",
      "[EPOCH: 3], \tTest Loss: 0.0350, \tTest Accuracy: 23.85 % \n",
      "\n",
      "Train Epoch: 4 [ 0]\tTrain Loss: 1.766271\n",
      "\n",
      "[EPOCH: 4], \tTest Loss: 0.0344, \tTest Accuracy: 28.08 % \n",
      "\n",
      "Train Epoch: 5 [ 0]\tTrain Loss: 1.696184\n",
      "\n",
      "[EPOCH: 5], \tTest Loss: 0.0341, \tTest Accuracy: 28.46 % \n",
      "\n",
      "Train Epoch: 6 [ 0]\tTrain Loss: 1.644004\n",
      "\n",
      "[EPOCH: 6], \tTest Loss: 0.0339, \tTest Accuracy: 28.46 % \n",
      "\n",
      "Train Epoch: 7 [ 0]\tTrain Loss: 1.597457\n",
      "\n",
      "[EPOCH: 7], \tTest Loss: 0.0338, \tTest Accuracy: 28.85 % \n",
      "\n",
      "Train Epoch: 8 [ 0]\tTrain Loss: 1.553417\n",
      "\n",
      "[EPOCH: 8], \tTest Loss: 0.0337, \tTest Accuracy: 31.15 % \n",
      "\n",
      "Train Epoch: 9 [ 0]\tTrain Loss: 1.513896\n",
      "\n",
      "[EPOCH: 9], \tTest Loss: 0.0336, \tTest Accuracy: 31.15 % \n",
      "\n",
      "Train Epoch: 10 [ 0]\tTrain Loss: 1.487973\n",
      "\n",
      "[EPOCH: 10], \tTest Loss: 0.0337, \tTest Accuracy: 31.15 % \n",
      "\n",
      "Train Epoch: 11 [ 0]\tTrain Loss: 1.461227\n",
      "\n",
      "[EPOCH: 11], \tTest Loss: 0.0337, \tTest Accuracy: 30.38 % \n",
      "\n",
      "Train Epoch: 12 [ 0]\tTrain Loss: 1.445085\n",
      "\n",
      "[EPOCH: 12], \tTest Loss: 0.0336, \tTest Accuracy: 30.77 % \n",
      "\n",
      "Train Epoch: 13 [ 0]\tTrain Loss: 1.419471\n",
      "\n",
      "[EPOCH: 13], \tTest Loss: 0.0333, \tTest Accuracy: 33.08 % \n",
      "\n",
      "Train Epoch: 14 [ 0]\tTrain Loss: 1.386719\n",
      "\n",
      "[EPOCH: 14], \tTest Loss: 0.0332, \tTest Accuracy: 32.69 % \n",
      "\n",
      "Train Epoch: 15 [ 0]\tTrain Loss: 1.365128\n",
      "\n",
      "[EPOCH: 15], \tTest Loss: 0.0333, \tTest Accuracy: 31.92 % \n",
      "\n",
      "Train Epoch: 16 [ 0]\tTrain Loss: 1.374523\n",
      "\n",
      "[EPOCH: 16], \tTest Loss: 0.0330, \tTest Accuracy: 33.46 % \n",
      "Train Epoch: 17 [ 0]\tTrain Loss: 1.330232\n",
      "\n",
      "[EPOCH: 17], \tTest Loss: 0.0325, \tTest Accuracy: 33.85 % \n",
      "\n",
      "Train Epoch: 18 [ 0]\tTrain Loss: 1.287212\n",
      "\n",
      "[EPOCH: 18], \tTest Loss: 0.0325, \tTest Accuracy: 35.38 % \n",
      "\n",
      "Train Epoch: 19 [ 0]\tTrain Loss: 1.266535\n",
      "\n",
      "[EPOCH: 19], \tTest Loss: 0.0322, \tTest Accuracy: 36.92 % \n",
      "\n",
      "Train Epoch: 20 [ 0]\tTrain Loss: 1.247583\n",
      "\n",
      "[EPOCH: 20], \tTest Loss: 0.0324, \tTest Accuracy: 38.46 % \n",
      "\n",
      "Train Epoch: 21 [ 0]\tTrain Loss: 1.245618\n",
      "\n",
      "[EPOCH: 21], \tTest Loss: 0.0327, \tTest Accuracy: 37.31 % \n",
      "\n",
      "Train Epoch: 22 [ 0]\tTrain Loss: 1.242839\n",
      "\n",
      "[EPOCH: 22], \tTest Loss: 0.0332, \tTest Accuracy: 36.92 % \n",
      "\n",
      "Train Epoch: 23 [ 0]\tTrain Loss: 1.248581\n",
      "\n",
      "[EPOCH: 23], \tTest Loss: 0.0329, \tTest Accuracy: 37.31 % \n",
      "\n",
      "Train Epoch: 24 [ 0]\tTrain Loss: 1.221279\n",
      "\n",
      "[EPOCH: 24], \tTest Loss: 0.0325, \tTest Accuracy: 39.23 % \n",
      "\n",
      "Train Epoch: 25 [ 0]\tTrain Loss: 1.147977\n",
      "\n",
      "[EPOCH: 25], \tTest Loss: 0.0325, \tTest Accuracy: 38.46 % \n",
      "Train Epoch: 26 [ 0]\tTrain Loss: 1.133547\n",
      "\n",
      "[EPOCH: 26], \tTest Loss: 0.0324, \tTest Accuracy: 37.69 % \n",
      "\n",
      "Train Epoch: 27 [ 0]\tTrain Loss: 1.082723\n",
      "\n",
      "[EPOCH: 27], \tTest Loss: 0.0323, \tTest Accuracy: 37.69 % \n",
      "\n",
      "Train Epoch: 28 [ 0]\tTrain Loss: 1.035033\n",
      "\n",
      "[EPOCH: 28], \tTest Loss: 0.0319, \tTest Accuracy: 37.69 % \n",
      "\n",
      "Train Epoch: 29 [ 0]\tTrain Loss: 1.002212\n",
      "\n",
      "[EPOCH: 29], \tTest Loss: 0.0323, \tTest Accuracy: 38.85 % \n",
      "\n",
      "Train Epoch: 30 [ 0]\tTrain Loss: 0.974042\n",
      "\n",
      "[EPOCH: 30], \tTest Loss: 0.0323, \tTest Accuracy: 38.46 % \n",
      "\n",
      "Train Epoch: 31 [ 0]\tTrain Loss: 0.951531\n",
      "\n",
      "[EPOCH: 31], \tTest Loss: 0.0327, \tTest Accuracy: 37.69 % \n",
      "\n",
      "Train Epoch: 32 [ 0]\tTrain Loss: 0.921339\n",
      "\n",
      "[EPOCH: 32], \tTest Loss: 0.0333, \tTest Accuracy: 36.92 % \n",
      "\n",
      "Train Epoch: 33 [ 0]\tTrain Loss: 0.902923\n",
      "\n",
      "[EPOCH: 33], \tTest Loss: 0.0337, \tTest Accuracy: 37.69 % \n",
      "\n",
      "Train Epoch: 34 [ 0]\tTrain Loss: 0.870018\n",
      "\n",
      "[EPOCH: 34], \tTest Loss: 0.0335, \tTest Accuracy: 36.54 % \n",
      "\n",
      "Train Epoch: 35 [ 0]\tTrain Loss: 0.825680\n",
      "\n",
      "[EPOCH: 35], \tTest Loss: 0.0335, \tTest Accuracy: 38.46 % \n",
      "\n",
      "Train Epoch: 36 [ 0]\tTrain Loss: 0.810960\n",
      "\n",
      "[EPOCH: 36], \tTest Loss: 0.0340, \tTest Accuracy: 37.31 % \n",
      "\n",
      "Train Epoch: 37 [ 0]\tTrain Loss: 0.774092\n",
      "\n",
      "[EPOCH: 37], \tTest Loss: 0.0352, \tTest Accuracy: 38.46 % \n",
      "\n",
      "Train Epoch: 38 [ 0]\tTrain Loss: 0.759308\n",
      "\n",
      "[EPOCH: 38], \tTest Loss: 0.0361, \tTest Accuracy: 36.92 % \n",
      "\n",
      "Train Epoch: 39 [ 0]\tTrain Loss: 0.746895\n",
      "\n",
      "[EPOCH: 39], \tTest Loss: 0.0361, \tTest Accuracy: 36.15 % \n",
      "\n",
      "Train Epoch: 40 [ 0]\tTrain Loss: 0.769070\n",
      "\n",
      "[EPOCH: 40], \tTest Loss: 0.0369, \tTest Accuracy: 35.77 % \n",
      "\n",
      "Train Epoch: 41 [ 0]\tTrain Loss: 0.776672\n",
      "\n",
      "[EPOCH: 41], \tTest Loss: 0.0361, \tTest Accuracy: 38.08 % \n",
      "Train Epoch: 42 [ 0]\tTrain Loss: 0.647048\n",
      "\n",
      "[EPOCH: 42], \tTest Loss: 0.0376, \tTest Accuracy: 36.92 % \n",
      "Train Epoch: 43 [ 0]\tTrain Loss: 0.676590\n",
      "\n",
      "[EPOCH: 43], \tTest Loss: 0.0433, \tTest Accuracy: 35.77 % \n",
      "Train Epoch: 44 [ 0]\tTrain Loss: 0.925527\n",
      "\n",
      "[EPOCH: 44], \tTest Loss: 0.0389, \tTest Accuracy: 36.54 % \n",
      "Train Epoch: 45 [ 0]\tTrain Loss: 0.733408\n",
      "\n",
      "[EPOCH: 45], \tTest Loss: 0.0358, \tTest Accuracy: 36.92 % \n",
      "\n",
      "Train Epoch: 46 [ 0]\tTrain Loss: 0.625757\n",
      "\n",
      "[EPOCH: 46], \tTest Loss: 0.0397, \tTest Accuracy: 38.46 % \n",
      "Train Epoch: 47 [ 0]\tTrain Loss: 0.652751\n",
      "\n",
      "[EPOCH: 47], \tTest Loss: 0.0397, \tTest Accuracy: 39.62 % \n",
      "\n",
      "Train Epoch: 48 [ 0]\tTrain Loss: 0.564386\n",
      "\n",
      "[EPOCH: 48], \tTest Loss: 0.0405, \tTest Accuracy: 37.69 % \n",
      "\n",
      "Train Epoch: 49 [ 0]\tTrain Loss: 0.552228\n",
      "\n",
      "[EPOCH: 49], \tTest Loss: 0.0423, \tTest Accuracy: 37.31 % \n",
      "\n",
      "Train Epoch: 50 [ 0]\tTrain Loss: 0.556667\n",
      "\n",
      "[EPOCH: 50], \tTest Loss: 0.0437, \tTest Accuracy: 36.54 % \n",
      "\n",
      "Train Epoch: 51 [ 0]\tTrain Loss: 0.545214\n",
      "\n",
      "[EPOCH: 51], \tTest Loss: 0.0450, \tTest Accuracy: 36.92 % \n",
      "\n",
      "Train Epoch: 52 [ 0]\tTrain Loss: 0.521791\n",
      "\n",
      "[EPOCH: 52], \tTest Loss: 0.0463, \tTest Accuracy: 36.54 % \n",
      "\n",
      "Train Epoch: 53 [ 0]\tTrain Loss: 0.523013\n",
      "\n",
      "[EPOCH: 53], \tTest Loss: 0.0478, \tTest Accuracy: 37.31 % \n",
      "\n",
      "Train Epoch: 54 [ 0]\tTrain Loss: 0.528818\n",
      "\n",
      "[EPOCH: 54], \tTest Loss: 0.0495, \tTest Accuracy: 37.69 % \n",
      "\n",
      "Train Epoch: 55 [ 0]\tTrain Loss: 0.514755\n",
      "\n",
      "[EPOCH: 55], \tTest Loss: 0.0503, \tTest Accuracy: 38.85 % \n",
      "\n",
      "Train Epoch: 56 [ 0]\tTrain Loss: 0.480402\n",
      "\n",
      "[EPOCH: 56], \tTest Loss: 0.0507, \tTest Accuracy: 37.31 % \n",
      "\n",
      "Train Epoch: 57 [ 0]\tTrain Loss: 0.488254\n",
      "\n",
      "[EPOCH: 57], \tTest Loss: 0.0497, \tTest Accuracy: 35.77 % \n",
      "\n",
      "Train Epoch: 58 [ 0]\tTrain Loss: 0.496129\n",
      "\n",
      "[EPOCH: 58], \tTest Loss: 0.0507, \tTest Accuracy: 35.00 % \n",
      "\n",
      "Train Epoch: 59 [ 0]\tTrain Loss: 0.608507\n",
      "\n",
      "[EPOCH: 59], \tTest Loss: 0.0489, \tTest Accuracy: 36.54 % \n",
      "Train Epoch: 60 [ 0]\tTrain Loss: 0.497237\n",
      "\n",
      "[EPOCH: 60], \tTest Loss: 0.0466, \tTest Accuracy: 37.69 % \n",
      "\n",
      "Train Epoch: 61 [ 0]\tTrain Loss: 0.419820\n",
      "\n",
      "[EPOCH: 61], \tTest Loss: 0.0490, \tTest Accuracy: 34.62 % \n",
      "\n",
      "Train Epoch: 62 [ 0]\tTrain Loss: 0.435130\n",
      "\n",
      "[EPOCH: 62], \tTest Loss: 0.0532, \tTest Accuracy: 32.69 % \n",
      "\n",
      "Train Epoch: 63 [ 0]\tTrain Loss: 0.485347\n",
      "\n",
      "[EPOCH: 63], \tTest Loss: 0.0559, \tTest Accuracy: 33.85 % \n",
      "\n",
      "Train Epoch: 64 [ 0]\tTrain Loss: 0.469398\n",
      "\n",
      "[EPOCH: 64], \tTest Loss: 0.0555, \tTest Accuracy: 36.15 % \n",
      "\n",
      "Train Epoch: 65 [ 0]\tTrain Loss: 0.483308\n",
      "\n",
      "[EPOCH: 65], \tTest Loss: 0.0564, \tTest Accuracy: 34.62 % \n",
      "\n",
      "Train Epoch: 66 [ 0]\tTrain Loss: 0.419632\n",
      "\n",
      "[EPOCH: 66], \tTest Loss: 0.0530, \tTest Accuracy: 35.00 % \n",
      "\n",
      "Train Epoch: 67 [ 0]\tTrain Loss: 0.356967\n",
      "\n",
      "[EPOCH: 67], \tTest Loss: 0.0493, \tTest Accuracy: 38.46 % \n",
      "\n",
      "Train Epoch: 68 [ 0]\tTrain Loss: 0.379595\n",
      "\n",
      "[EPOCH: 68], \tTest Loss: 0.0506, \tTest Accuracy: 40.77 % \n",
      "\n",
      "Train Epoch: 69 [ 0]\tTrain Loss: 0.397315\n",
      "\n",
      "[EPOCH: 69], \tTest Loss: 0.0507, \tTest Accuracy: 36.92 % \n",
      "Train Epoch: 70 [ 0]\tTrain Loss: 0.346420\n",
      "\n",
      "[EPOCH: 70], \tTest Loss: 0.0537, \tTest Accuracy: 36.92 % \n",
      "\n",
      "Train Epoch: 71 [ 0]\tTrain Loss: 0.383494\n",
      "\n",
      "[EPOCH: 71], \tTest Loss: 0.0504, \tTest Accuracy: 36.54 % \n",
      "\n",
      "Train Epoch: 72 [ 0]\tTrain Loss: 0.297806\n",
      "\n",
      "[EPOCH: 72], \tTest Loss: 0.0511, \tTest Accuracy: 40.38 % \n",
      "\n",
      "Train Epoch: 73 [ 0]\tTrain Loss: 0.282755\n",
      "\n",
      "[EPOCH: 73], \tTest Loss: 0.0564, \tTest Accuracy: 35.77 % \n",
      "Train Epoch: 74 [ 0]\tTrain Loss: 0.334698\n",
      "\n",
      "[EPOCH: 74], \tTest Loss: 0.0575, \tTest Accuracy: 35.00 % \n",
      "\n",
      "Train Epoch: 75 [ 0]\tTrain Loss: 0.297351\n",
      "\n",
      "[EPOCH: 75], \tTest Loss: 0.0576, \tTest Accuracy: 36.15 % \n",
      "Train Epoch: 76 [ 0]\tTrain Loss: 0.265261\n",
      "\n",
      "[EPOCH: 76], \tTest Loss: 0.0604, \tTest Accuracy: 35.38 % \n",
      "Train Epoch: 77 [ 0]\tTrain Loss: 0.280594\n",
      "\n",
      "[EPOCH: 77], \tTest Loss: 0.0622, \tTest Accuracy: 33.85 % \n",
      "\n",
      "Train Epoch: 78 [ 0]\tTrain Loss: 0.273029\n",
      "\n",
      "[EPOCH: 78], \tTest Loss: 0.0636, \tTest Accuracy: 33.46 % \n",
      "\n",
      "Train Epoch: 79 [ 0]\tTrain Loss: 0.288507\n",
      "\n",
      "[EPOCH: 79], \tTest Loss: 0.0603, \tTest Accuracy: 37.31 % \n",
      "\n",
      "Train Epoch: 80 [ 0]\tTrain Loss: 0.242957\n",
      "\n",
      "[EPOCH: 80], \tTest Loss: 0.0597, \tTest Accuracy: 40.38 % \n",
      "\n",
      "Train Epoch: 81 [ 0]\tTrain Loss: 0.312297\n",
      "\n",
      "[EPOCH: 81], \tTest Loss: 0.0551, \tTest Accuracy: 36.54 % \n",
      "Train Epoch: 82 [ 0]\tTrain Loss: 0.219718\n",
      "\n",
      "[EPOCH: 82], \tTest Loss: 0.0546, \tTest Accuracy: 32.69 % \n",
      "\n",
      "Train Epoch: 83 [ 0]\tTrain Loss: 0.375733\n",
      "\n",
      "[EPOCH: 83], \tTest Loss: 0.0523, \tTest Accuracy: 38.85 % \n",
      "\n",
      "Train Epoch: 84 [ 0]\tTrain Loss: 0.251273\n",
      "\n",
      "[EPOCH: 84], \tTest Loss: 0.0572, \tTest Accuracy: 40.00 % \n",
      "\n",
      "Train Epoch: 85 [ 0]\tTrain Loss: 0.171290\n",
      "\n",
      "[EPOCH: 85], \tTest Loss: 0.0582, \tTest Accuracy: 38.08 % \n",
      "\n",
      "Train Epoch: 86 [ 0]\tTrain Loss: 0.137319\n",
      "\n",
      "[EPOCH: 86], \tTest Loss: 0.0599, \tTest Accuracy: 38.46 % \n",
      "\n",
      "Train Epoch: 87 [ 0]\tTrain Loss: 0.127116\n",
      "\n",
      "[EPOCH: 87], \tTest Loss: 0.0627, \tTest Accuracy: 38.08 % \n",
      "\n",
      "Train Epoch: 88 [ 0]\tTrain Loss: 0.127574\n",
      "\n",
      "[EPOCH: 88], \tTest Loss: 0.0629, \tTest Accuracy: 37.69 % \n",
      "Train Epoch: 89 [ 0]\tTrain Loss: 0.105466\n",
      "\n",
      "[EPOCH: 89], \tTest Loss: 0.0658, \tTest Accuracy: 37.31 % \n",
      "\n",
      "Train Epoch: 90 [ 0]\tTrain Loss: 0.108967\n",
      "\n",
      "[EPOCH: 90], \tTest Loss: 0.0664, \tTest Accuracy: 38.08 % \n",
      "\n",
      "Train Epoch: 91 [ 0]\tTrain Loss: 0.091710\n",
      "\n",
      "[EPOCH: 91], \tTest Loss: 0.0683, \tTest Accuracy: 38.85 % \n",
      "Train Epoch: 92 [ 0]\tTrain Loss: 0.091458\n",
      "\n",
      "[EPOCH: 92], \tTest Loss: 0.0697, \tTest Accuracy: 38.08 % \n",
      "\n",
      "Train Epoch: 93 [ 0]\tTrain Loss: 0.084899\n",
      "\n",
      "[EPOCH: 93], \tTest Loss: 0.0706, \tTest Accuracy: 38.85 % \n",
      "\n",
      "Train Epoch: 94 [ 0]\tTrain Loss: 0.079587\n",
      "\n",
      "[EPOCH: 94], \tTest Loss: 0.0719, \tTest Accuracy: 39.62 % \n",
      "Train Epoch: 95 [ 0]\tTrain Loss: 0.075436\n",
      "\n",
      "[EPOCH: 95], \tTest Loss: 0.0733, \tTest Accuracy: 37.69 % \n",
      "Train Epoch: 96 [ 0]\tTrain Loss: 0.075939\n",
      "\n",
      "[EPOCH: 96], \tTest Loss: 0.0749, \tTest Accuracy: 37.69 % \n",
      "Train Epoch: 97 [ 0]\tTrain Loss: 0.070734\n",
      "\n",
      "[EPOCH: 97], \tTest Loss: 0.0754, \tTest Accuracy: 38.08 % \n",
      "Train Epoch: 98 [ 0]\tTrain Loss: 0.064406\n",
      "\n",
      "[EPOCH: 98], \tTest Loss: 0.0770, \tTest Accuracy: 37.31 % \n",
      "\n",
      "Train Epoch: 99 [ 0]\tTrain Loss: 0.067780\n",
      "\n",
      "[EPOCH: 99], \tTest Loss: 0.0790, \tTest Accuracy: 37.69 % \n",
      "\n",
      "Train Epoch: 100 [ 0]\tTrain Loss: 0.069701\n",
      "\n",
      "[EPOCH: 100], \tTest Loss: 0.0812, \tTest Accuracy: 37.69 % \n",
      "Train Epoch: 101 [ 0]\tTrain Loss: 0.075704\n",
      "\n",
      "[EPOCH: 101], \tTest Loss: 0.0825, \tTest Accuracy: 37.31 % \n",
      "Train Epoch: 102 [ 0]\tTrain Loss: 0.065535\n",
      "\n",
      "[EPOCH: 102], \tTest Loss: 0.0817, \tTest Accuracy: 36.92 % \n",
      "Train Epoch: 103 [ 0]\tTrain Loss: 0.056477\n",
      "\n",
      "[EPOCH: 103], \tTest Loss: 0.0873, \tTest Accuracy: 37.31 % \n",
      "\n",
      "Train Epoch: 104 [ 0]\tTrain Loss: 0.106204\n",
      "\n",
      "[EPOCH: 104], \tTest Loss: 0.0876, \tTest Accuracy: 37.69 % \n",
      "\n",
      "Train Epoch: 105 [ 0]\tTrain Loss: 0.069594\n",
      "\n",
      "[EPOCH: 105], \tTest Loss: 0.0916, \tTest Accuracy: 36.54 % \n",
      "\n",
      "Train Epoch: 106 [ 0]\tTrain Loss: 0.128802\n",
      "\n",
      "[EPOCH: 106], \tTest Loss: 0.0991, \tTest Accuracy: 33.85 % \n",
      "\n",
      "Train Epoch: 107 [ 0]\tTrain Loss: 0.320220\n",
      "\n",
      "[EPOCH: 107], \tTest Loss: 0.0928, \tTest Accuracy: 35.38 % \n",
      "\n",
      "Train Epoch: 108 [ 0]\tTrain Loss: 0.147258\n",
      "\n",
      "[EPOCH: 108], \tTest Loss: 0.0901, \tTest Accuracy: 34.62 % \n",
      "\n",
      "Train Epoch: 109 [ 0]\tTrain Loss: 0.099834\n",
      "\n",
      "[EPOCH: 109], \tTest Loss: 0.0803, \tTest Accuracy: 37.69 % \n",
      "\n",
      "Train Epoch: 110 [ 0]\tTrain Loss: 0.115320\n",
      "\n",
      "[EPOCH: 110], \tTest Loss: 0.0942, \tTest Accuracy: 37.69 % \n",
      "\n",
      "Train Epoch: 111 [ 0]\tTrain Loss: 0.240881\n",
      "\n",
      "[EPOCH: 111], \tTest Loss: 0.0834, \tTest Accuracy: 37.31 % \n",
      "\n",
      "Train Epoch: 112 [ 0]\tTrain Loss: 0.069750\n",
      "\n",
      "[EPOCH: 112], \tTest Loss: 0.0856, \tTest Accuracy: 37.31 % \n",
      "\n",
      "Train Epoch: 113 [ 0]\tTrain Loss: 0.058175\n",
      "\n",
      "[EPOCH: 113], \tTest Loss: 0.0877, \tTest Accuracy: 35.77 % \n",
      "\n",
      "Train Epoch: 114 [ 0]\tTrain Loss: 0.111128\n",
      "\n",
      "[EPOCH: 114], \tTest Loss: 0.0892, \tTest Accuracy: 37.69 % \n",
      "\n",
      "Train Epoch: 115 [ 0]\tTrain Loss: 0.061295\n",
      "\n",
      "[EPOCH: 115], \tTest Loss: 0.0906, \tTest Accuracy: 37.69 % \n",
      "\n",
      "Train Epoch: 116 [ 0]\tTrain Loss: 0.075431\n",
      "\n",
      "[EPOCH: 116], \tTest Loss: 0.0850, \tTest Accuracy: 36.15 % \n",
      "\n",
      "Train Epoch: 117 [ 0]\tTrain Loss: 0.067799\n",
      "\n",
      "[EPOCH: 117], \tTest Loss: 0.0840, \tTest Accuracy: 35.77 % \n",
      "\n",
      "Train Epoch: 118 [ 0]\tTrain Loss: 0.136472\n",
      "\n",
      "[EPOCH: 118], \tTest Loss: 0.0791, \tTest Accuracy: 34.62 % \n",
      "\n",
      "Train Epoch: 119 [ 0]\tTrain Loss: 0.250175\n",
      "\n",
      "[EPOCH: 119], \tTest Loss: 0.0773, \tTest Accuracy: 33.46 % \n",
      "\n",
      "Train Epoch: 120 [ 0]\tTrain Loss: 0.283193\n",
      "\n",
      "[EPOCH: 120], \tTest Loss: 0.0835, \tTest Accuracy: 33.85 % \n",
      "\n",
      "Train Epoch: 121 [ 0]\tTrain Loss: 0.195615\n",
      "\n",
      "[EPOCH: 121], \tTest Loss: 0.0799, \tTest Accuracy: 37.31 % \n",
      "\n",
      "Train Epoch: 122 [ 0]\tTrain Loss: 0.085337\n",
      "\n",
      "[EPOCH: 122], \tTest Loss: 0.0789, \tTest Accuracy: 33.85 % \n",
      "\n",
      "Train Epoch: 123 [ 0]\tTrain Loss: 0.073599\n",
      "\n",
      "[EPOCH: 123], \tTest Loss: 0.0833, \tTest Accuracy: 35.00 % \n",
      "\n",
      "Train Epoch: 124 [ 0]\tTrain Loss: 0.233315\n",
      "\n",
      "[EPOCH: 124], \tTest Loss: 0.0838, \tTest Accuracy: 35.38 % \n",
      "\n",
      "Train Epoch: 125 [ 0]\tTrain Loss: 0.178067\n",
      "\n",
      "[EPOCH: 125], \tTest Loss: 0.0829, \tTest Accuracy: 35.77 % \n",
      "\n",
      "Train Epoch: 126 [ 0]\tTrain Loss: 0.173092\n",
      "\n",
      "[EPOCH: 126], \tTest Loss: 0.0824, \tTest Accuracy: 33.46 % \n",
      "\n",
      "Train Epoch: 127 [ 0]\tTrain Loss: 0.099799\n",
      "\n",
      "[EPOCH: 127], \tTest Loss: 0.0848, \tTest Accuracy: 36.92 % \n",
      "\n",
      "Train Epoch: 128 [ 0]\tTrain Loss: 0.106126\n",
      "\n",
      "[EPOCH: 128], \tTest Loss: 0.0865, \tTest Accuracy: 36.15 % \n",
      "\n",
      "Train Epoch: 129 [ 0]\tTrain Loss: 0.069804\n",
      "\n",
      "[EPOCH: 129], \tTest Loss: 0.0817, \tTest Accuracy: 37.31 % \n",
      "\n",
      "Train Epoch: 130 [ 0]\tTrain Loss: 0.038697\n",
      "\n",
      "[EPOCH: 130], \tTest Loss: 0.0830, \tTest Accuracy: 38.08 % \n",
      "\n",
      "Train Epoch: 131 [ 0]\tTrain Loss: 0.044947\n",
      "\n",
      "[EPOCH: 131], \tTest Loss: 0.0826, \tTest Accuracy: 37.69 % \n",
      "\n",
      "Train Epoch: 132 [ 0]\tTrain Loss: 0.036722\n",
      "\n",
      "[EPOCH: 132], \tTest Loss: 0.0865, \tTest Accuracy: 36.92 % \n",
      "\n",
      "Train Epoch: 133 [ 0]\tTrain Loss: 0.074627\n",
      "\n",
      "[EPOCH: 133], \tTest Loss: 0.0903, \tTest Accuracy: 37.31 % \n",
      "\n",
      "Train Epoch: 134 [ 0]\tTrain Loss: 0.181376\n",
      "\n",
      "[EPOCH: 134], \tTest Loss: 0.0868, \tTest Accuracy: 36.92 % \n",
      "\n",
      "Train Epoch: 135 [ 0]\tTrain Loss: 0.073546\n",
      "\n",
      "[EPOCH: 135], \tTest Loss: 0.0871, \tTest Accuracy: 36.92 % \n",
      "\n",
      "Train Epoch: 136 [ 0]\tTrain Loss: 0.070403\n",
      "\n",
      "[EPOCH: 136], \tTest Loss: 0.0898, \tTest Accuracy: 37.31 % \n",
      "\n",
      "Train Epoch: 137 [ 0]\tTrain Loss: 0.033615\n",
      "\n",
      "[EPOCH: 137], \tTest Loss: 0.0960, \tTest Accuracy: 36.15 % \n",
      "\n",
      "Train Epoch: 138 [ 0]\tTrain Loss: 0.072931\n",
      "\n",
      "[EPOCH: 138], \tTest Loss: 0.0941, \tTest Accuracy: 36.15 % \n",
      "\n",
      "Train Epoch: 139 [ 0]\tTrain Loss: 0.044030\n",
      "\n",
      "[EPOCH: 139], \tTest Loss: 0.0966, \tTest Accuracy: 35.38 % \n",
      "\n",
      "Train Epoch: 140 [ 0]\tTrain Loss: 0.064151\n",
      "\n",
      "[EPOCH: 140], \tTest Loss: 0.0958, \tTest Accuracy: 36.15 % \n",
      "\n",
      "Train Epoch: 141 [ 0]\tTrain Loss: 0.034639\n",
      "\n",
      "[EPOCH: 141], \tTest Loss: 0.0991, \tTest Accuracy: 35.38 % \n",
      "\n",
      "Train Epoch: 142 [ 0]\tTrain Loss: 0.028852\n",
      "\n",
      "[EPOCH: 142], \tTest Loss: 0.1014, \tTest Accuracy: 34.62 % \n",
      "\n",
      "Train Epoch: 143 [ 0]\tTrain Loss: 0.028493\n",
      "\n",
      "[EPOCH: 143], \tTest Loss: 0.1003, \tTest Accuracy: 36.15 % \n",
      "\n",
      "Train Epoch: 144 [ 0]\tTrain Loss: 0.018503\n",
      "\n",
      "[EPOCH: 144], \tTest Loss: 0.1026, \tTest Accuracy: 34.62 % \n",
      "\n",
      "Train Epoch: 145 [ 0]\tTrain Loss: 0.039847\n",
      "\n",
      "[EPOCH: 145], \tTest Loss: 0.0958, \tTest Accuracy: 36.54 % \n",
      "\n",
      "Train Epoch: 146 [ 0]\tTrain Loss: 0.017534\n",
      "\n",
      "[EPOCH: 146], \tTest Loss: 0.0964, \tTest Accuracy: 36.54 % \n",
      "\n",
      "Train Epoch: 147 [ 0]\tTrain Loss: 0.060338\n",
      "\n",
      "[EPOCH: 147], \tTest Loss: 0.0937, \tTest Accuracy: 36.54 % \n",
      "\n",
      "Train Epoch: 148 [ 0]\tTrain Loss: 0.016965\n",
      "\n",
      "[EPOCH: 148], \tTest Loss: 0.0949, \tTest Accuracy: 37.31 % \n",
      "\n",
      "Train Epoch: 149 [ 0]\tTrain Loss: 0.014429\n",
      "\n",
      "[EPOCH: 149], \tTest Loss: 0.0971, \tTest Accuracy: 36.54 % \n",
      "\n",
      "Train Epoch: 150 [ 0]\tTrain Loss: 0.030682\n",
      "\n",
      "[EPOCH: 150], \tTest Loss: 0.0977, \tTest Accuracy: 35.77 % \n",
      "\n",
      "Train Epoch: 151 [ 0]\tTrain Loss: 0.090342\n",
      "\n",
      "[EPOCH: 151], \tTest Loss: 0.1016, \tTest Accuracy: 35.38 % \n",
      "\n",
      "Train Epoch: 152 [ 0]\tTrain Loss: 0.101702\n",
      "\n",
      "[EPOCH: 152], \tTest Loss: 0.1059, \tTest Accuracy: 33.85 % \n",
      "\n",
      "Train Epoch: 153 [ 0]\tTrain Loss: 0.196140\n",
      "\n",
      "[EPOCH: 153], \tTest Loss: 0.1069, \tTest Accuracy: 35.00 % \n",
      "\n",
      "Train Epoch: 154 [ 0]\tTrain Loss: 0.132214\n",
      "\n",
      "[EPOCH: 154], \tTest Loss: 0.1061, \tTest Accuracy: 35.38 % \n",
      "\n",
      "Train Epoch: 155 [ 0]\tTrain Loss: 0.089189\n",
      "\n",
      "[EPOCH: 155], \tTest Loss: 0.1052, \tTest Accuracy: 34.62 % \n",
      "\n",
      "Train Epoch: 156 [ 0]\tTrain Loss: 0.057523\n",
      "\n",
      "[EPOCH: 156], \tTest Loss: 0.1040, \tTest Accuracy: 35.00 % \n",
      "\n",
      "Train Epoch: 157 [ 0]\tTrain Loss: 0.030550\n",
      "\n",
      "[EPOCH: 157], \tTest Loss: 0.1011, \tTest Accuracy: 35.38 % \n",
      "\n",
      "Train Epoch: 158 [ 0]\tTrain Loss: 0.014813\n",
      "\n",
      "[EPOCH: 158], \tTest Loss: 0.0993, \tTest Accuracy: 36.54 % \n",
      "\n",
      "Train Epoch: 159 [ 0]\tTrain Loss: 0.022642\n",
      "\n",
      "[EPOCH: 159], \tTest Loss: 0.1000, \tTest Accuracy: 38.85 % \n",
      "\n",
      "Train Epoch: 160 [ 0]\tTrain Loss: 0.020173\n",
      "\n",
      "[EPOCH: 160], \tTest Loss: 0.1016, \tTest Accuracy: 36.15 % \n",
      "\n",
      "Train Epoch: 161 [ 0]\tTrain Loss: 0.009744\n",
      "\n",
      "[EPOCH: 161], \tTest Loss: 0.1025, \tTest Accuracy: 36.15 % \n",
      "\n",
      "Train Epoch: 162 [ 0]\tTrain Loss: 0.007671\n",
      "\n",
      "[EPOCH: 162], \tTest Loss: 0.1032, \tTest Accuracy: 36.15 % \n",
      "\n",
      "Train Epoch: 163 [ 0]\tTrain Loss: 0.007179\n",
      "\n",
      "[EPOCH: 163], \tTest Loss: 0.1040, \tTest Accuracy: 36.15 % \n",
      "\n",
      "Train Epoch: 164 [ 0]\tTrain Loss: 0.006638\n",
      "\n",
      "[EPOCH: 164], \tTest Loss: 0.1047, \tTest Accuracy: 36.54 % \n",
      "\n",
      "Train Epoch: 165 [ 0]\tTrain Loss: 0.006272\n",
      "\n",
      "[EPOCH: 165], \tTest Loss: 0.1053, \tTest Accuracy: 36.54 % \n",
      "\n",
      "Train Epoch: 166 [ 0]\tTrain Loss: 0.005955\n",
      "\n",
      "[EPOCH: 166], \tTest Loss: 0.1059, \tTest Accuracy: 36.54 % \n",
      "\n",
      "Train Epoch: 167 [ 0]\tTrain Loss: 0.005637\n",
      "\n",
      "[EPOCH: 167], \tTest Loss: 0.1065, \tTest Accuracy: 36.54 % \n",
      "\n",
      "Train Epoch: 168 [ 0]\tTrain Loss: 0.005391\n",
      "\n",
      "[EPOCH: 168], \tTest Loss: 0.1070, \tTest Accuracy: 36.54 % \n",
      "\n",
      "Train Epoch: 169 [ 0]\tTrain Loss: 0.005142\n",
      "\n",
      "[EPOCH: 169], \tTest Loss: 0.1075, \tTest Accuracy: 36.54 % \n",
      "\n",
      "Train Epoch: 170 [ 0]\tTrain Loss: 0.004935\n",
      "\n",
      "[EPOCH: 170], \tTest Loss: 0.1080, \tTest Accuracy: 36.54 % \n",
      "\n",
      "Train Epoch: 171 [ 0]\tTrain Loss: 0.004752\n",
      "\n",
      "[EPOCH: 171], \tTest Loss: 0.1084, \tTest Accuracy: 36.54 % \n",
      "\n",
      "Train Epoch: 172 [ 0]\tTrain Loss: 0.004563\n",
      "\n",
      "[EPOCH: 172], \tTest Loss: 0.1089, \tTest Accuracy: 36.54 % \n",
      "\n",
      "Train Epoch: 173 [ 0]\tTrain Loss: 0.004396\n",
      "\n",
      "[EPOCH: 173], \tTest Loss: 0.1093, \tTest Accuracy: 36.15 % \n",
      "\n",
      "Train Epoch: 174 [ 0]\tTrain Loss: 0.004225\n",
      "\n",
      "[EPOCH: 174], \tTest Loss: 0.1097, \tTest Accuracy: 36.15 % \n",
      "\n",
      "Train Epoch: 175 [ 0]\tTrain Loss: 0.004084\n",
      "\n",
      "[EPOCH: 175], \tTest Loss: 0.1101, \tTest Accuracy: 36.15 % \n",
      "\n",
      "Train Epoch: 176 [ 0]\tTrain Loss: 0.003952\n",
      "\n",
      "[EPOCH: 176], \tTest Loss: 0.1106, \tTest Accuracy: 36.15 % \n",
      "\n",
      "Train Epoch: 177 [ 0]\tTrain Loss: 0.003800\n",
      "\n",
      "[EPOCH: 177], \tTest Loss: 0.1110, \tTest Accuracy: 36.15 % \n",
      "\n",
      "Train Epoch: 178 [ 0]\tTrain Loss: 0.003685\n",
      "\n",
      "[EPOCH: 178], \tTest Loss: 0.1114, \tTest Accuracy: 36.15 % \n",
      "\n",
      "Train Epoch: 179 [ 0]\tTrain Loss: 0.003580\n",
      "\n",
      "[EPOCH: 179], \tTest Loss: 0.1118, \tTest Accuracy: 36.15 % \n",
      "\n",
      "Train Epoch: 180 [ 0]\tTrain Loss: 0.003481\n",
      "\n",
      "[EPOCH: 180], \tTest Loss: 0.1122, \tTest Accuracy: 36.15 % \n",
      "\n",
      "Train Epoch: 181 [ 0]\tTrain Loss: 0.003371\n",
      "\n",
      "[EPOCH: 181], \tTest Loss: 0.1125, \tTest Accuracy: 36.54 % \n",
      "\n",
      "Train Epoch: 182 [ 0]\tTrain Loss: 0.003281\n",
      "\n",
      "[EPOCH: 182], \tTest Loss: 0.1129, \tTest Accuracy: 36.54 % \n",
      "\n",
      "Train Epoch: 183 [ 0]\tTrain Loss: 0.003181\n",
      "\n",
      "[EPOCH: 183], \tTest Loss: 0.1133, \tTest Accuracy: 36.54 % \n",
      "\n",
      "Train Epoch: 184 [ 0]\tTrain Loss: 0.003093\n",
      "\n",
      "[EPOCH: 184], \tTest Loss: 0.1137, \tTest Accuracy: 36.54 % \n",
      "\n",
      "Train Epoch: 185 [ 0]\tTrain Loss: 0.003034\n",
      "\n",
      "[EPOCH: 185], \tTest Loss: 0.1141, \tTest Accuracy: 36.54 % \n",
      "\n",
      "Train Epoch: 186 [ 0]\tTrain Loss: 0.002940\n",
      "\n",
      "[EPOCH: 186], \tTest Loss: 0.1144, \tTest Accuracy: 36.54 % \n",
      "\n",
      "Train Epoch: 187 [ 0]\tTrain Loss: 0.002856\n",
      "\n",
      "[EPOCH: 187], \tTest Loss: 0.1148, \tTest Accuracy: 36.92 % \n",
      "\n",
      "Train Epoch: 188 [ 0]\tTrain Loss: 0.002794\n",
      "\n",
      "[EPOCH: 188], \tTest Loss: 0.1151, \tTest Accuracy: 36.92 % \n",
      "\n",
      "Train Epoch: 189 [ 0]\tTrain Loss: 0.002720\n",
      "\n",
      "[EPOCH: 189], \tTest Loss: 0.1155, \tTest Accuracy: 36.92 % \n",
      "\n",
      "Train Epoch: 190 [ 0]\tTrain Loss: 0.002664\n",
      "\n",
      "[EPOCH: 190], \tTest Loss: 0.1159, \tTest Accuracy: 36.92 % \n",
      "\n",
      "Train Epoch: 191 [ 0]\tTrain Loss: 0.002582\n",
      "\n",
      "[EPOCH: 191], \tTest Loss: 0.1161, \tTest Accuracy: 36.92 % \n",
      "\n",
      "Train Epoch: 192 [ 0]\tTrain Loss: 0.002521\n",
      "\n",
      "[EPOCH: 192], \tTest Loss: 0.1165, \tTest Accuracy: 36.92 % \n",
      "\n",
      "Train Epoch: 193 [ 0]\tTrain Loss: 0.002458\n",
      "\n",
      "[EPOCH: 193], \tTest Loss: 0.1169, \tTest Accuracy: 36.92 % \n",
      "\n",
      "Train Epoch: 194 [ 0]\tTrain Loss: 0.002400\n",
      "\n",
      "[EPOCH: 194], \tTest Loss: 0.1172, \tTest Accuracy: 36.92 % \n",
      "\n",
      "Train Epoch: 195 [ 0]\tTrain Loss: 0.002353\n",
      "\n",
      "[EPOCH: 195], \tTest Loss: 0.1175, \tTest Accuracy: 36.92 % \n",
      "\n",
      "Train Epoch: 196 [ 0]\tTrain Loss: 0.002291\n",
      "\n",
      "[EPOCH: 196], \tTest Loss: 0.1179, \tTest Accuracy: 36.92 % \n",
      "\n",
      "Train Epoch: 197 [ 0]\tTrain Loss: 0.002237\n",
      "\n",
      "[EPOCH: 197], \tTest Loss: 0.1182, \tTest Accuracy: 36.92 % \n",
      "\n",
      "Train Epoch: 198 [ 0]\tTrain Loss: 0.002190\n",
      "\n",
      "[EPOCH: 198], \tTest Loss: 0.1185, \tTest Accuracy: 37.31 % \n",
      "\n",
      "Train Epoch: 199 [ 0]\tTrain Loss: 0.002133\n",
      "\n",
      "[EPOCH: 199], \tTest Loss: 0.1188, \tTest Accuracy: 37.31 % \n",
      "\n",
      "Train Epoch: 200 [ 0]\tTrain Loss: 0.002087\n",
      "\n",
      "[EPOCH: 200], \tTest Loss: 0.1191, \tTest Accuracy: 37.31 % \n",
      "\n",
      "Train Epoch: 201 [ 0]\tTrain Loss: 0.002041\n",
      "\n",
      "[EPOCH: 201], \tTest Loss: 0.1194, \tTest Accuracy: 37.31 % \n",
      "\n",
      "Train Epoch: 202 [ 0]\tTrain Loss: 0.002003\n",
      "\n",
      "[EPOCH: 202], \tTest Loss: 0.1197, \tTest Accuracy: 37.31 % \n",
      "\n",
      "Train Epoch: 203 [ 0]\tTrain Loss: 0.001955\n",
      "\n",
      "[EPOCH: 203], \tTest Loss: 0.1200, \tTest Accuracy: 37.31 % \n",
      "\n",
      "Train Epoch: 204 [ 0]\tTrain Loss: 0.001915\n",
      "\n",
      "[EPOCH: 204], \tTest Loss: 0.1203, \tTest Accuracy: 37.31 % \n",
      "\n",
      "Train Epoch: 205 [ 0]\tTrain Loss: 0.001871\n",
      "\n",
      "[EPOCH: 205], \tTest Loss: 0.1207, \tTest Accuracy: 37.31 % \n",
      "\n",
      "Train Epoch: 206 [ 0]\tTrain Loss: 0.001837\n",
      "\n",
      "[EPOCH: 206], \tTest Loss: 0.1209, \tTest Accuracy: 37.31 % \n",
      "\n",
      "Train Epoch: 207 [ 0]\tTrain Loss: 0.001796\n",
      "\n",
      "[EPOCH: 207], \tTest Loss: 0.1212, \tTest Accuracy: 37.31 % \n",
      "\n",
      "Train Epoch: 208 [ 0]\tTrain Loss: 0.001762\n",
      "\n",
      "[EPOCH: 208], \tTest Loss: 0.1215, \tTest Accuracy: 37.31 % \n",
      "\n",
      "Train Epoch: 209 [ 0]\tTrain Loss: 0.001721\n",
      "\n",
      "[EPOCH: 209], \tTest Loss: 0.1218, \tTest Accuracy: 37.31 % \n",
      "\n",
      "Train Epoch: 210 [ 0]\tTrain Loss: 0.001697\n",
      "\n",
      "[EPOCH: 210], \tTest Loss: 0.1221, \tTest Accuracy: 37.31 % \n",
      "\n",
      "Train Epoch: 211 [ 0]\tTrain Loss: 0.001660\n",
      "\n",
      "[EPOCH: 211], \tTest Loss: 0.1224, \tTest Accuracy: 37.31 % \n",
      "\n",
      "Train Epoch: 212 [ 0]\tTrain Loss: 0.001631\n",
      "\n",
      "[EPOCH: 212], \tTest Loss: 0.1227, \tTest Accuracy: 37.31 % \n",
      "\n",
      "Train Epoch: 213 [ 0]\tTrain Loss: 0.001602\n",
      "\n",
      "[EPOCH: 213], \tTest Loss: 0.1229, \tTest Accuracy: 37.31 % \n",
      "\n",
      "Train Epoch: 214 [ 0]\tTrain Loss: 0.001568\n",
      "\n",
      "[EPOCH: 214], \tTest Loss: 0.1232, \tTest Accuracy: 37.31 % \n",
      "\n",
      "Train Epoch: 215 [ 0]\tTrain Loss: 0.001546\n",
      "\n",
      "[EPOCH: 215], \tTest Loss: 0.1235, \tTest Accuracy: 36.92 % \n",
      "\n",
      "Train Epoch: 216 [ 0]\tTrain Loss: 0.001513\n",
      "\n",
      "[EPOCH: 216], \tTest Loss: 0.1238, \tTest Accuracy: 37.31 % \n",
      "\n",
      "Train Epoch: 217 [ 0]\tTrain Loss: 0.001484\n",
      "\n",
      "[EPOCH: 217], \tTest Loss: 0.1240, \tTest Accuracy: 36.92 % \n",
      "\n",
      "Train Epoch: 218 [ 0]\tTrain Loss: 0.001464\n",
      "\n",
      "[EPOCH: 218], \tTest Loss: 0.1243, \tTest Accuracy: 36.92 % \n",
      "\n",
      "Train Epoch: 219 [ 0]\tTrain Loss: 0.001436\n",
      "\n",
      "[EPOCH: 219], \tTest Loss: 0.1246, \tTest Accuracy: 37.31 % \n",
      "\n",
      "Train Epoch: 220 [ 0]\tTrain Loss: 0.001416\n",
      "\n",
      "[EPOCH: 220], \tTest Loss: 0.1248, \tTest Accuracy: 36.92 % \n",
      "\n",
      "Train Epoch: 221 [ 0]\tTrain Loss: 0.001387\n",
      "\n",
      "[EPOCH: 221], \tTest Loss: 0.1251, \tTest Accuracy: 36.92 % \n",
      "\n",
      "Train Epoch: 222 [ 0]\tTrain Loss: 0.001366\n",
      "\n",
      "[EPOCH: 222], \tTest Loss: 0.1254, \tTest Accuracy: 36.92 % \n",
      "\n",
      "Train Epoch: 223 [ 0]\tTrain Loss: 0.001342\n",
      "\n",
      "[EPOCH: 223], \tTest Loss: 0.1256, \tTest Accuracy: 36.92 % \n",
      "\n",
      "Train Epoch: 224 [ 0]\tTrain Loss: 0.001320\n",
      "\n",
      "[EPOCH: 224], \tTest Loss: 0.1259, \tTest Accuracy: 36.92 % \n",
      "\n",
      "Train Epoch: 225 [ 0]\tTrain Loss: 0.001295\n",
      "\n",
      "[EPOCH: 225], \tTest Loss: 0.1261, \tTest Accuracy: 36.92 % \n",
      "\n",
      "Train Epoch: 226 [ 0]\tTrain Loss: 0.001279\n",
      "\n",
      "[EPOCH: 226], \tTest Loss: 0.1264, \tTest Accuracy: 36.92 % \n",
      "\n",
      "Train Epoch: 227 [ 0]\tTrain Loss: 0.001259\n",
      "\n",
      "[EPOCH: 227], \tTest Loss: 0.1266, \tTest Accuracy: 36.92 % \n",
      "\n",
      "Train Epoch: 228 [ 0]\tTrain Loss: 0.001238\n",
      "\n",
      "[EPOCH: 228], \tTest Loss: 0.1269, \tTest Accuracy: 36.92 % \n",
      "\n",
      "Train Epoch: 229 [ 0]\tTrain Loss: 0.001217\n",
      "\n",
      "[EPOCH: 229], \tTest Loss: 0.1271, \tTest Accuracy: 36.92 % \n",
      "\n",
      "Train Epoch: 230 [ 0]\tTrain Loss: 0.001197\n",
      "\n",
      "[EPOCH: 230], \tTest Loss: 0.1274, \tTest Accuracy: 36.92 % \n",
      "\n",
      "Train Epoch: 231 [ 0]\tTrain Loss: 0.001178\n",
      "\n",
      "[EPOCH: 231], \tTest Loss: 0.1276, \tTest Accuracy: 36.92 % \n",
      "\n",
      "Train Epoch: 232 [ 0]\tTrain Loss: 0.001161\n",
      "\n",
      "[EPOCH: 232], \tTest Loss: 0.1279, \tTest Accuracy: 36.92 % \n",
      "\n",
      "Train Epoch: 233 [ 0]\tTrain Loss: 0.001144\n",
      "\n",
      "[EPOCH: 233], \tTest Loss: 0.1281, \tTest Accuracy: 36.92 % \n",
      "\n",
      "Train Epoch: 234 [ 0]\tTrain Loss: 0.001125\n",
      "\n",
      "[EPOCH: 234], \tTest Loss: 0.1284, \tTest Accuracy: 36.92 % \n",
      "\n",
      "Train Epoch: 235 [ 0]\tTrain Loss: 0.001112\n",
      "\n",
      "[EPOCH: 235], \tTest Loss: 0.1286, \tTest Accuracy: 36.92 % \n",
      "\n",
      "Train Epoch: 236 [ 0]\tTrain Loss: 0.001093\n",
      "\n",
      "[EPOCH: 236], \tTest Loss: 0.1288, \tTest Accuracy: 36.92 % \n",
      "\n",
      "Train Epoch: 237 [ 0]\tTrain Loss: 0.001076\n",
      "\n",
      "[EPOCH: 237], \tTest Loss: 0.1291, \tTest Accuracy: 36.54 % \n",
      "\n",
      "Train Epoch: 238 [ 0]\tTrain Loss: 0.001060\n",
      "\n",
      "[EPOCH: 238], \tTest Loss: 0.1293, \tTest Accuracy: 36.92 % \n",
      "\n",
      "Train Epoch: 239 [ 0]\tTrain Loss: 0.001043\n",
      "\n",
      "[EPOCH: 239], \tTest Loss: 0.1296, \tTest Accuracy: 36.54 % \n",
      "\n",
      "Train Epoch: 240 [ 0]\tTrain Loss: 0.001029\n",
      "\n",
      "[EPOCH: 240], \tTest Loss: 0.1298, \tTest Accuracy: 36.92 % \n",
      "\n",
      "Train Epoch: 241 [ 0]\tTrain Loss: 0.001011\n",
      "\n",
      "[EPOCH: 241], \tTest Loss: 0.1300, \tTest Accuracy: 36.54 % \n",
      "\n",
      "Train Epoch: 242 [ 0]\tTrain Loss: 0.000997\n",
      "\n",
      "[EPOCH: 242], \tTest Loss: 0.1303, \tTest Accuracy: 36.92 % \n",
      "\n",
      "Train Epoch: 243 [ 0]\tTrain Loss: 0.000980\n",
      "\n",
      "[EPOCH: 243], \tTest Loss: 0.1305, \tTest Accuracy: 36.54 % \n",
      "\n",
      "Train Epoch: 244 [ 0]\tTrain Loss: 0.000969\n",
      "\n",
      "[EPOCH: 244], \tTest Loss: 0.1307, \tTest Accuracy: 36.54 % \n",
      "\n",
      "Train Epoch: 245 [ 0]\tTrain Loss: 0.000952\n",
      "\n",
      "[EPOCH: 245], \tTest Loss: 0.1310, \tTest Accuracy: 36.54 % \n",
      "\n",
      "Train Epoch: 246 [ 0]\tTrain Loss: 0.000940\n",
      "\n",
      "[EPOCH: 246], \tTest Loss: 0.1312, \tTest Accuracy: 36.54 % \n",
      "\n",
      "Train Epoch: 247 [ 0]\tTrain Loss: 0.000924\n",
      "\n",
      "[EPOCH: 247], \tTest Loss: 0.1315, \tTest Accuracy: 36.54 % \n",
      "\n",
      "Train Epoch: 248 [ 0]\tTrain Loss: 0.000912\n",
      "\n",
      "[EPOCH: 248], \tTest Loss: 0.1317, \tTest Accuracy: 36.54 % \n",
      "\n",
      "Train Epoch: 249 [ 0]\tTrain Loss: 0.000896\n",
      "\n",
      "[EPOCH: 249], \tTest Loss: 0.1319, \tTest Accuracy: 36.54 % \n",
      "\n",
      "Train Epoch: 250 [ 0]\tTrain Loss: 0.000886\n",
      "\n",
      "[EPOCH: 250], \tTest Loss: 0.1321, \tTest Accuracy: 36.54 % \n",
      "\n",
      "Train Epoch: 251 [ 0]\tTrain Loss: 0.000871\n",
      "\n",
      "[EPOCH: 251], \tTest Loss: 0.1324, \tTest Accuracy: 36.54 % \n",
      "\n",
      "Train Epoch: 252 [ 0]\tTrain Loss: 0.000860\n",
      "\n",
      "[EPOCH: 252], \tTest Loss: 0.1326, \tTest Accuracy: 36.54 % \n",
      "\n",
      "Train Epoch: 253 [ 0]\tTrain Loss: 0.000847\n",
      "\n",
      "[EPOCH: 253], \tTest Loss: 0.1328, \tTest Accuracy: 36.54 % \n",
      "\n",
      "Train Epoch: 254 [ 0]\tTrain Loss: 0.000833\n",
      "\n",
      "[EPOCH: 254], \tTest Loss: 0.1330, \tTest Accuracy: 36.54 % \n",
      "\n",
      "Train Epoch: 255 [ 0]\tTrain Loss: 0.000823\n",
      "\n",
      "[EPOCH: 255], \tTest Loss: 0.1333, \tTest Accuracy: 36.54 % \n",
      "\n",
      "Train Epoch: 256 [ 0]\tTrain Loss: 0.000812\n",
      "\n",
      "[EPOCH: 256], \tTest Loss: 0.1335, \tTest Accuracy: 36.54 % \n",
      "\n",
      "Train Epoch: 257 [ 0]\tTrain Loss: 0.000801\n",
      "\n",
      "[EPOCH: 257], \tTest Loss: 0.1337, \tTest Accuracy: 36.15 % \n",
      "\n",
      "Train Epoch: 258 [ 0]\tTrain Loss: 0.000792\n",
      "\n",
      "[EPOCH: 258], \tTest Loss: 0.1339, \tTest Accuracy: 36.15 % \n",
      "\n",
      "Train Epoch: 259 [ 0]\tTrain Loss: 0.000777\n"
     ]
    },
    {
     "ename": "KeyboardInterrupt",
     "evalue": "",
     "output_type": "error",
     "traceback": [
      "\u001B[1;31m---------------------------------------------------------------------------\u001B[0m",
      "\u001B[1;31mKeyboardInterrupt\u001B[0m                         Traceback (most recent call last)",
      "Cell \u001B[1;32mIn[133], line 6\u001B[0m\n\u001B[0;32m      2\u001B[0m test_loss_list, test_accuracy_list \u001B[38;5;241m=\u001B[39m [], []\n\u001B[0;32m      4\u001B[0m \u001B[38;5;28;01mfor\u001B[39;00m epoch \u001B[38;5;129;01min\u001B[39;00m \u001B[38;5;28mrange\u001B[39m(\u001B[38;5;241m1\u001B[39m, EPOCHS \u001B[38;5;241m+\u001B[39m \u001B[38;5;241m1\u001B[39m):\n\u001B[1;32m----> 6\u001B[0m     \u001B[43mtrain\u001B[49m\u001B[43m(\u001B[49m\u001B[43mepoch\u001B[49m\u001B[43m,\u001B[49m\u001B[43m \u001B[49m\u001B[43mmodel\u001B[49m\u001B[43m,\u001B[49m\u001B[43m \u001B[49m\u001B[43mtrainDL\u001B[49m\u001B[43m,\u001B[49m\u001B[43m \u001B[49m\u001B[43moptimizer\u001B[49m\u001B[43m,\u001B[49m\u001B[43m \u001B[49m\u001B[43mlog_interval\u001B[49m\u001B[43m \u001B[49m\u001B[38;5;241;43m=\u001B[39;49m\u001B[43m \u001B[49m\u001B[38;5;241;43m50\u001B[39;49m\u001B[43m)\u001B[49m\n\u001B[0;32m      7\u001B[0m     test_loss, test_accuracy \u001B[38;5;241m=\u001B[39m evaluate(model, testDL)\n\u001B[0;32m      8\u001B[0m     test_loss_list\u001B[38;5;241m.\u001B[39mappend(test_loss)\n",
      "Cell \u001B[1;32mIn[131], line 7\u001B[0m, in \u001B[0;36mtrain\u001B[1;34m(epoch, model, train_loader, optimizer, log_interval)\u001B[0m\n\u001B[0;32m      5\u001B[0m label \u001B[38;5;241m=\u001B[39m label\u001B[38;5;241m.\u001B[39mto(DEVICE)\n\u001B[0;32m      6\u001B[0m optimizer\u001B[38;5;241m.\u001B[39mzero_grad()\n\u001B[1;32m----> 7\u001B[0m output \u001B[38;5;241m=\u001B[39m \u001B[43mmodel\u001B[49m\u001B[43m(\u001B[49m\u001B[43mimage\u001B[49m\u001B[43m)\u001B[49m\n\u001B[0;32m      8\u001B[0m loss \u001B[38;5;241m=\u001B[39m criterion(output, label)\n\u001B[0;32m      9\u001B[0m loss\u001B[38;5;241m.\u001B[39mbackward()\n",
      "File \u001B[1;32m~\\.conda\\envs\\Torch_38\\lib\\site-packages\\torch\\nn\\modules\\module.py:1511\u001B[0m, in \u001B[0;36mModule._wrapped_call_impl\u001B[1;34m(self, *args, **kwargs)\u001B[0m\n\u001B[0;32m   1509\u001B[0m     \u001B[38;5;28;01mreturn\u001B[39;00m \u001B[38;5;28mself\u001B[39m\u001B[38;5;241m.\u001B[39m_compiled_call_impl(\u001B[38;5;241m*\u001B[39margs, \u001B[38;5;241m*\u001B[39m\u001B[38;5;241m*\u001B[39mkwargs)  \u001B[38;5;66;03m# type: ignore[misc]\u001B[39;00m\n\u001B[0;32m   1510\u001B[0m \u001B[38;5;28;01melse\u001B[39;00m:\n\u001B[1;32m-> 1511\u001B[0m     \u001B[38;5;28;01mreturn\u001B[39;00m \u001B[38;5;28;43mself\u001B[39;49m\u001B[38;5;241;43m.\u001B[39;49m\u001B[43m_call_impl\u001B[49m\u001B[43m(\u001B[49m\u001B[38;5;241;43m*\u001B[39;49m\u001B[43margs\u001B[49m\u001B[43m,\u001B[49m\u001B[43m \u001B[49m\u001B[38;5;241;43m*\u001B[39;49m\u001B[38;5;241;43m*\u001B[39;49m\u001B[43mkwargs\u001B[49m\u001B[43m)\u001B[49m\n",
      "File \u001B[1;32m~\\.conda\\envs\\Torch_38\\lib\\site-packages\\torch\\nn\\modules\\module.py:1520\u001B[0m, in \u001B[0;36mModule._call_impl\u001B[1;34m(self, *args, **kwargs)\u001B[0m\n\u001B[0;32m   1515\u001B[0m \u001B[38;5;66;03m# If we don't have any hooks, we want to skip the rest of the logic in\u001B[39;00m\n\u001B[0;32m   1516\u001B[0m \u001B[38;5;66;03m# this function, and just call forward.\u001B[39;00m\n\u001B[0;32m   1517\u001B[0m \u001B[38;5;28;01mif\u001B[39;00m \u001B[38;5;129;01mnot\u001B[39;00m (\u001B[38;5;28mself\u001B[39m\u001B[38;5;241m.\u001B[39m_backward_hooks \u001B[38;5;129;01mor\u001B[39;00m \u001B[38;5;28mself\u001B[39m\u001B[38;5;241m.\u001B[39m_backward_pre_hooks \u001B[38;5;129;01mor\u001B[39;00m \u001B[38;5;28mself\u001B[39m\u001B[38;5;241m.\u001B[39m_forward_hooks \u001B[38;5;129;01mor\u001B[39;00m \u001B[38;5;28mself\u001B[39m\u001B[38;5;241m.\u001B[39m_forward_pre_hooks\n\u001B[0;32m   1518\u001B[0m         \u001B[38;5;129;01mor\u001B[39;00m _global_backward_pre_hooks \u001B[38;5;129;01mor\u001B[39;00m _global_backward_hooks\n\u001B[0;32m   1519\u001B[0m         \u001B[38;5;129;01mor\u001B[39;00m _global_forward_hooks \u001B[38;5;129;01mor\u001B[39;00m _global_forward_pre_hooks):\n\u001B[1;32m-> 1520\u001B[0m     \u001B[38;5;28;01mreturn\u001B[39;00m \u001B[43mforward_call\u001B[49m\u001B[43m(\u001B[49m\u001B[38;5;241;43m*\u001B[39;49m\u001B[43margs\u001B[49m\u001B[43m,\u001B[49m\u001B[43m \u001B[49m\u001B[38;5;241;43m*\u001B[39;49m\u001B[38;5;241;43m*\u001B[39;49m\u001B[43mkwargs\u001B[49m\u001B[43m)\u001B[49m\n\u001B[0;32m   1522\u001B[0m \u001B[38;5;28;01mtry\u001B[39;00m:\n\u001B[0;32m   1523\u001B[0m     result \u001B[38;5;241m=\u001B[39m \u001B[38;5;28;01mNone\u001B[39;00m\n",
      "Cell \u001B[1;32mIn[129], line 12\u001B[0m, in \u001B[0;36mCNN.forward\u001B[1;34m(self, x)\u001B[0m\n\u001B[0;32m     11\u001B[0m \u001B[38;5;28;01mdef\u001B[39;00m \u001B[38;5;21mforward\u001B[39m(\u001B[38;5;28mself\u001B[39m, x):\n\u001B[1;32m---> 12\u001B[0m     x \u001B[38;5;241m=\u001B[39m \u001B[38;5;28;43mself\u001B[39;49m\u001B[38;5;241;43m.\u001B[39;49m\u001B[43mconv1\u001B[49m\u001B[43m(\u001B[49m\u001B[43mx\u001B[49m\u001B[43m)\u001B[49m\n\u001B[0;32m     13\u001B[0m     x \u001B[38;5;241m=\u001B[39m F\u001B[38;5;241m.\u001B[39mrelu(x)\n\u001B[0;32m     14\u001B[0m     x \u001B[38;5;241m=\u001B[39m \u001B[38;5;28mself\u001B[39m\u001B[38;5;241m.\u001B[39mpool(x)\n",
      "File \u001B[1;32m~\\.conda\\envs\\Torch_38\\lib\\site-packages\\torch\\nn\\modules\\module.py:1511\u001B[0m, in \u001B[0;36mModule._wrapped_call_impl\u001B[1;34m(self, *args, **kwargs)\u001B[0m\n\u001B[0;32m   1509\u001B[0m     \u001B[38;5;28;01mreturn\u001B[39;00m \u001B[38;5;28mself\u001B[39m\u001B[38;5;241m.\u001B[39m_compiled_call_impl(\u001B[38;5;241m*\u001B[39margs, \u001B[38;5;241m*\u001B[39m\u001B[38;5;241m*\u001B[39mkwargs)  \u001B[38;5;66;03m# type: ignore[misc]\u001B[39;00m\n\u001B[0;32m   1510\u001B[0m \u001B[38;5;28;01melse\u001B[39;00m:\n\u001B[1;32m-> 1511\u001B[0m     \u001B[38;5;28;01mreturn\u001B[39;00m \u001B[38;5;28;43mself\u001B[39;49m\u001B[38;5;241;43m.\u001B[39;49m\u001B[43m_call_impl\u001B[49m\u001B[43m(\u001B[49m\u001B[38;5;241;43m*\u001B[39;49m\u001B[43margs\u001B[49m\u001B[43m,\u001B[49m\u001B[43m \u001B[49m\u001B[38;5;241;43m*\u001B[39;49m\u001B[38;5;241;43m*\u001B[39;49m\u001B[43mkwargs\u001B[49m\u001B[43m)\u001B[49m\n",
      "File \u001B[1;32m~\\.conda\\envs\\Torch_38\\lib\\site-packages\\torch\\nn\\modules\\module.py:1520\u001B[0m, in \u001B[0;36mModule._call_impl\u001B[1;34m(self, *args, **kwargs)\u001B[0m\n\u001B[0;32m   1515\u001B[0m \u001B[38;5;66;03m# If we don't have any hooks, we want to skip the rest of the logic in\u001B[39;00m\n\u001B[0;32m   1516\u001B[0m \u001B[38;5;66;03m# this function, and just call forward.\u001B[39;00m\n\u001B[0;32m   1517\u001B[0m \u001B[38;5;28;01mif\u001B[39;00m \u001B[38;5;129;01mnot\u001B[39;00m (\u001B[38;5;28mself\u001B[39m\u001B[38;5;241m.\u001B[39m_backward_hooks \u001B[38;5;129;01mor\u001B[39;00m \u001B[38;5;28mself\u001B[39m\u001B[38;5;241m.\u001B[39m_backward_pre_hooks \u001B[38;5;129;01mor\u001B[39;00m \u001B[38;5;28mself\u001B[39m\u001B[38;5;241m.\u001B[39m_forward_hooks \u001B[38;5;129;01mor\u001B[39;00m \u001B[38;5;28mself\u001B[39m\u001B[38;5;241m.\u001B[39m_forward_pre_hooks\n\u001B[0;32m   1518\u001B[0m         \u001B[38;5;129;01mor\u001B[39;00m _global_backward_pre_hooks \u001B[38;5;129;01mor\u001B[39;00m _global_backward_hooks\n\u001B[0;32m   1519\u001B[0m         \u001B[38;5;129;01mor\u001B[39;00m _global_forward_hooks \u001B[38;5;129;01mor\u001B[39;00m _global_forward_pre_hooks):\n\u001B[1;32m-> 1520\u001B[0m     \u001B[38;5;28;01mreturn\u001B[39;00m \u001B[43mforward_call\u001B[49m\u001B[43m(\u001B[49m\u001B[38;5;241;43m*\u001B[39;49m\u001B[43margs\u001B[49m\u001B[43m,\u001B[49m\u001B[43m \u001B[49m\u001B[38;5;241;43m*\u001B[39;49m\u001B[38;5;241;43m*\u001B[39;49m\u001B[43mkwargs\u001B[49m\u001B[43m)\u001B[49m\n\u001B[0;32m   1522\u001B[0m \u001B[38;5;28;01mtry\u001B[39;00m:\n\u001B[0;32m   1523\u001B[0m     result \u001B[38;5;241m=\u001B[39m \u001B[38;5;28;01mNone\u001B[39;00m\n",
      "File \u001B[1;32m~\\.conda\\envs\\Torch_38\\lib\\site-packages\\torch\\nn\\modules\\conv.py:460\u001B[0m, in \u001B[0;36mConv2d.forward\u001B[1;34m(self, input)\u001B[0m\n\u001B[0;32m    459\u001B[0m \u001B[38;5;28;01mdef\u001B[39;00m \u001B[38;5;21mforward\u001B[39m(\u001B[38;5;28mself\u001B[39m, \u001B[38;5;28minput\u001B[39m: Tensor) \u001B[38;5;241m-\u001B[39m\u001B[38;5;241m>\u001B[39m Tensor:\n\u001B[1;32m--> 460\u001B[0m     \u001B[38;5;28;01mreturn\u001B[39;00m \u001B[38;5;28;43mself\u001B[39;49m\u001B[38;5;241;43m.\u001B[39;49m\u001B[43m_conv_forward\u001B[49m\u001B[43m(\u001B[49m\u001B[38;5;28;43minput\u001B[39;49m\u001B[43m,\u001B[49m\u001B[43m \u001B[49m\u001B[38;5;28;43mself\u001B[39;49m\u001B[38;5;241;43m.\u001B[39;49m\u001B[43mweight\u001B[49m\u001B[43m,\u001B[49m\u001B[43m \u001B[49m\u001B[38;5;28;43mself\u001B[39;49m\u001B[38;5;241;43m.\u001B[39;49m\u001B[43mbias\u001B[49m\u001B[43m)\u001B[49m\n",
      "File \u001B[1;32m~\\.conda\\envs\\Torch_38\\lib\\site-packages\\torch\\nn\\modules\\conv.py:456\u001B[0m, in \u001B[0;36mConv2d._conv_forward\u001B[1;34m(self, input, weight, bias)\u001B[0m\n\u001B[0;32m    452\u001B[0m \u001B[38;5;28;01mif\u001B[39;00m \u001B[38;5;28mself\u001B[39m\u001B[38;5;241m.\u001B[39mpadding_mode \u001B[38;5;241m!=\u001B[39m \u001B[38;5;124m'\u001B[39m\u001B[38;5;124mzeros\u001B[39m\u001B[38;5;124m'\u001B[39m:\n\u001B[0;32m    453\u001B[0m     \u001B[38;5;28;01mreturn\u001B[39;00m F\u001B[38;5;241m.\u001B[39mconv2d(F\u001B[38;5;241m.\u001B[39mpad(\u001B[38;5;28minput\u001B[39m, \u001B[38;5;28mself\u001B[39m\u001B[38;5;241m.\u001B[39m_reversed_padding_repeated_twice, mode\u001B[38;5;241m=\u001B[39m\u001B[38;5;28mself\u001B[39m\u001B[38;5;241m.\u001B[39mpadding_mode),\n\u001B[0;32m    454\u001B[0m                     weight, bias, \u001B[38;5;28mself\u001B[39m\u001B[38;5;241m.\u001B[39mstride,\n\u001B[0;32m    455\u001B[0m                     _pair(\u001B[38;5;241m0\u001B[39m), \u001B[38;5;28mself\u001B[39m\u001B[38;5;241m.\u001B[39mdilation, \u001B[38;5;28mself\u001B[39m\u001B[38;5;241m.\u001B[39mgroups)\n\u001B[1;32m--> 456\u001B[0m \u001B[38;5;28;01mreturn\u001B[39;00m \u001B[43mF\u001B[49m\u001B[38;5;241;43m.\u001B[39;49m\u001B[43mconv2d\u001B[49m\u001B[43m(\u001B[49m\u001B[38;5;28;43minput\u001B[39;49m\u001B[43m,\u001B[49m\u001B[43m \u001B[49m\u001B[43mweight\u001B[49m\u001B[43m,\u001B[49m\u001B[43m \u001B[49m\u001B[43mbias\u001B[49m\u001B[43m,\u001B[49m\u001B[43m \u001B[49m\u001B[38;5;28;43mself\u001B[39;49m\u001B[38;5;241;43m.\u001B[39;49m\u001B[43mstride\u001B[49m\u001B[43m,\u001B[49m\n\u001B[0;32m    457\u001B[0m \u001B[43m                \u001B[49m\u001B[38;5;28;43mself\u001B[39;49m\u001B[38;5;241;43m.\u001B[39;49m\u001B[43mpadding\u001B[49m\u001B[43m,\u001B[49m\u001B[43m \u001B[49m\u001B[38;5;28;43mself\u001B[39;49m\u001B[38;5;241;43m.\u001B[39;49m\u001B[43mdilation\u001B[49m\u001B[43m,\u001B[49m\u001B[43m \u001B[49m\u001B[38;5;28;43mself\u001B[39;49m\u001B[38;5;241;43m.\u001B[39;49m\u001B[43mgroups\u001B[49m\u001B[43m)\u001B[49m\n",
      "\u001B[1;31mKeyboardInterrupt\u001B[0m: "
     ]
    }
   ],
   "source": [
    "## train에 쓰는 데이터와 test에 쓰는 데이터를 다르게 둬야 하는데, 지금은 그렇게 하지 못 함.\n",
    "test_loss_list, test_accuracy_list = [], []\n",
    "\n",
    "for epoch in range(1, EPOCHS + 1):\n",
    "    \n",
    "    train(epoch, model, trainDL, optimizer, log_interval = 50)\n",
    "    test_loss, test_accuracy = evaluate(model, testDL)\n",
    "    test_loss_list.append(test_loss)\n",
    "    test_accuracy_list.append(test_accuracy)\n",
    "    \n",
    "    print(f\"\\n[EPOCH: {epoch}], \\tTest Loss: {test_loss:.4f}, \\tTest Accuracy: {test_accuracy:.2f} % \\n\")"
   ],
   "metadata": {
    "collapsed": false,
    "ExecuteTime": {
     "end_time": "2024-03-27T05:49:22.604470500Z",
     "start_time": "2024-03-27T05:48:13.894944400Z"
    }
   },
   "id": "2d0c581de2dd3e7c",
   "execution_count": 133
  },
  {
   "cell_type": "code",
   "outputs": [
    {
     "data": {
      "text/plain": "<Figure size 640x480 with 2 Axes>",
      "image/png": "[encoded data removed]"
     },
     "metadata": {},
     "output_type": "display_data"
    }
   ],
   "source": [
    "### 테스트 Loss와 Acc 시각화\n",
    "fig, ax1 = plt.subplots()\n",
    "ax1.plot(test_loss_list, label='loss', color='red')\n",
    "\n",
    "ax2 = ax1.twinx()\n",
    "ax2.plot(test_accuracy_list, label='acc', color='blue')\n",
    "\n",
    "ax1.legend(loc='upper left')\n",
    "ax2.legend(loc='upper right')\n",
    "plt.title('[TEST] loss & acc')\n",
    "plt.show()"
   ],
   "metadata": {
    "collapsed": false,
    "ExecuteTime": {
     "end_time": "2024-03-27T05:45:42.000990800Z",
     "start_time": "2024-03-27T05:45:41.740780300Z"
    }
   },
   "id": "b395a94eb892cd63",
   "execution_count": 91
  },
  {
   "cell_type": "code",
   "outputs": [
    {
     "name": "stdout",
     "output_type": "stream",
     "text": [
      "C:\\Users\\kdp\\PycharmProjects\\KDT_09_OpenCV\\WORK_OPENCV\\WORK_240326_TEAM_PROJECT\n"
     ]
    }
   ],
   "source": [
    "import os, sys\n",
    "from rembg import remove\n",
    "from PIL import Image\n",
    "\n",
    "print(os.getcwd())\n",
    "\n",
    "def img_rembg(img_path, modified_path):\n",
    "    files = os.listdir(img_path)    # 파일명 리스트 (list)\n",
    "    \n",
    "    if not os.path.exists(modified_path):\n",
    "        os.makedirs(modified_path)  # resize 이미지가 저장될 폴더가 없을 경우 생성\n",
    "    \n",
    "    for file in files:\n",
    "        img = Image.open(img_path + '/' + file)           # <class 'PIL.JpegImagePlugin.JpegImageFile'>\n",
    "        img = img.convert('RGBA')\n",
    "        img = remove(img)\n",
    "        img.save(modified_path + '/' + file.replace('jpg', 'png'))"
   ],
   "metadata": {
    "collapsed": false,
    "ExecuteTime": {
     "end_time": "2024-03-27T02:51:20.217377200Z",
     "start_time": "2024-03-27T02:51:20.191434600Z"
    }
   },
   "id": "ee2ce14d33f6e40",
   "execution_count": 306
  },
  {
   "cell_type": "code",
   "outputs": [],
   "source": [
    "original_path = './image/BIG'\n",
    "modified_path = './modified/BIG'\n",
    "for folder in os.listdir(original_path):\n",
    "    img_rembg(original_path + '/' + folder, modified_path + '/' + folder)"
   ],
   "metadata": {
    "collapsed": false,
    "is_executing": true,
    "ExecuteTime": {
     "start_time": "2024-03-27T03:24:45.762932600Z"
    }
   },
   "id": "186ff2ae3755c92b",
   "execution_count": null
  },
  {
   "cell_type": "code",
   "outputs": [],
   "source": [
    "dog_path = './image/BIG/AfghanHound_big'\n",
    "modified_path = './modified'\n",
    "img_rembg(dog_path, modified_path)"
   ],
   "metadata": {
    "collapsed": false,
    "ExecuteTime": {
     "end_time": "2024-03-27T03:06:48.229225700Z",
     "start_time": "2024-03-27T03:00:32.744914500Z"
    }
   },
   "id": "4d4ab4c95fdd84c1",
   "execution_count": 310
  },
  {
   "cell_type": "code",
   "outputs": [
    {
     "name": "stdout",
     "output_type": "stream",
     "text": [
      "abc\n"
     ]
    }
   ],
   "source": [
    "print('abc')"
   ],
   "metadata": {
    "collapsed": false,
    "ExecuteTime": {
     "end_time": "2024-03-27T05:23:24.387063400Z",
     "start_time": "2024-03-27T05:23:24.322877500Z"
    }
   },
   "id": "7ac14643065d50d1",
   "execution_count": 312
  },
  {
   "cell_type": "code",
   "outputs": [],
   "source": [],
   "metadata": {
    "collapsed": false
   },
   "id": "c4231dde4bcecb82"
  }
 ],
 "metadata": {
  "kernelspec": {
   "display_name": "Python 3",
   "language": "python",
   "name": "python3"
  },
  "language_info": {
   "codemirror_mode": {
    "name": "ipython",
    "version": 2
   },
   "file_extension": ".py",
   "mimetype": "text/x-python",
   "name": "python",
   "nbconvert_exporter": "python",
   "pygments_lexer": "ipython2",
   "version": "2.7.6"
  }
 },
 "nbformat": 4,
 "nbformat_minor": 5
}

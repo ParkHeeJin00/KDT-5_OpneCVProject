{
 "cells": [
  {
   "cell_type": "markdown",
   "source": [
    "## 개 품종 딥러닝 (대형견 한정)\n",
    "- OpenCV 팀 프로젝트\n",
    "- 데이터 출처 : https://www.kaggle.com/datasets/amandam1/120-dog-breeds-breed-classification\n",
    "\n",
    "개발 포인트\n",
    "- ImageFolder\n",
    "- Transforms\n",
    "- DataLoader\n",
    "- WeightedRandomSampler\n",
    "- CNN"
   ],
   "metadata": {
    "collapsed": false
   },
   "id": "4887c16e4519c602"
  },
  {
   "cell_type": "markdown",
   "source": [
    "(1) 데이터 준비"
   ],
   "metadata": {
    "collapsed": false
   },
   "id": "a2e42c193dc7bc4d"
  },
  {
   "cell_type": "code",
   "outputs": [],
   "source": [
    "import torch\n",
    "\n",
    "from torchvision.datasets import ImageFolder\n",
    "import torchvision.transforms as transforms\n",
    "from torch.utils.data import Subset\n",
    "from torchvision.models import resnet18, ResNet18_Weights\n",
    "\n",
    "import numpy as np"
   ],
   "metadata": {
    "collapsed": false,
    "ExecuteTime": {
     "end_time": "2024-03-27T00:50:41.400860500Z",
     "start_time": "2024-03-27T00:50:41.382819700Z"
    }
   },
   "id": "2d73960942f7dd99",
   "execution_count": 39
  },
  {
   "cell_type": "code",
   "outputs": [],
   "source": [
    "preprocessing = transforms.Compose([\n",
    "    transforms.Resize((32, 32)),    # 32x32 크기\n",
    "    transforms.ToTensor()\n",
    "])"
   ],
   "metadata": {
    "collapsed": false,
    "ExecuteTime": {
     "end_time": "2024-03-27T00:33:13.753128200Z",
     "start_time": "2024-03-27T00:33:13.729731300Z"
    }
   },
   "id": "6b7a3d44df6f70b1",
   "execution_count": 2
  },
  {
   "cell_type": "markdown",
   "source": [
    "(2) Dataset 생성 (훈련용, 검증용)"
   ],
   "metadata": {
    "collapsed": false
   },
   "id": "8832f526a5a3bb56"
  },
  {
   "cell_type": "code",
   "outputs": [],
   "source": [
    "### 데이터셋 생성\n",
    "### img_root = './image'로 잡으면 BIG 폴더 안의 각 개들에 대한 클래스를 못 얻음\n",
    "# img_root = './image/BIG'\n",
    "img_root = './modified/BIG'\n",
    "\n",
    "imgDS = ImageFolder(root=img_root, transform=preprocessing)"
   ],
   "metadata": {
    "collapsed": false,
    "ExecuteTime": {
     "end_time": "2024-03-27T05:24:21.825625500Z",
     "start_time": "2024-03-27T05:24:21.759898200Z"
    }
   },
   "id": "b2849f78ad5c8647",
   "execution_count": 313
  },
  {
   "cell_type": "code",
   "outputs": [
    {
     "data": {
      "text/plain": "(torchvision.datasets.folder.ImageFolder, 2089)"
     },
     "execution_count": 314,
     "metadata": {},
     "output_type": "execute_result"
    }
   ],
   "source": [
    "type(imgDS), len(imgDS)"
   ],
   "metadata": {
    "collapsed": false,
    "ExecuteTime": {
     "end_time": "2024-03-27T05:24:22.984330100Z",
     "start_time": "2024-03-27T05:24:22.909168900Z"
    }
   },
   "id": "1cbbc4d75bd15367",
   "execution_count": 314
  },
  {
   "cell_type": "code",
   "outputs": [
    {
     "name": "stdout",
     "output_type": "stream",
     "text": [
      "img 타입 : <class 'torch.Tensor'>, label 타입 : <class 'int'>\n"
     ]
    }
   ],
   "source": [
    "print(f'img 타입 : {type(imgDS[0][0])}, label 타입 : {type(imgDS[0][1])}')"
   ],
   "metadata": {
    "collapsed": false,
    "ExecuteTime": {
     "end_time": "2024-03-27T05:24:36.194699300Z",
     "start_time": "2024-03-27T05:24:36.151135900Z"
    }
   },
   "id": "561fc137623e7713",
   "execution_count": 315
  },
  {
   "cell_type": "code",
   "outputs": [
    {
     "name": "stdout",
     "output_type": "stream",
     "text": [
      "img shape : torch.Size([3, 32, 32])\n"
     ]
    }
   ],
   "source": [
    "print(f'img shape : {imgDS[0][0].shape}')"
   ],
   "metadata": {
    "collapsed": false,
    "ExecuteTime": {
     "end_time": "2024-03-27T05:24:36.852694800Z",
     "start_time": "2024-03-27T05:24:36.818346100Z"
    }
   },
   "id": "d1c5e9fa21b22cc8",
   "execution_count": 316
  },
  {
   "cell_type": "code",
   "outputs": [
    {
     "data": {
      "text/plain": "13"
     },
     "execution_count": 317,
     "metadata": {},
     "output_type": "execute_result"
    }
   ],
   "source": [
    "len(imgDS.classes)"
   ],
   "metadata": {
    "collapsed": false,
    "ExecuteTime": {
     "end_time": "2024-03-27T05:24:37.466381400Z",
     "start_time": "2024-03-27T05:24:37.405889600Z"
    }
   },
   "id": "d04a6fe1dfff134d",
   "execution_count": 317
  },
  {
   "cell_type": "code",
   "outputs": [
    {
     "data": {
      "text/plain": "{'AfricanHuntingDog_big': 0,\n 'Airedale_big': 1,\n 'Appenzeller_big': 2,\n 'Basset_big': 3,\n 'BerneseMountainDog_big': 4,\n 'BlackAndTanCoonhound_big': 5,\n 'BlenheimSpaniel_big': 6,\n 'Bloodhound_big': 7,\n 'Bluetick_big': 8,\n 'Borzoi_big': 9,\n 'BouvierDesFlandres_big': 10,\n 'Boxer_big': 11,\n 'Briard_big': 12}"
     },
     "execution_count": 318,
     "metadata": {},
     "output_type": "execute_result"
    }
   ],
   "source": [
    "imgDS.class_to_idx"
   ],
   "metadata": {
    "collapsed": false,
    "ExecuteTime": {
     "end_time": "2024-03-27T05:24:41.506968100Z",
     "start_time": "2024-03-27T05:24:41.462503800Z"
    }
   },
   "id": "57e236968decea24",
   "execution_count": 318
  },
  {
   "cell_type": "code",
   "outputs": [
    {
     "data": {
      "text/plain": "array([['./modified/BIG\\\\AfricanHuntingDog_big\\\\n02116738_10024.png',\n        '0'],\n       ['./modified/BIG\\\\AfricanHuntingDog_big\\\\n02116738_10038.png',\n        '0'],\n       ['./modified/BIG\\\\AfricanHuntingDog_big\\\\n02116738_10081.png',\n        '0'],\n       ['./modified/BIG\\\\AfricanHuntingDog_big\\\\n02116738_10169.png',\n        '0'],\n       ['./modified/BIG\\\\AfricanHuntingDog_big\\\\n02116738_10215.png',\n        '0']], dtype='<U58')"
     },
     "execution_count": 319,
     "metadata": {},
     "output_type": "execute_result"
    }
   ],
   "source": [
    "np.array(imgDS.imgs)[:5]"
   ],
   "metadata": {
    "collapsed": false,
    "ExecuteTime": {
     "end_time": "2024-03-27T05:24:43.438079100Z",
     "start_time": "2024-03-27T05:24:43.407829600Z"
    }
   },
   "id": "21ce4630a1c09b1e",
   "execution_count": 319
  },
  {
   "cell_type": "code",
   "outputs": [
    {
     "name": "stdout",
     "output_type": "stream",
     "text": [
      "./modified/BIG\\AfricanHuntingDog_big\\n02116738_10024.png\n"
     ]
    },
    {
     "data": {
      "text/plain": "2"
     },
     "execution_count": 320,
     "metadata": {},
     "output_type": "execute_result"
    }
   ],
   "source": [
    "# ImageFolder로 읽어왔을 때 imgs에 저장되는 문자열 형식 파악\n",
    "filename = np.array(imgDS.imgs)[0, 0]\n",
    "print(filename)\n",
    "filename.count('\\\\')"
   ],
   "metadata": {
    "collapsed": false,
    "ExecuteTime": {
     "end_time": "2024-03-27T05:24:48.065503400Z",
     "start_time": "2024-03-27T05:24:48.037582200Z"
    }
   },
   "id": "3fe6365ee109633d",
   "execution_count": 320
  },
  {
   "cell_type": "code",
   "outputs": [],
   "source": [
    "# 'BIG' 디렉터리에 해당하는 인덱스 추출\n",
    "# big_indices = [i for i, (_, label) in enumerate(imgDS.samples) if imgDS.classes[label] == 'BIG']"
   ],
   "metadata": {
    "collapsed": false,
    "ExecuteTime": {
     "end_time": "2024-03-27T00:48:15.130833100Z",
     "start_time": "2024-03-27T00:48:15.116641800Z"
    }
   },
   "id": "e17d0aefb1264b90",
   "execution_count": 36
  },
  {
   "cell_type": "code",
   "outputs": [],
   "source": [
    "# Subset 생성 ('BIG'에 해당하는 사진만)\n",
    "# bigSS = Subset(imgDS, big_indices)\n",
    "# len(bigSS)"
   ],
   "metadata": {
    "collapsed": false,
    "ExecuteTime": {
     "end_time": "2024-03-27T00:58:49.252371500Z",
     "start_time": "2024-03-27T00:58:49.234744700Z"
    }
   },
   "id": "a8a6c457501e2a34",
   "execution_count": 59
  },
  {
   "cell_type": "code",
   "outputs": [
    {
     "data": {
      "text/plain": "<Figure size 1000x100 with 10 Axes>",
      "image/png": "[encoded data removed]"
     },
     "metadata": {},
     "output_type": "display_data"
    }
   ],
   "source": [
    "### 데이터 확인 (시각화)\n",
    "import matplotlib.pyplot as plt\n",
    "import numpy as np\n",
    "\n",
    "pltsize = 1\n",
    "plt.figure(figsize=(10 * pltsize, pltsize))\n",
    "\n",
    "for i in range(10):\n",
    "    plt.subplot(1, 10, i + 1)\n",
    "    plt.axis('off')\n",
    "    plt.imshow(np.transpose(imgDS[i*200][0], (1, 2, 0)))    # (C, H, W) -> (H, W, C)로 변환\n",
    "    plt.title('Class: ' + str(imgDS[i*200][1]))"
   ],
   "metadata": {
    "collapsed": false,
    "ExecuteTime": {
     "end_time": "2024-03-27T05:24:52.052101300Z",
     "start_time": "2024-03-27T05:24:50.872902500Z"
    }
   },
   "id": "2f7608a3649a526b",
   "execution_count": 321
  },
  {
   "cell_type": "code",
   "outputs": [
    {
     "data": {
      "text/plain": "(2089, 2089)"
     },
     "execution_count": 322,
     "metadata": {},
     "output_type": "execute_result"
    }
   ],
   "source": [
    "### 이미지와 레이블을 ndarray로 변환\n",
    "### preprocessing 없이 ImageFolder 생성해서 아래 코드 실행하면 \n",
    "### RAM 메모리 부족으로 MemoryError 발생\n",
    "images = []\n",
    "labels = []\n",
    "\n",
    "for img, label in imgDS:    # img : <class 'PIL.Image.Image'>, label : <class 'int'>\n",
    "    images.append(np.array(img))      # PIL.Image.Image 객체 -> ndarray 변환 가능\n",
    "    labels.append(np.array(label))\n",
    "len(images), len(labels)"
   ],
   "metadata": {
    "collapsed": false,
    "ExecuteTime": {
     "end_time": "2024-03-27T05:25:22.610265400Z",
     "start_time": "2024-03-27T05:24:56.928671300Z"
    }
   },
   "id": "6ff24f4e12af9f37",
   "execution_count": 322
  },
  {
   "cell_type": "code",
   "outputs": [
    {
     "name": "stdout",
     "output_type": "stream",
     "text": [
      "imagesNP shape : (2089, 3, 32, 32), labelsNP shape : (2089,)\n"
     ]
    }
   ],
   "source": [
    "imagesNP = np.array(images)\n",
    "labelsNP = np.array(labels)\n",
    "\n",
    "print(f'imagesNP shape : {imagesNP.shape}, labelsNP shape : {labelsNP.shape}')"
   ],
   "metadata": {
    "collapsed": false,
    "ExecuteTime": {
     "end_time": "2024-03-27T05:25:27.169370100Z",
     "start_time": "2024-03-27T05:25:27.127758200Z"
    }
   },
   "id": "a92924a18911c030",
   "execution_count": 323
  },
  {
   "cell_type": "code",
   "outputs": [
    {
     "name": "stdout",
     "output_type": "stream",
     "text": [
      "x_train : (1671, 3, 32, 32) 4D\n",
      "y_train : (1671,) 1D\n"
     ]
    }
   ],
   "source": [
    "### => train, test 데이터셋으로 나누기\n",
    "from sklearn.model_selection import train_test_split\n",
    "\n",
    "x_train, x_test, y_train, y_test = \\\n",
    "    train_test_split(imagesNP, labelsNP, test_size=0.2, stratify=labels, random_state=42)\n",
    "print(f'x_train : {x_train.shape} {x_train.ndim}D')     # 4D\n",
    "print(f'y_train : {y_train.shape} {y_train.ndim}D')     # 1D"
   ],
   "metadata": {
    "collapsed": false,
    "ExecuteTime": {
     "end_time": "2024-03-27T05:25:51.659595300Z",
     "start_time": "2024-03-27T05:25:51.612374800Z"
    }
   },
   "id": "ee8e77b96661b23d",
   "execution_count": 329
  },
  {
   "cell_type": "code",
   "outputs": [
    {
     "data": {
      "text/plain": "\"### TesnorDataset에 적용하기 위해, y값을 1D -> 2D로 변환\\ny_train = np.expand_dims(y_train, axis=1)\\ny_test = np.expand_dims(y_test, axis=1)\\n\\nprint(f'y_train: {y_train.shape} {y_train.ndim}D')\\nprint(f'y_test : {y_test.shape} {y_test.ndim}D')\""
     },
     "execution_count": 330,
     "metadata": {},
     "output_type": "execute_result"
    }
   ],
   "source": [
    "\"\"\"### TesnorDataset에 적용하기 위해, y값을 1D -> 2D로 변환\n",
    "y_train = np.expand_dims(y_train, axis=1)\n",
    "y_test = np.expand_dims(y_test, axis=1)\n",
    "\n",
    "print(f'y_train: {y_train.shape} {y_train.ndim}D')\n",
    "print(f'y_test : {y_test.shape} {y_test.ndim}D')\"\"\""
   ],
   "metadata": {
    "collapsed": false,
    "ExecuteTime": {
     "end_time": "2024-03-27T05:25:51.991524300Z",
     "start_time": "2024-03-27T05:25:51.941406700Z"
    }
   },
   "id": "1c7196f9cfd5e489",
   "execution_count": 330
  },
  {
   "cell_type": "code",
   "outputs": [],
   "source": [
    "from torch.utils.data import TensorDataset, Dataset, DataLoader"
   ],
   "metadata": {
    "collapsed": false,
    "ExecuteTime": {
     "end_time": "2024-03-27T05:25:52.358948800Z",
     "start_time": "2024-03-27T05:25:52.334124700Z"
    }
   },
   "id": "ee996327f3b5f3f6",
   "execution_count": 331
  },
  {
   "cell_type": "code",
   "outputs": [],
   "source": [
    "x_trainTS = torch.FloatTensor(x_train)\n",
    "y_trainTS = torch.LongTensor(y_train)\n",
    "\n",
    "x_testTS = torch.FloatTensor(x_test)\n",
    "y_testTS = torch.LongTensor(y_test)"
   ],
   "metadata": {
    "collapsed": false,
    "ExecuteTime": {
     "end_time": "2024-03-27T05:25:52.908923400Z",
     "start_time": "2024-03-27T05:25:52.838287Z"
    }
   },
   "id": "2a3b20ba8c44a759",
   "execution_count": 332
  },
  {
   "cell_type": "code",
   "outputs": [
    {
     "data": {
      "text/plain": "'x_trainTS = torch.IntTensor(x_train)\\ny_trainTS = torch.IntTensor(y_train)\\n\\nx_testTS = torch.IntTensor(x_test)\\ny_testTS = torch.IntTensor(y_test)'"
     },
     "execution_count": 251,
     "metadata": {},
     "output_type": "execute_result"
    }
   ],
   "source": [
    "\"\"\"x_trainTS = torch.IntTensor(x_train)\n",
    "y_trainTS = torch.IntTensor(y_train)\n",
    "\n",
    "x_testTS = torch.IntTensor(x_test)\n",
    "y_testTS = torch.IntTensor(y_test)\"\"\""
   ],
   "metadata": {
    "collapsed": false,
    "ExecuteTime": {
     "end_time": "2024-03-27T02:15:33.073068300Z",
     "start_time": "2024-03-27T02:15:33.050032100Z"
    }
   },
   "id": "38c3147dd86241c5",
   "execution_count": 251
  },
  {
   "cell_type": "code",
   "outputs": [],
   "source": [
    "trainDS = TensorDataset(x_trainTS, y_trainTS)\n",
    "testDS = TensorDataset(x_testTS, y_testTS)"
   ],
   "metadata": {
    "collapsed": false,
    "ExecuteTime": {
     "end_time": "2024-03-27T05:25:55.613073900Z",
     "start_time": "2024-03-27T05:25:55.587544800Z"
    }
   },
   "id": "27072fb9017f0636",
   "execution_count": 333
  },
  {
   "cell_type": "code",
   "outputs": [
    {
     "data": {
      "text/plain": "(1671, 418)"
     },
     "execution_count": 334,
     "metadata": {},
     "output_type": "execute_result"
    }
   ],
   "source": [
    "len(trainDS), len(testDS)"
   ],
   "metadata": {
    "collapsed": false,
    "ExecuteTime": {
     "end_time": "2024-03-27T05:25:56.005020400Z",
     "start_time": "2024-03-27T05:25:55.954004200Z"
    }
   },
   "id": "7e0adf47678ea1ea",
   "execution_count": 334
  },
  {
   "cell_type": "code",
   "outputs": [],
   "source": [
    "# 클래스별 샘플 수 계산\n",
    "import os\n",
    "\n",
    "def file_count_in_dir(path):\n",
    "    \"\"\" path : 대장 폴더 주소 \"\"\"\n",
    "    if not path.endswith('/'):\n",
    "        path += '/'\n",
    "    \n",
    "    file_count = dict()\n",
    "    \n",
    "    datalist = os.listdir(path)\n",
    "    for data in datalist:\n",
    "        if os.path.isdir(path + data):\n",
    "            sub_datalist = os.listdir(path + data)\n",
    "            file_count[path + data] = len(sub_datalist)\n",
    "    return file_count"
   ],
   "metadata": {
    "collapsed": false,
    "ExecuteTime": {
     "end_time": "2024-03-27T05:25:59.084869Z",
     "start_time": "2024-03-27T05:25:59.063092400Z"
    }
   },
   "id": "d9798e031a54f81b",
   "execution_count": 335
  },
  {
   "cell_type": "code",
   "outputs": [],
   "source": [
    "# file_count = file_count_in_dir(img_root)\n",
    "# file_count2 = {key.split('/')[-1]: value for key, value in file_count.items()}\n",
    "# file_count3 = {key.split('_')[0]: value for key, value in file_count2.items()}\n",
    "# print(file_count3)"
   ],
   "metadata": {
    "collapsed": false,
    "ExecuteTime": {
     "end_time": "2024-03-27T02:15:34.394877700Z",
     "start_time": "2024-03-27T02:15:34.373381200Z"
    }
   },
   "id": "8879a9ea8a0e6325",
   "execution_count": 255
  },
  {
   "cell_type": "code",
   "outputs": [],
   "source": [
    "# class_names = imgDS.class_to_idx\n",
    "# class_names"
   ],
   "metadata": {
    "collapsed": false,
    "ExecuteTime": {
     "end_time": "2024-03-27T02:15:34.653819100Z",
     "start_time": "2024-03-27T02:15:34.633368100Z"
    }
   },
   "id": "6bd2e9051b250e41",
   "execution_count": 256
  },
  {
   "cell_type": "code",
   "outputs": [],
   "source": [
    "# class_names = {key.split('_')[0]: value for key, value in class_names.items()}\n",
    "# class_names"
   ],
   "metadata": {
    "collapsed": false,
    "ExecuteTime": {
     "end_time": "2024-03-27T02:15:34.922621200Z",
     "start_time": "2024-03-27T02:15:34.882468800Z"
    }
   },
   "id": "2caac77e4ed46b75",
   "execution_count": 257
  },
  {
   "cell_type": "code",
   "outputs": [],
   "source": [
    "# class_count = [file_count3[key] for key, value in class_names.items()]\n",
    "# print(class_count)"
   ],
   "metadata": {
    "collapsed": false,
    "ExecuteTime": {
     "end_time": "2024-03-27T02:15:35.096588100Z",
     "start_time": "2024-03-27T02:15:35.072070Z"
    }
   },
   "id": "ece9adc3c024d7bc",
   "execution_count": 258
  },
  {
   "cell_type": "code",
   "outputs": [
    {
     "data": {
      "text/plain": "'### Sampler에서 사용할 가중치 생성\\ntotal_image_count = len(class_count)\\n# weights = [class_count / total_image_count for class_count in class_count]\\nweights = []\\nfor i, v in enumerate(class_count):\\n    weights.extend([1 / v] * v)\\nprint(len(weights))'"
     },
     "execution_count": 259,
     "metadata": {},
     "output_type": "execute_result"
    }
   ],
   "source": [
    "\"\"\"### Sampler에서 사용할 가중치 생성\n",
    "total_image_count = len(class_count)\n",
    "# weights = [class_count / total_image_count for class_count in class_count]\n",
    "weights = []\n",
    "for i, v in enumerate(class_count):\n",
    "    weights.extend([1 / v] * v)\n",
    "print(len(weights))\"\"\""
   ],
   "metadata": {
    "collapsed": false,
    "ExecuteTime": {
     "end_time": "2024-03-27T02:15:35.352889Z",
     "start_time": "2024-03-27T02:15:35.268312800Z"
    }
   },
   "id": "edb38454c5629b4f",
   "execution_count": 259
  },
  {
   "cell_type": "markdown",
   "source": [
    "(3) DataLoader 생성 (훈련용, 검증용)"
   ],
   "metadata": {
    "collapsed": false
   },
   "id": "72a0eea926ed6d7e"
  },
  {
   "cell_type": "code",
   "outputs": [],
   "source": [
    "BATCH_SIZE = 64"
   ],
   "metadata": {
    "collapsed": false,
    "ExecuteTime": {
     "end_time": "2024-03-27T05:26:03.414293Z",
     "start_time": "2024-03-27T05:26:03.379593300Z"
    }
   },
   "id": "f1b80d18cd235d6f",
   "execution_count": 336
  },
  {
   "cell_type": "code",
   "outputs": [
    {
     "name": "stdout",
     "output_type": "stream",
     "text": [
      "torch.Size([64, 3, 32, 32]) torch.Size([64])\n",
      "tensor([11,  3,  3, 10, 12,  3,  5, 11, 11,  7, 11, 12,  2, 12,  8,  3,  8,  6,\n",
      "         3,  4,  8,  6,  1,  9,  6,  4,  8,  8,  4,  4,  3, 10, 10,  3,  0,  5,\n",
      "         9, 10,  4, 11,  9,  7,  7,  8,  6,  5,  0,  6,  8, 10,  5,  4, 12,  2,\n",
      "        10,  7, 11,  1,  6,  4, 11,  9,  6,  8])\n",
      "torch.Size([64, 3, 32, 32]) torch.Size([64])\n",
      "tensor([ 3,  7,  4,  7,  3,  7,  1,  9,  0,  2, 11, 10,  4,  1,  9,  2, 10,  1,\n",
      "        12,  0,  3,  1,  7,  6,  2,  0,  0,  8, 12,  7, 12,  1,  2,  4,  8, 11,\n",
      "         2, 11,  0, 10, 11,  7,  5,  2,  7,  1,  4,  4,  6,  6,  1,  1,  1,  2,\n",
      "         0,  3,  7,  2,  9,  5,  1,  3,  3,  3])\n",
      "torch.Size([64, 3, 32, 32]) torch.Size([64])\n",
      "tensor([ 5, 11,  2,  0,  4,  1,  7, 11,  3,  7,  0,  0,  3,  3,  3,  7, 11,  8,\n",
      "        11,  3,  7,  8, 11,  2, 11,  4,  1,  2,  5, 10, 11,  0,  3,  0, 11,  3,\n",
      "        11,  0,  8, 11,  7, 11,  4,  3,  7,  5,  4,  9,  1, 11,  7,  1,  5,  1,\n",
      "         5,  1,  0, 11,  0, 10,  5, 11,  2,  3])\n",
      "trainDL batch 개수 : 27\n",
      "testDL batch 개수 : 7\n"
     ]
    }
   ],
   "source": [
    "trainDL = DataLoader(trainDS, batch_size=BATCH_SIZE)\n",
    "testDL = DataLoader(testDS, batch_size=BATCH_SIZE)\n",
    "\n",
    "for idx, (img, label) in enumerate(trainDL):\n",
    "    if idx > 2: break\n",
    "    # print(img.shape, label.shape, label.bincount())\n",
    "    print(img.shape, label.shape)       # img : 4D, label : 2D\n",
    "    print(label)\n",
    "\n",
    "print(f'trainDL batch 개수 : {len(trainDL)}')\n",
    "print(f'testDL batch 개수 : {len(testDL)}')"
   ],
   "metadata": {
    "collapsed": false,
    "ExecuteTime": {
     "end_time": "2024-03-27T05:26:06.310980300Z",
     "start_time": "2024-03-27T05:26:06.276823Z"
    }
   },
   "id": "ff478e117720ebb5",
   "execution_count": 337
  },
  {
   "cell_type": "markdown",
   "source": [
    "(4) cnn 모델 만들기"
   ],
   "metadata": {
    "collapsed": false
   },
   "id": "cd720963cc346ed8"
  },
  {
   "cell_type": "code",
   "outputs": [],
   "source": [
    "import torch\n",
    "import torch.nn as nn\n",
    "import torch.nn.functional as F\n",
    "import torch.optim as optim\n",
    "import cv2\n",
    "from torchinfo import summary"
   ],
   "metadata": {
    "collapsed": false,
    "ExecuteTime": {
     "end_time": "2024-03-27T05:26:09.778436600Z",
     "start_time": "2024-03-27T05:26:09.732828900Z"
    }
   },
   "id": "a48d86a575a7832b",
   "execution_count": 338
  },
  {
   "cell_type": "code",
   "outputs": [
    {
     "data": {
      "text/plain": "torch.Size([3, 32, 32])"
     },
     "execution_count": 339,
     "metadata": {},
     "output_type": "execute_result"
    }
   ],
   "source": [
    "imgDS[0][0].shape"
   ],
   "metadata": {
    "collapsed": false,
    "ExecuteTime": {
     "end_time": "2024-03-27T05:26:10.127497100Z",
     "start_time": "2024-03-27T05:26:10.079246900Z"
    }
   },
   "id": "736da1c73dd1dde2",
   "execution_count": 339
  },
  {
   "cell_type": "code",
   "outputs": [
    {
     "data": {
      "text/plain": "Conv2d(3, 8, kernel_size=(3, 3), stride=(1, 1), padding=(1, 1))"
     },
     "execution_count": 340,
     "metadata": {},
     "output_type": "execute_result"
    }
   ],
   "source": [
    "conv1 = nn.Conv2d(in_channels = 3, out_channels = 8, kernel_size = 3, padding = 1)  # 피처 8개 뽑겠다.\n",
    "conv1"
   ],
   "metadata": {
    "collapsed": false,
    "ExecuteTime": {
     "end_time": "2024-03-27T05:26:10.604923300Z",
     "start_time": "2024-03-27T05:26:10.558367100Z"
    }
   },
   "id": "473c69ee16fb0391",
   "execution_count": 340
  },
  {
   "cell_type": "code",
   "outputs": [
    {
     "data": {
      "text/plain": "torch.Size([8, 32, 32])"
     },
     "execution_count": 341,
     "metadata": {},
     "output_type": "execute_result"
    }
   ],
   "source": [
    "output1 = conv1(imgDS[0][0])\n",
    "output1.shape"
   ],
   "metadata": {
    "collapsed": false,
    "ExecuteTime": {
     "end_time": "2024-03-27T05:26:12.435469800Z",
     "start_time": "2024-03-27T05:26:12.374094800Z"
    }
   },
   "id": "1eaea368b11dc51",
   "execution_count": 341
  },
  {
   "cell_type": "code",
   "outputs": [
    {
     "data": {
      "text/plain": "Conv2d(8, 16, kernel_size=(3, 3), stride=(1, 1), padding=(1, 1))"
     },
     "execution_count": 342,
     "metadata": {},
     "output_type": "execute_result"
    }
   ],
   "source": [
    "conv2 = nn.Conv2d(in_channels = 8, out_channels = 16, kernel_size = 3, padding = 1)\n",
    "conv2"
   ],
   "metadata": {
    "collapsed": false,
    "ExecuteTime": {
     "end_time": "2024-03-27T05:26:12.669177700Z",
     "start_time": "2024-03-27T05:26:12.634045700Z"
    }
   },
   "id": "2af628ce1873ee71",
   "execution_count": 342
  },
  {
   "cell_type": "code",
   "outputs": [
    {
     "data": {
      "text/plain": "torch.Size([16, 32, 32])"
     },
     "execution_count": 343,
     "metadata": {},
     "output_type": "execute_result"
    }
   ],
   "source": [
    "output2 = conv2(output1)\n",
    "output2.shape"
   ],
   "metadata": {
    "collapsed": false,
    "ExecuteTime": {
     "end_time": "2024-03-27T05:26:13.211388800Z",
     "start_time": "2024-03-27T05:26:13.176164800Z"
    }
   },
   "id": "2ec4f44616d727af",
   "execution_count": 343
  },
  {
   "cell_type": "code",
   "outputs": [
    {
     "data": {
      "text/plain": "MaxPool2d(kernel_size=2, stride=2, padding=0, dilation=1, ceil_mode=False)"
     },
     "execution_count": 344,
     "metadata": {},
     "output_type": "execute_result"
    }
   ],
   "source": [
    "pool = nn.MaxPool2d(kernel_size = 2, stride = 2)\n",
    "pool"
   ],
   "metadata": {
    "collapsed": false,
    "ExecuteTime": {
     "end_time": "2024-03-27T05:26:13.612118500Z",
     "start_time": "2024-03-27T05:26:13.562369600Z"
    }
   },
   "id": "d32d54f0e665db48",
   "execution_count": 344
  },
  {
   "cell_type": "code",
   "outputs": [
    {
     "data": {
      "text/plain": "torch.Size([16, 16, 16])"
     },
     "execution_count": 345,
     "metadata": {},
     "output_type": "execute_result"
    }
   ],
   "source": [
    "output3 = pool(output2)\n",
    "output3.shape"
   ],
   "metadata": {
    "collapsed": false,
    "ExecuteTime": {
     "end_time": "2024-03-27T05:26:14.114913600Z",
     "start_time": "2024-03-27T05:26:14.075456Z"
    }
   },
   "id": "4f903f9e69f703c4",
   "execution_count": 345
  },
  {
   "cell_type": "code",
   "outputs": [],
   "source": [
    "conv3 = nn.Conv2d(in_channels = 16, out_channels = 16, kernel_size = 3, padding = 1)"
   ],
   "metadata": {
    "collapsed": false,
    "ExecuteTime": {
     "end_time": "2024-03-27T05:26:14.508342600Z",
     "start_time": "2024-03-27T05:26:14.465896700Z"
    }
   },
   "id": "1753fd9f4332bd6f",
   "execution_count": 346
  },
  {
   "cell_type": "code",
   "outputs": [
    {
     "data": {
      "text/plain": "torch.Size([16, 16, 16])"
     },
     "execution_count": 347,
     "metadata": {},
     "output_type": "execute_result"
    }
   ],
   "source": [
    "output4 = conv3(output3)\n",
    "output4.shape"
   ],
   "metadata": {
    "collapsed": false,
    "ExecuteTime": {
     "end_time": "2024-03-27T05:26:14.775506300Z",
     "start_time": "2024-03-27T05:26:14.726838400Z"
    }
   },
   "id": "d7b381c4973aa4cc",
   "execution_count": 347
  },
  {
   "cell_type": "code",
   "outputs": [
    {
     "data": {
      "text/plain": "torch.Size([16, 8, 8])"
     },
     "execution_count": 348,
     "metadata": {},
     "output_type": "execute_result"
    }
   ],
   "source": [
    "output5 = pool(output4)\n",
    "output5.shape"
   ],
   "metadata": {
    "collapsed": false,
    "ExecuteTime": {
     "end_time": "2024-03-27T05:26:15.038281400Z",
     "start_time": "2024-03-27T05:26:15.006863800Z"
    }
   },
   "id": "d93ed51647023db0",
   "execution_count": 348
  },
  {
   "cell_type": "code",
   "outputs": [
    {
     "data": {
      "text/plain": "torch.Size([1, 1024])"
     },
     "execution_count": 349,
     "metadata": {},
     "output_type": "execute_result"
    }
   ],
   "source": [
    "output5.view(-1, 16 * 8 * 8).shape"
   ],
   "metadata": {
    "collapsed": false,
    "ExecuteTime": {
     "end_time": "2024-03-27T05:26:15.362827100Z",
     "start_time": "2024-03-27T05:26:15.311209700Z"
    }
   },
   "id": "b6db5148910ca77c",
   "execution_count": 349
  },
  {
   "cell_type": "code",
   "outputs": [],
   "source": [
    "### CNN 모델 생성\n",
    "cnn_model = nn.Sequential(\n",
    "    nn.Conv2d(in_channels = 3, out_channels = 8, kernel_size = 3, padding = 1),\n",
    "    nn.ReLU(),\n",
    "    nn.Conv2d(in_channels = 8, out_channels = 16, kernel_size = 3, padding = 1),\n",
    "    nn.ReLU(),\n",
    "    nn.MaxPool2d(kernel_size = 2, stride = 2),\n",
    "    nn.Conv2d(in_channels = 16, out_channels = 16, kernel_size = 3, padding = 1),\n",
    "    nn.MaxPool2d(kernel_size = 2, stride = 2),\n",
    "    nn.Flatten(),\n",
    "    nn.Linear(16 * 8 * 8, 512),\n",
    "    nn.ReLU(),\n",
    "    nn.Linear(512, 256),\n",
    "    nn.ReLU(),\n",
    "    nn.Linear(256, len(imgDS.classes))\n",
    ")"
   ],
   "metadata": {
    "collapsed": false,
    "ExecuteTime": {
     "end_time": "2024-03-27T05:26:15.975182800Z",
     "start_time": "2024-03-27T05:26:15.941800300Z"
    }
   },
   "id": "c8e847c0154e205d",
   "execution_count": 350
  },
  {
   "cell_type": "markdown",
   "source": [
    "(5) CNN 학습하기"
   ],
   "metadata": {
    "collapsed": false
   },
   "id": "69a5082090bf184c"
  },
  {
   "cell_type": "code",
   "outputs": [
    {
     "name": "stdout",
     "output_type": "stream",
     "text": [
      "Sequential(\n",
      "  (0): Conv2d(3, 8, kernel_size=(3, 3), stride=(1, 1), padding=(1, 1))\n",
      "  (1): ReLU()\n",
      "  (2): Conv2d(8, 16, kernel_size=(3, 3), stride=(1, 1), padding=(1, 1))\n",
      "  (3): ReLU()\n",
      "  (4): MaxPool2d(kernel_size=2, stride=2, padding=0, dilation=1, ceil_mode=False)\n",
      "  (5): Conv2d(16, 16, kernel_size=(3, 3), stride=(1, 1), padding=(1, 1))\n",
      "  (6): MaxPool2d(kernel_size=2, stride=2, padding=0, dilation=1, ceil_mode=False)\n",
      "  (7): Flatten(start_dim=1, end_dim=-1)\n",
      "  (8): Linear(in_features=1024, out_features=512, bias=True)\n",
      "  (9): ReLU()\n",
      "  (10): Linear(in_features=512, out_features=256, bias=True)\n",
      "  (11): ReLU()\n",
      "  (12): Linear(in_features=256, out_features=13, bias=True)\n",
      ")\n"
     ]
    }
   ],
   "source": [
    "DEVICE = 'cuda' if torch.cuda.is_available() else 'cpu'\n",
    "\n",
    "EPOCHS = 100\n",
    "\n",
    "# model = cnn_model().to(DEVICE)\n",
    "\n",
    "optimizer = optim.Adam(cnn_model.parameters(), lr=0.001)\n",
    "\n",
    "criterion = nn.CrossEntropyLoss()\n",
    "\n",
    "print(cnn_model)"
   ],
   "metadata": {
    "collapsed": false,
    "ExecuteTime": {
     "end_time": "2024-03-27T05:26:18.714775300Z",
     "start_time": "2024-03-27T05:26:18.674171400Z"
    }
   },
   "id": "9926118795fd9322",
   "execution_count": 351
  },
  {
   "cell_type": "code",
   "outputs": [],
   "source": [
    "def train(epoch, model, train_loader, optimizer, log_interval):\n",
    "    model.train()\n",
    "    for batch_idx, (image, label) in enumerate(train_loader):\n",
    "        image = image.to(DEVICE)\n",
    "        label = label.to(DEVICE)\n",
    "        optimizer.zero_grad()\n",
    "        output = model(image)\n",
    "        loss = criterion(output, label)\n",
    "        loss.backward()\n",
    "        optimizer.step()\n",
    "\n",
    "        if batch_idx % log_interval == 0:\n",
    "            print(f\"Train Epoch: {epoch} [{batch_idx:2d}]\\tTrain Loss: {loss.item():.6f}\")"
   ],
   "metadata": {
    "collapsed": false,
    "ExecuteTime": {
     "end_time": "2024-03-27T05:26:22.179546900Z",
     "start_time": "2024-03-27T05:26:22.144187100Z"
    }
   },
   "id": "28c590ec578d5bd4",
   "execution_count": 352
  },
  {
   "cell_type": "code",
   "outputs": [],
   "source": [
    "def evaluate(model, test_loader):\n",
    "    model.eval()\n",
    "    test_loss = 0\n",
    "    correct = 0\n",
    "\n",
    "    with torch.no_grad():\n",
    "        for image, label in test_loader:\n",
    "            image = image.to(DEVICE)\n",
    "            label = label.to(DEVICE)\n",
    "            \n",
    "            output = model(image)\n",
    "            test_loss += criterion(output, label).item()\n",
    "            prediction = output.max(1, keepdim = True)[1]\n",
    "            correct += prediction.eq(label.view_as(prediction)).sum().item()\n",
    "    \n",
    "    test_loss /= len(test_loader.dataset)\n",
    "    test_accuracy = 100. * correct / len(test_loader.dataset)\n",
    "    return test_loss, test_accuracy"
   ],
   "metadata": {
    "collapsed": false,
    "ExecuteTime": {
     "end_time": "2024-03-27T05:26:22.848330600Z",
     "start_time": "2024-03-27T05:26:22.774861800Z"
    }
   },
   "id": "261fd09306f8fd03",
   "execution_count": 353
  },
  {
   "cell_type": "code",
   "outputs": [
    {
     "name": "stdout",
     "output_type": "stream",
     "text": [
      "Train Epoch: 1 [ 0]\tTrain Loss: 2.572465\n",
      "\n",
      "[EPOCH: 1], \tTest Loss: 0.0425, \tTest Accuracy: 11.72 % \n",
      "\n",
      "Train Epoch: 2 [ 0]\tTrain Loss: 2.560480\n",
      "\n",
      "[EPOCH: 2], \tTest Loss: 0.0420, \tTest Accuracy: 14.35 % \n",
      "\n",
      "Train Epoch: 3 [ 0]\tTrain Loss: 2.541480\n",
      "\n",
      "[EPOCH: 3], \tTest Loss: 0.0391, \tTest Accuracy: 17.70 % \n",
      "\n",
      "Train Epoch: 4 [ 0]\tTrain Loss: 2.483483\n",
      "\n",
      "[EPOCH: 4], \tTest Loss: 0.0375, \tTest Accuracy: 22.01 % \n",
      "\n",
      "Train Epoch: 5 [ 0]\tTrain Loss: 2.355977\n",
      "\n",
      "[EPOCH: 5], \tTest Loss: 0.0361, \tTest Accuracy: 25.84 % \n",
      "\n",
      "Train Epoch: 6 [ 0]\tTrain Loss: 2.267504\n",
      "\n",
      "[EPOCH: 6], \tTest Loss: 0.0349, \tTest Accuracy: 27.27 % \n",
      "\n",
      "Train Epoch: 7 [ 0]\tTrain Loss: 2.151472\n",
      "\n",
      "[EPOCH: 7], \tTest Loss: 0.0332, \tTest Accuracy: 31.10 % \n",
      "\n",
      "Train Epoch: 8 [ 0]\tTrain Loss: 1.998345\n",
      "\n",
      "[EPOCH: 8], \tTest Loss: 0.0313, \tTest Accuracy: 35.89 % \n",
      "\n",
      "Train Epoch: 9 [ 0]\tTrain Loss: 1.828317\n",
      "\n",
      "[EPOCH: 9], \tTest Loss: 0.0314, \tTest Accuracy: 33.97 % \n",
      "\n",
      "Train Epoch: 10 [ 0]\tTrain Loss: 1.709446\n",
      "\n",
      "[EPOCH: 10], \tTest Loss: 0.0326, \tTest Accuracy: 34.93 % \n",
      "\n",
      "Train Epoch: 11 [ 0]\tTrain Loss: 1.663523\n",
      "\n",
      "[EPOCH: 11], \tTest Loss: 0.0325, \tTest Accuracy: 36.60 % \n",
      "\n",
      "Train Epoch: 12 [ 0]\tTrain Loss: 1.577874\n",
      "\n",
      "[EPOCH: 12], \tTest Loss: 0.0324, \tTest Accuracy: 37.08 % \n",
      "\n",
      "Train Epoch: 13 [ 0]\tTrain Loss: 1.474101\n",
      "\n",
      "[EPOCH: 13], \tTest Loss: 0.0320, \tTest Accuracy: 37.32 % \n",
      "\n",
      "Train Epoch: 14 [ 0]\tTrain Loss: 1.302365\n",
      "\n",
      "[EPOCH: 14], \tTest Loss: 0.0337, \tTest Accuracy: 36.60 % \n",
      "\n",
      "Train Epoch: 15 [ 0]\tTrain Loss: 1.121015\n",
      "\n",
      "[EPOCH: 15], \tTest Loss: 0.0379, \tTest Accuracy: 33.49 % \n",
      "\n",
      "Train Epoch: 16 [ 0]\tTrain Loss: 0.992118\n",
      "\n",
      "[EPOCH: 16], \tTest Loss: 0.0441, \tTest Accuracy: 32.54 % \n",
      "\n",
      "Train Epoch: 17 [ 0]\tTrain Loss: 0.971213\n",
      "\n",
      "[EPOCH: 17], \tTest Loss: 0.0425, \tTest Accuracy: 33.73 % \n",
      "\n",
      "Train Epoch: 18 [ 0]\tTrain Loss: 0.981280\n",
      "\n",
      "[EPOCH: 18], \tTest Loss: 0.0404, \tTest Accuracy: 36.36 % \n",
      "\n",
      "Train Epoch: 19 [ 0]\tTrain Loss: 0.959773\n",
      "\n",
      "[EPOCH: 19], \tTest Loss: 0.0409, \tTest Accuracy: 36.84 % \n",
      "\n",
      "Train Epoch: 20 [ 0]\tTrain Loss: 0.661540\n",
      "\n",
      "[EPOCH: 20], \tTest Loss: 0.0461, \tTest Accuracy: 37.80 % \n",
      "\n",
      "Train Epoch: 21 [ 0]\tTrain Loss: 0.615557\n",
      "\n",
      "[EPOCH: 21], \tTest Loss: 0.0501, \tTest Accuracy: 39.23 % \n",
      "\n",
      "Train Epoch: 22 [ 0]\tTrain Loss: 0.426161\n",
      "\n",
      "[EPOCH: 22], \tTest Loss: 0.0597, \tTest Accuracy: 35.41 % \n",
      "\n",
      "Train Epoch: 23 [ 0]\tTrain Loss: 0.374852\n",
      "\n",
      "[EPOCH: 23], \tTest Loss: 0.0652, \tTest Accuracy: 34.93 % \n",
      "\n",
      "Train Epoch: 24 [ 0]\tTrain Loss: 0.305412\n",
      "\n",
      "[EPOCH: 24], \tTest Loss: 0.0718, \tTest Accuracy: 34.93 % \n",
      "\n",
      "Train Epoch: 25 [ 0]\tTrain Loss: 0.255200\n",
      "\n",
      "[EPOCH: 25], \tTest Loss: 0.0695, \tTest Accuracy: 35.89 % \n",
      "\n",
      "Train Epoch: 26 [ 0]\tTrain Loss: 0.623731\n",
      "\n",
      "[EPOCH: 26], \tTest Loss: 0.0612, \tTest Accuracy: 36.12 % \n",
      "\n",
      "Train Epoch: 27 [ 0]\tTrain Loss: 0.300710\n",
      "\n",
      "[EPOCH: 27], \tTest Loss: 0.0622, \tTest Accuracy: 36.12 % \n",
      "\n",
      "Train Epoch: 28 [ 0]\tTrain Loss: 0.303992\n",
      "\n",
      "[EPOCH: 28], \tTest Loss: 0.0710, \tTest Accuracy: 37.08 % \n",
      "\n",
      "Train Epoch: 29 [ 0]\tTrain Loss: 0.188846\n",
      "\n",
      "[EPOCH: 29], \tTest Loss: 0.0735, \tTest Accuracy: 36.84 % \n",
      "\n",
      "Train Epoch: 30 [ 0]\tTrain Loss: 0.181484\n",
      "\n",
      "[EPOCH: 30], \tTest Loss: 0.0805, \tTest Accuracy: 36.84 % \n",
      "\n",
      "Train Epoch: 31 [ 0]\tTrain Loss: 0.169046\n",
      "\n",
      "[EPOCH: 31], \tTest Loss: 0.0769, \tTest Accuracy: 38.76 % \n",
      "\n",
      "Train Epoch: 32 [ 0]\tTrain Loss: 0.080703\n",
      "\n",
      "[EPOCH: 32], \tTest Loss: 0.0794, \tTest Accuracy: 36.60 % \n",
      "\n",
      "Train Epoch: 33 [ 0]\tTrain Loss: 0.054516\n",
      "\n",
      "[EPOCH: 33], \tTest Loss: 0.0816, \tTest Accuracy: 37.80 % \n",
      "\n",
      "Train Epoch: 34 [ 0]\tTrain Loss: 0.048946\n",
      "\n",
      "[EPOCH: 34], \tTest Loss: 0.0839, \tTest Accuracy: 37.08 % \n",
      "\n",
      "Train Epoch: 35 [ 0]\tTrain Loss: 0.062844\n",
      "\n",
      "[EPOCH: 35], \tTest Loss: 0.0882, \tTest Accuracy: 36.36 % \n",
      "\n",
      "Train Epoch: 36 [ 0]\tTrain Loss: 0.060790\n",
      "\n",
      "[EPOCH: 36], \tTest Loss: 0.0850, \tTest Accuracy: 35.41 % \n",
      "\n",
      "Train Epoch: 37 [ 0]\tTrain Loss: 0.015210\n",
      "\n",
      "[EPOCH: 37], \tTest Loss: 0.0949, \tTest Accuracy: 36.12 % \n",
      "\n",
      "Train Epoch: 38 [ 0]\tTrain Loss: 0.036785\n",
      "\n",
      "[EPOCH: 38], \tTest Loss: 0.0912, \tTest Accuracy: 33.25 % \n",
      "\n",
      "Train Epoch: 39 [ 0]\tTrain Loss: 0.060726\n",
      "\n",
      "[EPOCH: 39], \tTest Loss: 0.0920, \tTest Accuracy: 34.93 % \n",
      "\n",
      "Train Epoch: 40 [ 0]\tTrain Loss: 0.026534\n",
      "\n",
      "[EPOCH: 40], \tTest Loss: 0.0884, \tTest Accuracy: 36.36 % \n",
      "\n",
      "Train Epoch: 41 [ 0]\tTrain Loss: 0.018579\n",
      "\n",
      "[EPOCH: 41], \tTest Loss: 0.0882, \tTest Accuracy: 37.56 % \n",
      "\n",
      "Train Epoch: 42 [ 0]\tTrain Loss: 0.031984\n",
      "\n",
      "[EPOCH: 42], \tTest Loss: 0.0894, \tTest Accuracy: 37.32 % \n",
      "\n",
      "Train Epoch: 43 [ 0]\tTrain Loss: 0.019557\n",
      "\n",
      "[EPOCH: 43], \tTest Loss: 0.0869, \tTest Accuracy: 39.00 % \n",
      "\n",
      "Train Epoch: 44 [ 0]\tTrain Loss: 0.008271\n",
      "\n",
      "[EPOCH: 44], \tTest Loss: 0.0878, \tTest Accuracy: 38.04 % \n",
      "\n",
      "Train Epoch: 45 [ 0]\tTrain Loss: 0.004905\n",
      "\n",
      "[EPOCH: 45], \tTest Loss: 0.0885, \tTest Accuracy: 37.80 % \n",
      "\n",
      "Train Epoch: 46 [ 0]\tTrain Loss: 0.003354\n",
      "\n",
      "[EPOCH: 46], \tTest Loss: 0.0891, \tTest Accuracy: 37.56 % \n",
      "\n",
      "Train Epoch: 47 [ 0]\tTrain Loss: 0.002561\n",
      "\n",
      "[EPOCH: 47], \tTest Loss: 0.0899, \tTest Accuracy: 38.04 % \n",
      "\n",
      "Train Epoch: 48 [ 0]\tTrain Loss: 0.002340\n",
      "\n",
      "[EPOCH: 48], \tTest Loss: 0.0905, \tTest Accuracy: 38.04 % \n",
      "\n",
      "Train Epoch: 49 [ 0]\tTrain Loss: 0.002059\n",
      "\n",
      "[EPOCH: 49], \tTest Loss: 0.0911, \tTest Accuracy: 38.04 % \n",
      "\n",
      "Train Epoch: 50 [ 0]\tTrain Loss: 0.001898\n",
      "\n",
      "[EPOCH: 50], \tTest Loss: 0.0916, \tTest Accuracy: 38.52 % \n",
      "\n",
      "Train Epoch: 51 [ 0]\tTrain Loss: 0.001738\n",
      "\n",
      "[EPOCH: 51], \tTest Loss: 0.0921, \tTest Accuracy: 38.28 % \n",
      "\n",
      "Train Epoch: 52 [ 0]\tTrain Loss: 0.001612\n",
      "\n",
      "[EPOCH: 52], \tTest Loss: 0.0926, \tTest Accuracy: 38.04 % \n",
      "\n",
      "Train Epoch: 53 [ 0]\tTrain Loss: 0.001498\n",
      "\n",
      "[EPOCH: 53], \tTest Loss: 0.0930, \tTest Accuracy: 38.28 % \n",
      "\n",
      "Train Epoch: 54 [ 0]\tTrain Loss: 0.001403\n",
      "\n",
      "[EPOCH: 54], \tTest Loss: 0.0935, \tTest Accuracy: 38.28 % \n",
      "\n",
      "Train Epoch: 55 [ 0]\tTrain Loss: 0.001330\n",
      "\n",
      "[EPOCH: 55], \tTest Loss: 0.0939, \tTest Accuracy: 38.28 % \n",
      "\n",
      "Train Epoch: 56 [ 0]\tTrain Loss: 0.001246\n",
      "\n",
      "[EPOCH: 56], \tTest Loss: 0.0943, \tTest Accuracy: 38.52 % \n",
      "\n",
      "Train Epoch: 57 [ 0]\tTrain Loss: 0.001179\n",
      "\n",
      "[EPOCH: 57], \tTest Loss: 0.0946, \tTest Accuracy: 38.28 % \n",
      "\n",
      "Train Epoch: 58 [ 0]\tTrain Loss: 0.001125\n",
      "\n",
      "[EPOCH: 58], \tTest Loss: 0.0950, \tTest Accuracy: 38.76 % \n",
      "\n",
      "Train Epoch: 59 [ 0]\tTrain Loss: 0.001068\n",
      "\n",
      "[EPOCH: 59], \tTest Loss: 0.0954, \tTest Accuracy: 38.76 % \n",
      "\n",
      "Train Epoch: 60 [ 0]\tTrain Loss: 0.001019\n",
      "\n",
      "[EPOCH: 60], \tTest Loss: 0.0957, \tTest Accuracy: 38.76 % \n",
      "\n",
      "Train Epoch: 61 [ 0]\tTrain Loss: 0.000978\n",
      "\n",
      "[EPOCH: 61], \tTest Loss: 0.0961, \tTest Accuracy: 38.52 % \n",
      "\n",
      "Train Epoch: 62 [ 0]\tTrain Loss: 0.000934\n",
      "\n",
      "[EPOCH: 62], \tTest Loss: 0.0964, \tTest Accuracy: 38.76 % \n",
      "\n",
      "Train Epoch: 63 [ 0]\tTrain Loss: 0.000900\n",
      "\n",
      "[EPOCH: 63], \tTest Loss: 0.0967, \tTest Accuracy: 38.76 % \n",
      "\n",
      "Train Epoch: 64 [ 0]\tTrain Loss: 0.000865\n",
      "\n",
      "[EPOCH: 64], \tTest Loss: 0.0970, \tTest Accuracy: 38.52 % \n",
      "\n",
      "Train Epoch: 65 [ 0]\tTrain Loss: 0.000828\n",
      "\n",
      "[EPOCH: 65], \tTest Loss: 0.0974, \tTest Accuracy: 38.52 % \n",
      "\n",
      "Train Epoch: 66 [ 0]\tTrain Loss: 0.000799\n",
      "\n",
      "[EPOCH: 66], \tTest Loss: 0.0976, \tTest Accuracy: 38.52 % \n",
      "\n",
      "Train Epoch: 67 [ 0]\tTrain Loss: 0.000780\n",
      "\n",
      "[EPOCH: 67], \tTest Loss: 0.0979, \tTest Accuracy: 38.52 % \n",
      "\n",
      "Train Epoch: 68 [ 0]\tTrain Loss: 0.000752\n",
      "\n",
      "[EPOCH: 68], \tTest Loss: 0.0981, \tTest Accuracy: 38.52 % \n",
      "\n",
      "Train Epoch: 69 [ 0]\tTrain Loss: 0.000728\n",
      "\n",
      "[EPOCH: 69], \tTest Loss: 0.0984, \tTest Accuracy: 38.28 % \n",
      "\n",
      "Train Epoch: 70 [ 0]\tTrain Loss: 0.000682\n",
      "\n",
      "[EPOCH: 70], \tTest Loss: 0.0986, \tTest Accuracy: 37.80 % \n",
      "\n",
      "Train Epoch: 71 [ 0]\tTrain Loss: 0.000679\n",
      "\n",
      "[EPOCH: 71], \tTest Loss: 0.0990, \tTest Accuracy: 37.80 % \n",
      "\n",
      "Train Epoch: 72 [ 0]\tTrain Loss: 0.000650\n",
      "\n",
      "[EPOCH: 72], \tTest Loss: 0.0993, \tTest Accuracy: 38.04 % \n",
      "\n",
      "Train Epoch: 73 [ 0]\tTrain Loss: 0.000633\n",
      "\n",
      "[EPOCH: 73], \tTest Loss: 0.0997, \tTest Accuracy: 37.80 % \n",
      "\n",
      "Train Epoch: 74 [ 0]\tTrain Loss: 0.000612\n",
      "\n",
      "[EPOCH: 74], \tTest Loss: 0.0999, \tTest Accuracy: 37.80 % \n",
      "\n",
      "Train Epoch: 75 [ 0]\tTrain Loss: 0.000594\n",
      "\n",
      "[EPOCH: 75], \tTest Loss: 0.1003, \tTest Accuracy: 37.80 % \n",
      "\n",
      "Train Epoch: 76 [ 0]\tTrain Loss: 0.000570\n",
      "\n",
      "[EPOCH: 76], \tTest Loss: 0.1006, \tTest Accuracy: 37.80 % \n",
      "\n",
      "Train Epoch: 77 [ 0]\tTrain Loss: 0.000554\n",
      "\n",
      "[EPOCH: 77], \tTest Loss: 0.1008, \tTest Accuracy: 38.04 % \n",
      "\n",
      "Train Epoch: 78 [ 0]\tTrain Loss: 0.000543\n",
      "\n",
      "[EPOCH: 78], \tTest Loss: 0.1012, \tTest Accuracy: 38.04 % \n",
      "\n",
      "Train Epoch: 79 [ 0]\tTrain Loss: 0.000524\n",
      "\n",
      "[EPOCH: 79], \tTest Loss: 0.1014, \tTest Accuracy: 38.04 % \n",
      "\n",
      "Train Epoch: 80 [ 0]\tTrain Loss: 0.000510\n",
      "\n",
      "[EPOCH: 80], \tTest Loss: 0.1017, \tTest Accuracy: 37.80 % \n",
      "\n",
      "Train Epoch: 81 [ 0]\tTrain Loss: 0.000494\n",
      "\n",
      "[EPOCH: 81], \tTest Loss: 0.1020, \tTest Accuracy: 37.80 % \n",
      "\n",
      "Train Epoch: 82 [ 0]\tTrain Loss: 0.000482\n",
      "\n",
      "[EPOCH: 82], \tTest Loss: 0.1023, \tTest Accuracy: 37.80 % \n",
      "\n",
      "Train Epoch: 83 [ 0]\tTrain Loss: 0.000467\n",
      "\n",
      "[EPOCH: 83], \tTest Loss: 0.1025, \tTest Accuracy: 37.80 % \n",
      "\n",
      "Train Epoch: 84 [ 0]\tTrain Loss: 0.000454\n",
      "\n",
      "[EPOCH: 84], \tTest Loss: 0.1030, \tTest Accuracy: 38.04 % \n",
      "\n",
      "Train Epoch: 85 [ 0]\tTrain Loss: 0.000497\n",
      "\n",
      "[EPOCH: 85], \tTest Loss: 0.1029, \tTest Accuracy: 38.04 % \n",
      "\n",
      "Train Epoch: 86 [ 0]\tTrain Loss: 0.000410\n",
      "\n",
      "[EPOCH: 86], \tTest Loss: 0.1032, \tTest Accuracy: 37.80 % \n",
      "\n",
      "Train Epoch: 87 [ 0]\tTrain Loss: 0.000428\n",
      "\n",
      "[EPOCH: 87], \tTest Loss: 0.1035, \tTest Accuracy: 37.80 % \n",
      "\n",
      "Train Epoch: 88 [ 0]\tTrain Loss: 0.000394\n",
      "\n",
      "[EPOCH: 88], \tTest Loss: 0.1039, \tTest Accuracy: 37.80 % \n",
      "\n",
      "Train Epoch: 89 [ 0]\tTrain Loss: 0.000389\n",
      "\n",
      "[EPOCH: 89], \tTest Loss: 0.1041, \tTest Accuracy: 38.04 % \n",
      "\n",
      "Train Epoch: 90 [ 0]\tTrain Loss: 0.000370\n",
      "\n",
      "[EPOCH: 90], \tTest Loss: 0.1044, \tTest Accuracy: 37.80 % \n",
      "\n",
      "Train Epoch: 91 [ 0]\tTrain Loss: 0.000363\n",
      "\n",
      "[EPOCH: 91], \tTest Loss: 0.1047, \tTest Accuracy: 38.04 % \n",
      "\n",
      "Train Epoch: 92 [ 0]\tTrain Loss: 0.000347\n",
      "\n",
      "[EPOCH: 92], \tTest Loss: 0.1050, \tTest Accuracy: 37.80 % \n",
      "\n",
      "Train Epoch: 93 [ 0]\tTrain Loss: 0.000328\n",
      "\n",
      "[EPOCH: 93], \tTest Loss: 0.1052, \tTest Accuracy: 37.80 % \n",
      "\n",
      "Train Epoch: 94 [ 0]\tTrain Loss: 0.000340\n",
      "\n",
      "[EPOCH: 94], \tTest Loss: 0.1054, \tTest Accuracy: 37.80 % \n",
      "\n",
      "Train Epoch: 95 [ 0]\tTrain Loss: 0.000318\n",
      "\n",
      "[EPOCH: 95], \tTest Loss: 0.1057, \tTest Accuracy: 37.80 % \n",
      "\n",
      "Train Epoch: 96 [ 0]\tTrain Loss: 0.000309\n",
      "\n",
      "[EPOCH: 96], \tTest Loss: 0.1061, \tTest Accuracy: 37.56 % \n",
      "\n",
      "Train Epoch: 97 [ 0]\tTrain Loss: 0.000293\n",
      "\n",
      "[EPOCH: 97], \tTest Loss: 0.1064, \tTest Accuracy: 37.56 % \n",
      "Train Epoch: 98 [ 0]\tTrain Loss: 0.000284\n",
      "\n",
      "[EPOCH: 98], \tTest Loss: 0.1068, \tTest Accuracy: 37.56 % \n",
      "\n",
      "Train Epoch: 99 [ 0]\tTrain Loss: 0.000271\n",
      "\n",
      "[EPOCH: 99], \tTest Loss: 0.1071, \tTest Accuracy: 37.56 % \n",
      "\n",
      "Train Epoch: 100 [ 0]\tTrain Loss: 0.000261\n",
      "\n",
      "[EPOCH: 100], \tTest Loss: 0.1074, \tTest Accuracy: 37.56 % \n"
     ]
    }
   ],
   "source": [
    "## train에 쓰는 데이터와 test에 쓰는 데이터를 다르게 둬야 하는데, 지금은 그렇게 하지 못 함.\n",
    "test_loss_list, test_accuracy_list = [], []\n",
    "\n",
    "for epoch in range(1, EPOCHS + 1):\n",
    "    \n",
    "    train(epoch, cnn_model, trainDL, optimizer, log_interval = 50)\n",
    "    test_loss, test_accuracy = evaluate(cnn_model, testDL)\n",
    "    test_loss_list.append(test_loss)\n",
    "    test_accuracy_list.append(test_accuracy)\n",
    "    \n",
    "    print(f\"\\n[EPOCH: {epoch}], \\tTest Loss: {test_loss:.4f}, \\tTest Accuracy: {test_accuracy:.2f} % \\n\")"
   ],
   "metadata": {
    "collapsed": false,
    "ExecuteTime": {
     "end_time": "2024-03-27T05:27:39.797816600Z",
     "start_time": "2024-03-27T05:26:23.430372700Z"
    }
   },
   "id": "2d0c581de2dd3e7c",
   "execution_count": 354
  },
  {
   "cell_type": "code",
   "outputs": [
    {
     "data": {
      "text/plain": "<Figure size 640x480 with 2 Axes>",
      "image/png": "[encoded data removed]"
     },
     "metadata": {},
     "output_type": "display_data"
    }
   ],
   "source": [
    "### 테스트 Loss와 Acc 시각화\n",
    "fig, ax1 = plt.subplots()\n",
    "ax1.plot(test_loss_list, label='loss', color='red')\n",
    "\n",
    "ax2 = ax1.twinx()\n",
    "ax2.plot(test_accuracy_list, label='acc', color='blue')\n",
    "\n",
    "ax1.legend(loc='upper left')\n",
    "ax2.legend(loc='upper right')\n",
    "plt.title('[TEST] loss & acc')\n",
    "plt.show()"
   ],
   "metadata": {
    "collapsed": false,
    "ExecuteTime": {
     "end_time": "2024-03-27T02:41:48.520951400Z",
     "start_time": "2024-03-27T02:41:48.299479600Z"
    }
   },
   "id": "b395a94eb892cd63",
   "execution_count": 298
  },
  {
   "cell_type": "code",
   "outputs": [
    {
     "name": "stdout",
     "output_type": "stream",
     "text": [
      "C:\\Users\\kdp\\PycharmProjects\\KDT_09_OpenCV\\WORK_OPENCV\\WORK_240326_TEAM_PROJECT\n"
     ]
    }
   ],
   "source": [
    "import os, sys\n",
    "from rembg import remove\n",
    "from PIL import Image\n",
    "\n",
    "print(os.getcwd())\n",
    "\n",
    "def img_rembg(img_path, modified_path):\n",
    "    files = os.listdir(img_path)    # 파일명 리스트 (list)\n",
    "    \n",
    "    if not os.path.exists(modified_path):\n",
    "        os.makedirs(modified_path)  # resize 이미지가 저장될 폴더가 없을 경우 생성\n",
    "    \n",
    "    for file in files:\n",
    "        img = Image.open(img_path + '/' + file)           # <class 'PIL.JpegImagePlugin.JpegImageFile'>\n",
    "        img = img.convert('RGBA')\n",
    "        img = remove(img)\n",
    "        img.save(modified_path + '/' + file.replace('jpg', 'png'))"
   ],
   "metadata": {
    "collapsed": false,
    "ExecuteTime": {
     "end_time": "2024-03-27T02:51:20.217377200Z",
     "start_time": "2024-03-27T02:51:20.191434600Z"
    }
   },
   "id": "ee2ce14d33f6e40",
   "execution_count": 306
  },
  {
   "cell_type": "code",
   "outputs": [],
   "source": [
    "original_path = './image/BIG'\n",
    "modified_path = './modified/BIG'\n",
    "for folder in os.listdir(original_path):\n",
    "    img_rembg(original_path + '/' + folder, modified_path + '/' + folder)"
   ],
   "metadata": {
    "collapsed": false,
    "is_executing": true,
    "ExecuteTime": {
     "start_time": "2024-03-27T03:24:45.762932600Z"
    }
   },
   "id": "186ff2ae3755c92b",
   "execution_count": null
  },
  {
   "cell_type": "code",
   "outputs": [],
   "source": [
    "dog_path = './image/BIG/AfghanHound_big'\n",
    "modified_path = './modified'\n",
    "img_rembg(dog_path, modified_path)"
   ],
   "metadata": {
    "collapsed": false,
    "ExecuteTime": {
     "end_time": "2024-03-27T03:06:48.229225700Z",
     "start_time": "2024-03-27T03:00:32.744914500Z"
    }
   },
   "id": "4d4ab4c95fdd84c1",
   "execution_count": 310
  },
  {
   "cell_type": "code",
   "outputs": [
    {
     "name": "stdout",
     "output_type": "stream",
     "text": [
      "abc\n"
     ]
    }
   ],
   "source": [
    "print('abc')"
   ],
   "metadata": {
    "collapsed": false,
    "ExecuteTime": {
     "end_time": "2024-03-27T05:23:24.387063400Z",
     "start_time": "2024-03-27T05:23:24.322877500Z"
    }
   },
   "id": "7ac14643065d50d1",
   "execution_count": 312
  },
  {
   "cell_type": "code",
   "outputs": [],
   "source": [],
   "metadata": {
    "collapsed": false
   },
   "id": "c4231dde4bcecb82"
  }
 ],
 "metadata": {
  "kernelspec": {
   "display_name": "Python 3",
   "language": "python",
   "name": "python3"
  },
  "language_info": {
   "codemirror_mode": {
    "name": "ipython",
    "version": 2
   },
   "file_extension": ".py",
   "mimetype": "text/x-python",
   "name": "python",
   "nbconvert_exporter": "python",
   "pygments_lexer": "ipython2",
   "version": "2.7.6"
  }
 },
 "nbformat": 4,
 "nbformat_minor": 5
}

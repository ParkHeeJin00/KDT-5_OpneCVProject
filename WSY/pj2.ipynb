{
 "cells": [
  {
   "cell_type": "code",
   "execution_count": 15,
   "id": "initial_id",
   "metadata": {
    "collapsed": true,
    "ExecuteTime": {
     "end_time": "2024-03-27T05:22:33.746866Z",
     "start_time": "2024-03-27T05:22:30.441087Z"
    }
   },
   "outputs": [],
   "source": [
    "from PIL import Image\n",
    "import torchvision.transforms as transforms\n",
    "import cv2\n",
    "import torch\n",
    "import torch.nn as nn\n",
    "from torchvision.datasets import ImageFolder\n",
    "import pandas as pd\n",
    "from torch.utils.data import DataLoader, Dataset\n",
    "import numpy as np\n",
    "import torch.nn.functional as f\n",
    "import torchmetrics.functional as metrics\n",
    "from sklearn.model_selection import train_test_split\n",
    "from torch.utils.data import TensorDataset, Subset\n",
    "from torchvision.models import resnet50"
   ]
  },
  {
   "cell_type": "code",
   "outputs": [],
   "source": [
    "preprocessing = transforms.Compose([\n",
    "    transforms.Resize((32, 32)),  # 32x32 크기\n",
    "    transforms.ToTensor()\n",
    "])"
   ],
   "metadata": {
    "collapsed": false,
    "ExecuteTime": {
     "end_time": "2024-03-27T05:23:12.575029Z",
     "start_time": "2024-03-27T05:23:12.557575Z"
    }
   },
   "id": "5f079020bfd23b37",
   "execution_count": 17
  },
  {
   "cell_type": "code",
   "outputs": [],
   "source": [
    "#PreProcessing\n",
    "preprocessing = transforms.Compose([transforms.Resize((32, 32)), transforms.ToTensor()])\n",
    "#폴뎌명이 분류 클래스가 되는 데이터셋 만들기\n",
    "trainroot = 'datas/mid_dogs/'\n",
    "dataset = ImageFolder(root=trainroot, transform=preprocessing)  #전처리\n",
    "loader = DataLoader(dataset=dataset, batch_size=10, shuffle=True)  #데이터로더\n",
    "# 데이터셋을 트레인셋과 테스트셋으로 나눕니다. 예를 들어, 전체 데이터셋의 80%를 트레인셋으로 사용할 수 있습니다.\n",
    "train_size = int(0.8 * len(dataset))\n",
    "test_size = len(dataset) - train_size\n",
    "\n",
    "train_dataset = Subset(dataset, range(0, train_size))\n",
    "test_dataset = Subset(dataset, range(train_size, len(dataset)))\n",
    "\n",
    "# 트레인셋과 테스트셋에 대한 DataLoader를 각각 생성합니다.\n",
    "train_loader = DataLoader(dataset=train_dataset, batch_size=10, shuffle=True)\n",
    "test_loader = DataLoader(dataset=test_dataset, batch_size=10, shuffle=False)\n",
    "num_classes = len(dataset.classes)\n",
    "# 이미지 / 라벨 분리\n",
    "images, labels = [], []\n",
    "\n",
    "for img, lab in dataset:\n",
    "    images.append(np.array(img))\n",
    "    labels.append(lab)\n",
    "\n",
    "images = np.array(images)\n",
    "labels = np.array(labels)"
   ],
   "metadata": {
    "collapsed": false,
    "ExecuteTime": {
     "end_time": "2024-03-27T05:23:55.045374Z",
     "start_time": "2024-03-27T05:23:13.113708Z"
    }
   },
   "id": "481b11736b13e99c",
   "execution_count": 18
  },
  {
   "cell_type": "code",
   "outputs": [],
   "source": [],
   "metadata": {
    "collapsed": false
   },
   "id": "d2f437b56b57ccc8"
  }
 ],
 "metadata": {
  "kernelspec": {
   "display_name": "Python 3",
   "language": "python",
   "name": "python3"
  },
  "language_info": {
   "codemirror_mode": {
    "name": "ipython",
    "version": 2
   },
   "file_extension": ".py",
   "mimetype": "text/x-python",
   "name": "python",
   "nbconvert_exporter": "python",
   "pygments_lexer": "ipython2",
   "version": "2.7.6"
  }
 },
 "nbformat": 4,
 "nbformat_minor": 5
}

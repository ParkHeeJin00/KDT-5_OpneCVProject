{
 "cells": [
  {
   "cell_type": "code",
   "execution_count": 1,
   "id": "initial_id",
   "metadata": {
    "collapsed": true,
    "ExecuteTime": {
     "end_time": "2024-03-27T05:02:09.232390Z",
     "start_time": "2024-03-27T05:02:07.802802Z"
    }
   },
   "outputs": [
    {
     "name": "stdout",
     "output_type": "stream",
     "text": [
      "C:\\Users\\kdp\\PycharmProjects\\EXAM_DL\\OPENCV\\Project\n"
     ]
    }
   ],
   "source": [
    "import os, sys\n",
    "from rembg import remove\n",
    "from PIL import Image\n",
    "\n",
    "print(os.getcwd())\n",
    "\n",
    "def img_rembg(img_path, modified_path):\n",
    "    files = os.listdir(img_path)    # 파일명 리스트 (list)\n",
    "    \n",
    "    if not os.path.exists(modified_path):\n",
    "        os.makedirs(modified_path)  # resize 이미지가 저장될 폴더가 없을 경우 생성\n",
    "    \n",
    "    for file in files:\n",
    "        img = Image.open(img_path + '/' + file)           # <class 'PIL.JpegImagePlugin.JpegImageFile'>\n",
    "        img = img.convert('RGBA')\n",
    "        img = remove(img)\n",
    "        img.save(modified_path + '/' + file.replace('jpg', 'png'))"
   ]
  },
  {
   "cell_type": "code",
   "outputs": [
    {
     "name": "stderr",
     "output_type": "stream",
     "text": [
      "Downloading data from 'https://github.com/danielgatis/rembg/releases/download/v0.0.0/u2net.onnx' to file 'C:\\Users\\kdp\\.u2net\\u2net.onnx'.\n",
      "100%|########################################| 176M/176M [00:00<00:00, 165GB/s]\n"
     ]
    }
   ],
   "source": [
    "original_path = './datas/mid_dogs/'\n",
    "modified_path = './datas/modified/'\n",
    "\n",
    "for folder in os.listdir(original_path):\n",
    "    img_rembg(original_path+'/'+folder, modified_path+'/'+folder)"
   ],
   "metadata": {
    "collapsed": false,
    "is_executing": true,
    "ExecuteTime": {
     "start_time": "2024-03-27T05:02:09.235412Z"
    }
   },
   "id": "200abb019946e207"
  }
 ],
 "metadata": {
  "kernelspec": {
   "display_name": "Python 3",
   "language": "python",
   "name": "python3"
  },
  "language_info": {
   "codemirror_mode": {
    "name": "ipython",
    "version": 2
   },
   "file_extension": ".py",
   "mimetype": "text/x-python",
   "name": "python",
   "nbconvert_exporter": "python",
   "pygments_lexer": "ipython2",
   "version": "2.7.6"
  }
 },
 "nbformat": 4,
 "nbformat_minor": 5
}
